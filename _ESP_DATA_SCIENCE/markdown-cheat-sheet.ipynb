{
 "cells": [
  {
   "attachments": {},
   "cell_type": "markdown",
   "metadata": {},
   "source": [
    "# Markdown Cheat Sheet\n",
    "\n",
    "Thanks for visiting [The Markdown Guide](https://www.markdownguide.org)!\n",
    "\n",
    "This Markdown cheat sheet provides a quick overview of all the Markdown syntax elements. It can’t cover every edge case, so if you need more information about any of these elements, refer to the reference guides for [basic syntax](https://www.markdownguide.org/basic-syntax) and [extended syntax](https://www.markdownguide.org/extended-syntax).\n",
    "\n",
    "Thanks for link [The Markdown cheats](https://www.markdownguide.org/cheat-sheet/)!"
   ]
  },
  {
   "attachments": {},
   "cell_type": "markdown",
   "metadata": {},
   "source": [
    "## Basic Syntax\n",
    "\n",
    "These are the elements outlined in John Gruber’s original design document. All Markdown applications support these elements."
   ]
  },
  {
   "attachments": {},
   "cell_type": "markdown",
   "metadata": {},
   "source": [
    "### Heading\n",
    "\n",
    "# H1\n",
    "## H2\n",
    "### H3\n",
    "\n",
    "### Bold\n",
    "\n",
    "**bold text**\n",
    "\n",
    "### Italic\n",
    "\n",
    "*italicized text*"
   ]
  },
  {
   "attachments": {},
   "cell_type": "markdown",
   "metadata": {},
   "source": [
    "### Blockquote\n",
    "\n",
    "> blockquote\n",
    "\n",
    "### Ordered List\n",
    "\n",
    "1. First item\n",
    "2. Second item\n",
    "3. Third item\n",
    "\n",
    "### Unordered List\n",
    "\n",
    "- First item\n",
    "- Second item\n",
    "- Third item"
   ]
  },
  {
   "attachments": {},
   "cell_type": "markdown",
   "metadata": {},
   "source": [
    "### Code\n",
    "\n",
    "`code`\n",
    "\n",
    "### Horizontal Rule\n",
    "\n",
    "---\n",
    "\n",
    "### Link\n",
    "\n",
    "[Markdown Guide](https://www.markdownguide.org)\n",
    "\n",
    "### Image\n",
    "\n",
    "![alt text](https://www.markdownguide.org/assets/images/tux.png)\n",
    "\n",
    "## Extended Syntax\n",
    "\n",
    "These elements extend the basic syntax by adding additional features. Not all Markdown applications support these elements."
   ]
  },
  {
   "attachments": {},
   "cell_type": "markdown",
   "metadata": {},
   "source": [
    "### Table\n",
    "\n",
    "| Syntax | Description |\n",
    "| ----------- | ----------- |\n",
    "| Header | Title |\n",
    "| Paragraph | Text |\n",
    "\n",
    "### Fenced Code Block\n",
    "\n",
    "```\n",
    "{\n",
    "  \"firstName\": \"John\",\n",
    "  \"lastName\": \"Smith\",\n",
    "  \"age\": 25\n",
    "}\n",
    "```"
   ]
  },
  {
   "attachments": {},
   "cell_type": "markdown",
   "metadata": {},
   "source": [
    "### Footnote\n",
    "\n",
    "Here's a sentence with a footnote. [^1]\n",
    "\n",
    "[^1]: This is the footnote.\n",
    "\n",
    "### Heading ID\n",
    "\n",
    "### My Great Heading {#custom-id}\n",
    "\n",
    "### Definition List\n",
    "\n",
    "term\n",
    ": definition"
   ]
  },
  {
   "attachments": {},
   "cell_type": "markdown",
   "metadata": {},
   "source": [
    "### Strikethrough\n",
    "\n",
    "~~The world is flat.~~\n",
    "\n",
    "### Task List\n",
    "\n",
    "- [x] Write the press release\n",
    "- [ ] Update the website\n",
    "- [ ] Contact the media\n",
    "\n",
    "### Emoji\n",
    "\n",
    "That is so funny! :joy:\n",
    "\n",
    "(See also [Copying and Pasting Emoji](https://www.markdownguide.org/extended-syntax/#copying-and-pasting-emoji))"
   ]
  },
  {
   "attachments": {},
   "cell_type": "markdown",
   "metadata": {},
   "source": [
    "### Highlight\n",
    "\n",
    "I need to highlight these ==very important words==.\n",
    "\n",
    "### Subscript\n",
    "\n",
    "H~2~O\n",
    "\n",
    "### Superscript\n",
    "\n",
    "X^2^"
   ]
  }
 ],
 "metadata": {
  "language_info": {
   "name": "python"
  },
  "orig_nbformat": 4
 },
 "nbformat": 4,
 "nbformat_minor": 2
}
