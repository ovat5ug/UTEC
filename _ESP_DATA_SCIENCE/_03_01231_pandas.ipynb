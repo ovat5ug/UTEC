{
  "cells": [
    {
      "cell_type": "code",
      "execution_count": 2,
      "metadata": {
        "cell_id": "09db294c754841afb045dc1c93309dc4",
        "deepnote_app_coordinates": {
          "h": 5,
          "w": 12,
          "x": 0,
          "y": 6
        },
        "deepnote_cell_type": "code",
        "deepnote_to_be_reexecuted": false,
        "execution_millis": 8,
        "execution_start": 1645375717926,
        "id": "J6y-5xUFQAlf",
        "source_hash": "9b82ee11",
        "tags": []
      },
      "outputs": [],
      "source": [
        "import pandas as pd"
      ]
    },
    {
      "cell_type": "markdown",
      "metadata": {
        "id": "aYB2CVjMFd-1"
      },
      "source": [
        "# ***Uso de pandas ***"
      ]
    },
    {
      "cell_type": "markdown",
      "metadata": {
        "cell_id": "c71e09001e4f400db0cab705aff71952",
        "deepnote_app_coordinates": {
          "h": 5,
          "w": 12,
          "x": 0,
          "y": 12
        },
        "deepnote_cell_type": "markdown",
        "id": "5wqMNF0aQAlj",
        "tags": []
      },
      "source": [
        "## DataFrame\n",
        "\n",
        "### Crear un DataFrame con Python"
      ]
    },
    {
      "cell_type": "markdown",
      "metadata": {
        "cell_id": "e9f8cc3a9092417bbad5e495f1d86fe5",
        "deepnote_app_coordinates": {
          "h": 5,
          "w": 12,
          "x": 0,
          "y": 18
        },
        "deepnote_cell_type": "markdown",
        "id": "tiWauvGFQAlj",
        "tags": []
      },
      "source": [
        "#### 1) Diccionario de listas (columna por columna)"
      ]
    },
    {
      "cell_type": "code",
      "execution_count": null,
      "metadata": {
        "cell_id": "c9383cd1d08a4d5291587b1d5883fb63",
        "colab": {
          "base_uri": "https://localhost:8080/",
          "height": 112
        },
        "deepnote_app_coordinates": {
          "h": 5,
          "w": 12,
          "x": 0,
          "y": 24
        },
        "deepnote_cell_type": "code",
        "deepnote_to_be_reexecuted": false,
        "execution_millis": 46,
        "execution_start": 1645375717992,
        "id": "-vnO0qS3QAlk",
        "outputId": "e5c10e39-0915-4c7b-c270-03572331dcac",
        "source_hash": "f7383565",
        "tags": []
      },
      "outputs": [
        {
          "data": {
            "text/html": [
              "\n",
              "  <div id=\"df-20f0bbe8-0181-42e9-95ab-024cfea4a48a\">\n",
              "    <div class=\"colab-df-container\">\n",
              "      <div>\n",
              "<style scoped>\n",
              "    .dataframe tbody tr th:only-of-type {\n",
              "        vertical-align: middle;\n",
              "    }\n",
              "\n",
              "    .dataframe tbody tr th {\n",
              "        vertical-align: top;\n",
              "    }\n",
              "\n",
              "    .dataframe thead th {\n",
              "        text-align: right;\n",
              "    }\n",
              "</style>\n",
              "<table border=\"1\" class=\"dataframe\">\n",
              "  <thead>\n",
              "    <tr style=\"text-align: right;\">\n",
              "      <th></th>\n",
              "      <th>player</th>\n",
              "      <th>year</th>\n",
              "      <th>goals</th>\n",
              "    </tr>\n",
              "  </thead>\n",
              "  <tbody>\n",
              "    <tr>\n",
              "      <th>0</th>\n",
              "      <td>Lionel Messi</td>\n",
              "      <td>2016</td>\n",
              "      <td>37</td>\n",
              "    </tr>\n",
              "    <tr>\n",
              "      <th>1</th>\n",
              "      <td>Cristiano Ronaldo</td>\n",
              "      <td>2016</td>\n",
              "      <td>25</td>\n",
              "    </tr>\n",
              "  </tbody>\n",
              "</table>\n",
              "</div>\n",
              "      <button class=\"colab-df-convert\" onclick=\"convertToInteractive('df-20f0bbe8-0181-42e9-95ab-024cfea4a48a')\"\n",
              "              title=\"Convert this dataframe to an interactive table.\"\n",
              "              style=\"display:none;\">\n",
              "        \n",
              "  <svg xmlns=\"http://www.w3.org/2000/svg\" height=\"24px\"viewBox=\"0 0 24 24\"\n",
              "       width=\"24px\">\n",
              "    <path d=\"M0 0h24v24H0V0z\" fill=\"none\"/>\n",
              "    <path d=\"M18.56 5.44l.94 2.06.94-2.06 2.06-.94-2.06-.94-.94-2.06-.94 2.06-2.06.94zm-11 1L8.5 8.5l.94-2.06 2.06-.94-2.06-.94L8.5 2.5l-.94 2.06-2.06.94zm10 10l.94 2.06.94-2.06 2.06-.94-2.06-.94-.94-2.06-.94 2.06-2.06.94z\"/><path d=\"M17.41 7.96l-1.37-1.37c-.4-.4-.92-.59-1.43-.59-.52 0-1.04.2-1.43.59L10.3 9.45l-7.72 7.72c-.78.78-.78 2.05 0 2.83L4 21.41c.39.39.9.59 1.41.59.51 0 1.02-.2 1.41-.59l7.78-7.78 2.81-2.81c.8-.78.8-2.07 0-2.86zM5.41 20L4 18.59l7.72-7.72 1.47 1.35L5.41 20z\"/>\n",
              "  </svg>\n",
              "      </button>\n",
              "      \n",
              "  <style>\n",
              "    .colab-df-container {\n",
              "      display:flex;\n",
              "      flex-wrap:wrap;\n",
              "      gap: 12px;\n",
              "    }\n",
              "\n",
              "    .colab-df-convert {\n",
              "      background-color: #E8F0FE;\n",
              "      border: none;\n",
              "      border-radius: 50%;\n",
              "      cursor: pointer;\n",
              "      display: none;\n",
              "      fill: #1967D2;\n",
              "      height: 32px;\n",
              "      padding: 0 0 0 0;\n",
              "      width: 32px;\n",
              "    }\n",
              "\n",
              "    .colab-df-convert:hover {\n",
              "      background-color: #E2EBFA;\n",
              "      box-shadow: 0px 1px 2px rgba(60, 64, 67, 0.3), 0px 1px 3px 1px rgba(60, 64, 67, 0.15);\n",
              "      fill: #174EA6;\n",
              "    }\n",
              "\n",
              "    [theme=dark] .colab-df-convert {\n",
              "      background-color: #3B4455;\n",
              "      fill: #D2E3FC;\n",
              "    }\n",
              "\n",
              "    [theme=dark] .colab-df-convert:hover {\n",
              "      background-color: #434B5C;\n",
              "      box-shadow: 0px 1px 3px 1px rgba(0, 0, 0, 0.15);\n",
              "      filter: drop-shadow(0px 1px 2px rgba(0, 0, 0, 0.3));\n",
              "      fill: #FFFFFF;\n",
              "    }\n",
              "  </style>\n",
              "\n",
              "      <script>\n",
              "        const buttonEl =\n",
              "          document.querySelector('#df-20f0bbe8-0181-42e9-95ab-024cfea4a48a button.colab-df-convert');\n",
              "        buttonEl.style.display =\n",
              "          google.colab.kernel.accessAllowed ? 'block' : 'none';\n",
              "\n",
              "        async function convertToInteractive(key) {\n",
              "          const element = document.querySelector('#df-20f0bbe8-0181-42e9-95ab-024cfea4a48a');\n",
              "          const dataTable =\n",
              "            await google.colab.kernel.invokeFunction('convertToInteractive',\n",
              "                                                     [key], {});\n",
              "          if (!dataTable) return;\n",
              "\n",
              "          const docLinkHtml = 'Like what you see? Visit the ' +\n",
              "            '<a target=\"_blank\" href=https://colab.research.google.com/notebooks/data_table.ipynb>data table notebook</a>'\n",
              "            + ' to learn more about interactive tables.';\n",
              "          element.innerHTML = '';\n",
              "          dataTable['output_type'] = 'display_data';\n",
              "          await google.colab.output.renderOutput(dataTable, element);\n",
              "          const docLink = document.createElement('div');\n",
              "          docLink.innerHTML = docLinkHtml;\n",
              "          element.appendChild(docLink);\n",
              "        }\n",
              "      </script>\n",
              "    </div>\n",
              "  </div>\n",
              "  "
            ],
            "text/plain": [
              "              player  year  goals\n",
              "0       Lionel Messi  2016     37\n",
              "1  Cristiano Ronaldo  2016     25"
            ]
          },
          "execution_count": 2,
          "metadata": {},
          "output_type": "execute_result"
        }
      ],
      "source": [
        "import pandas as pd\n",
        "football_dict = {\n",
        "    \"player\": [\"Lionel Messi\", \"Cristiano Ronaldo\"],\n",
        "    \"year\": [2016, 2016],\n",
        "    \"goals\": [37, 25]\n",
        "}\n",
        "football_stats = pd.DataFrame(football_dict)\n",
        "football_stats"
      ]
    },
    {
      "cell_type": "markdown",
      "metadata": {
        "cell_id": "0aa2be3e9167408d97de28f9946b912b",
        "deepnote_app_coordinates": {
          "h": 5,
          "w": 12,
          "x": 0,
          "y": 30
        },
        "deepnote_cell_type": "markdown",
        "id": "vFdvo43JQAll",
        "tags": []
      },
      "source": [
        "#### 2) Lista de diccionarios (fila por fila)"
      ]
    },
    {
      "cell_type": "code",
      "execution_count": null,
      "metadata": {
        "cell_id": "1a09cc05d2be4630a1f856ab6eecfe11",
        "colab": {
          "base_uri": "https://localhost:8080/",
          "height": 112
        },
        "deepnote_app_coordinates": {
          "h": 5,
          "w": 12,
          "x": 0,
          "y": 36
        },
        "deepnote_cell_type": "code",
        "deepnote_to_be_reexecuted": false,
        "execution_millis": 0,
        "execution_start": 1645375718037,
        "id": "oyMxvhC3QAlm",
        "outputId": "976f16c2-7aa3-4e95-f6bf-068626d02d34",
        "source_hash": "4bd5f41c",
        "tags": []
      },
      "outputs": [
        {
          "data": {
            "text/html": [
              "\n",
              "  <div id=\"df-9625dcc2-939d-4f8d-81a2-e504fd3a4086\">\n",
              "    <div class=\"colab-df-container\">\n",
              "      <div>\n",
              "<style scoped>\n",
              "    .dataframe tbody tr th:only-of-type {\n",
              "        vertical-align: middle;\n",
              "    }\n",
              "\n",
              "    .dataframe tbody tr th {\n",
              "        vertical-align: top;\n",
              "    }\n",
              "\n",
              "    .dataframe thead th {\n",
              "        text-align: right;\n",
              "    }\n",
              "</style>\n",
              "<table border=\"1\" class=\"dataframe\">\n",
              "  <thead>\n",
              "    <tr style=\"text-align: right;\">\n",
              "      <th></th>\n",
              "      <th>player</th>\n",
              "      <th>year</th>\n",
              "      <th>goals</th>\n",
              "    </tr>\n",
              "  </thead>\n",
              "  <tbody>\n",
              "    <tr>\n",
              "      <th>0</th>\n",
              "      <td>Lionel Messi</td>\n",
              "      <td>2016</td>\n",
              "      <td>37</td>\n",
              "    </tr>\n",
              "    <tr>\n",
              "      <th>1</th>\n",
              "      <td>Cristiano Ronaldo</td>\n",
              "      <td>2016</td>\n",
              "      <td>25</td>\n",
              "    </tr>\n",
              "  </tbody>\n",
              "</table>\n",
              "</div>\n",
              "      <button class=\"colab-df-convert\" onclick=\"convertToInteractive('df-9625dcc2-939d-4f8d-81a2-e504fd3a4086')\"\n",
              "              title=\"Convert this dataframe to an interactive table.\"\n",
              "              style=\"display:none;\">\n",
              "        \n",
              "  <svg xmlns=\"http://www.w3.org/2000/svg\" height=\"24px\"viewBox=\"0 0 24 24\"\n",
              "       width=\"24px\">\n",
              "    <path d=\"M0 0h24v24H0V0z\" fill=\"none\"/>\n",
              "    <path d=\"M18.56 5.44l.94 2.06.94-2.06 2.06-.94-2.06-.94-.94-2.06-.94 2.06-2.06.94zm-11 1L8.5 8.5l.94-2.06 2.06-.94-2.06-.94L8.5 2.5l-.94 2.06-2.06.94zm10 10l.94 2.06.94-2.06 2.06-.94-2.06-.94-.94-2.06-.94 2.06-2.06.94z\"/><path d=\"M17.41 7.96l-1.37-1.37c-.4-.4-.92-.59-1.43-.59-.52 0-1.04.2-1.43.59L10.3 9.45l-7.72 7.72c-.78.78-.78 2.05 0 2.83L4 21.41c.39.39.9.59 1.41.59.51 0 1.02-.2 1.41-.59l7.78-7.78 2.81-2.81c.8-.78.8-2.07 0-2.86zM5.41 20L4 18.59l7.72-7.72 1.47 1.35L5.41 20z\"/>\n",
              "  </svg>\n",
              "      </button>\n",
              "      \n",
              "  <style>\n",
              "    .colab-df-container {\n",
              "      display:flex;\n",
              "      flex-wrap:wrap;\n",
              "      gap: 12px;\n",
              "    }\n",
              "\n",
              "    .colab-df-convert {\n",
              "      background-color: #E8F0FE;\n",
              "      border: none;\n",
              "      border-radius: 50%;\n",
              "      cursor: pointer;\n",
              "      display: none;\n",
              "      fill: #1967D2;\n",
              "      height: 32px;\n",
              "      padding: 0 0 0 0;\n",
              "      width: 32px;\n",
              "    }\n",
              "\n",
              "    .colab-df-convert:hover {\n",
              "      background-color: #E2EBFA;\n",
              "      box-shadow: 0px 1px 2px rgba(60, 64, 67, 0.3), 0px 1px 3px 1px rgba(60, 64, 67, 0.15);\n",
              "      fill: #174EA6;\n",
              "    }\n",
              "\n",
              "    [theme=dark] .colab-df-convert {\n",
              "      background-color: #3B4455;\n",
              "      fill: #D2E3FC;\n",
              "    }\n",
              "\n",
              "    [theme=dark] .colab-df-convert:hover {\n",
              "      background-color: #434B5C;\n",
              "      box-shadow: 0px 1px 3px 1px rgba(0, 0, 0, 0.15);\n",
              "      filter: drop-shadow(0px 1px 2px rgba(0, 0, 0, 0.3));\n",
              "      fill: #FFFFFF;\n",
              "    }\n",
              "  </style>\n",
              "\n",
              "      <script>\n",
              "        const buttonEl =\n",
              "          document.querySelector('#df-9625dcc2-939d-4f8d-81a2-e504fd3a4086 button.colab-df-convert');\n",
              "        buttonEl.style.display =\n",
              "          google.colab.kernel.accessAllowed ? 'block' : 'none';\n",
              "\n",
              "        async function convertToInteractive(key) {\n",
              "          const element = document.querySelector('#df-9625dcc2-939d-4f8d-81a2-e504fd3a4086');\n",
              "          const dataTable =\n",
              "            await google.colab.kernel.invokeFunction('convertToInteractive',\n",
              "                                                     [key], {});\n",
              "          if (!dataTable) return;\n",
              "\n",
              "          const docLinkHtml = 'Like what you see? Visit the ' +\n",
              "            '<a target=\"_blank\" href=https://colab.research.google.com/notebooks/data_table.ipynb>data table notebook</a>'\n",
              "            + ' to learn more about interactive tables.';\n",
              "          element.innerHTML = '';\n",
              "          dataTable['output_type'] = 'display_data';\n",
              "          await google.colab.output.renderOutput(dataTable, element);\n",
              "          const docLink = document.createElement('div');\n",
              "          docLink.innerHTML = docLinkHtml;\n",
              "          element.appendChild(docLink);\n",
              "        }\n",
              "      </script>\n",
              "    </div>\n",
              "  </div>\n",
              "  "
            ],
            "text/plain": [
              "              player  year  goals\n",
              "0       Lionel Messi  2016     37\n",
              "1  Cristiano Ronaldo  2016     25"
            ]
          },
          "execution_count": 7,
          "metadata": {},
          "output_type": "execute_result"
        }
      ],
      "source": [
        "football_list = [\n",
        "    {\"player\": \"Lionel Messi\", \"year\": 2016, \"goals\": 37},\n",
        "    {\"player\": \"Cristiano Ronaldo\", \"year\": 2016, \"goals\": 25},\n",
        "]\n",
        "football_stats = pd.DataFrame(football_list)\n",
        "football_stats"
      ]
    },
    {
      "cell_type": "markdown",
      "metadata": {
        "cell_id": "67da7d80699145b6b05f074f23bec78d",
        "deepnote_app_coordinates": {
          "h": 5,
          "w": 12,
          "x": 0,
          "y": 42
        },
        "deepnote_cell_type": "markdown",
        "id": "oEMnN4TWQAlm",
        "tags": []
      },
      "source": [
        "## Importar datos\n",
        "\n",
        "### Base de datos\n",
        "\n",
        "Usaremos una base de datos de las 5 ligas top de Europa entre los años 2014 y 2020.\n",
        "> Fuente: [Kaggle](https://www.kaggle.com/shushrutsharma/top-5-football-leagues?select=Fullmetadata.csv)\n",
        "\n",
        "### Importar csv\n",
        "\n",
        "`pd.read_csv('path/file.csv')`"
      ]
    },
    {
      "cell_type": "code",
      "execution_count": null,
      "metadata": {
        "cell_id": "fcf98c42d9d34e2f81b9b2e103a5d1b6",
        "deepnote_app_coordinates": {
          "h": 5,
          "w": 12,
          "x": 0,
          "y": 48
        },
        "deepnote_cell_type": "code",
        "deepnote_to_be_reexecuted": false,
        "execution_millis": 2,
        "execution_start": 1645375718081,
        "id": "-VbtWWF8QAln",
        "source_hash": "e0c0ea6c",
        "tags": []
      },
      "outputs": [],
      "source": [
        "df = pd.read_csv('https://raw.githubusercontent.com/edalgoca/mod02_python/main/football_stats.csv')\n"
      ]
    },
    {
      "cell_type": "markdown",
      "metadata": {
        "cell_id": "d24dac6f1fda494ca22a5d5af23dd28a",
        "deepnote_app_coordinates": {
          "h": 5,
          "w": 12,
          "x": 0,
          "y": 270
        },
        "deepnote_cell_type": "markdown",
        "id": "u_GU4_cNQAln",
        "tags": []
      },
      "source": [
        "Importar con una columna como índice"
      ]
    },
    {
      "cell_type": "code",
      "execution_count": null,
      "metadata": {
        "allow_embed": false,
        "cell_id": "1b63b2d0fe424758966863d93888111d",
        "colab": {
          "base_uri": "https://localhost:8080/"
        },
        "deepnote_app_coordinates": {
          "h": 5,
          "w": 12,
          "x": 0,
          "y": 54
        },
        "deepnote_cell_type": "code",
        "deepnote_to_be_reexecuted": false,
        "execution_millis": 12,
        "execution_start": 1645375718090,
        "id": "DRilm_-zQAlo",
        "outputId": "979ac74e-5a4e-43a9-81a1-fd1d1ed75328",
        "source_hash": "e83f94b0",
        "tags": []
      },
      "outputs": [
        {
          "name": "stdout",
          "output_type": "stream",
          "text": [
            "                   year  goals\n",
            "player                        \n",
            "Lionel Messi       2016     37\n",
            "Cristiano Ronaldo  2016     25\n"
          ]
        }
      ],
      "source": [
        "df = pd.read_csv('https://raw.githubusercontent.com/edalgoca/mod02_python/main/football_mini_stats.csv', index_col='player')\n",
        "print(df)"
      ]
    },
    {
      "cell_type": "code",
      "execution_count": null,
      "metadata": {
        "cell_id": "1bc8ab513ada43d4b6b0f884aa4ff5fc",
        "colab": {
          "base_uri": "https://localhost:8080/",
          "height": 455
        },
        "deepnote_app_coordinates": {
          "h": 5,
          "w": 12,
          "x": 0,
          "y": 60
        },
        "deepnote_cell_type": "code",
        "deepnote_to_be_reexecuted": false,
        "execution_millis": 189,
        "execution_start": 1645375718160,
        "id": "87jPd4WmQAlo",
        "outputId": "80394c09-488b-4d9a-b4c7-e4209e90420d",
        "source_hash": "338fbfcc",
        "tags": []
      },
      "outputs": [
        {
          "data": {
            "text/html": [
              "\n",
              "  <div id=\"df-051a53c4-411b-4c16-9bea-701dc9e159db\">\n",
              "    <div class=\"colab-df-container\">\n",
              "      <div>\n",
              "<style scoped>\n",
              "    .dataframe tbody tr th:only-of-type {\n",
              "        vertical-align: middle;\n",
              "    }\n",
              "\n",
              "    .dataframe tbody tr th {\n",
              "        vertical-align: top;\n",
              "    }\n",
              "\n",
              "    .dataframe thead th {\n",
              "        text-align: right;\n",
              "    }\n",
              "</style>\n",
              "<table border=\"1\" class=\"dataframe\">\n",
              "  <thead>\n",
              "    <tr style=\"text-align: right;\">\n",
              "      <th></th>\n",
              "      <th>player_name</th>\n",
              "      <th>year</th>\n",
              "      <th>games</th>\n",
              "      <th>goals</th>\n",
              "      <th>npg</th>\n",
              "      <th>shots</th>\n",
              "      <th>assists</th>\n",
              "      <th>yellow_cards</th>\n",
              "      <th>red_cards</th>\n",
              "      <th>position</th>\n",
              "      <th>team_name</th>\n",
              "      <th>time</th>\n",
              "    </tr>\n",
              "    <tr>\n",
              "      <th>player_id</th>\n",
              "      <th></th>\n",
              "      <th></th>\n",
              "      <th></th>\n",
              "      <th></th>\n",
              "      <th></th>\n",
              "      <th></th>\n",
              "      <th></th>\n",
              "      <th></th>\n",
              "      <th></th>\n",
              "      <th></th>\n",
              "      <th></th>\n",
              "      <th></th>\n",
              "    </tr>\n",
              "  </thead>\n",
              "  <tbody>\n",
              "    <tr>\n",
              "      <th>8865</th>\n",
              "      <td>Ollie Watkins</td>\n",
              "      <td>2020</td>\n",
              "      <td>9</td>\n",
              "      <td>6</td>\n",
              "      <td>5</td>\n",
              "      <td>22</td>\n",
              "      <td>1</td>\n",
              "      <td>0</td>\n",
              "      <td>0</td>\n",
              "      <td>F</td>\n",
              "      <td>Aston Villa</td>\n",
              "      <td>810</td>\n",
              "    </tr>\n",
              "    <tr>\n",
              "      <th>675</th>\n",
              "      <td>Jack Grealish</td>\n",
              "      <td>2020</td>\n",
              "      <td>9</td>\n",
              "      <td>5</td>\n",
              "      <td>5</td>\n",
              "      <td>26</td>\n",
              "      <td>5</td>\n",
              "      <td>2</td>\n",
              "      <td>0</td>\n",
              "      <td>F M</td>\n",
              "      <td>Aston Villa</td>\n",
              "      <td>810</td>\n",
              "    </tr>\n",
              "    <tr>\n",
              "      <th>592</th>\n",
              "      <td>Ross Barkley</td>\n",
              "      <td>2020</td>\n",
              "      <td>6</td>\n",
              "      <td>2</td>\n",
              "      <td>2</td>\n",
              "      <td>17</td>\n",
              "      <td>1</td>\n",
              "      <td>0</td>\n",
              "      <td>0</td>\n",
              "      <td>M</td>\n",
              "      <td>Aston Villa</td>\n",
              "      <td>454</td>\n",
              "    </tr>\n",
              "    <tr>\n",
              "      <th>1024</th>\n",
              "      <td>Tyrone Mings</td>\n",
              "      <td>2020</td>\n",
              "      <td>9</td>\n",
              "      <td>2</td>\n",
              "      <td>2</td>\n",
              "      <td>7</td>\n",
              "      <td>1</td>\n",
              "      <td>2</td>\n",
              "      <td>0</td>\n",
              "      <td>D</td>\n",
              "      <td>Aston Villa</td>\n",
              "      <td>810</td>\n",
              "    </tr>\n",
              "    <tr>\n",
              "      <th>7726</th>\n",
              "      <td>Ezri Konsa Ngoyo</td>\n",
              "      <td>2020</td>\n",
              "      <td>9</td>\n",
              "      <td>2</td>\n",
              "      <td>2</td>\n",
              "      <td>7</td>\n",
              "      <td>0</td>\n",
              "      <td>0</td>\n",
              "      <td>0</td>\n",
              "      <td>D</td>\n",
              "      <td>Aston Villa</td>\n",
              "      <td>810</td>\n",
              "    </tr>\n",
              "    <tr>\n",
              "      <th>...</th>\n",
              "      <td>...</td>\n",
              "      <td>...</td>\n",
              "      <td>...</td>\n",
              "      <td>...</td>\n",
              "      <td>...</td>\n",
              "      <td>...</td>\n",
              "      <td>...</td>\n",
              "      <td>...</td>\n",
              "      <td>...</td>\n",
              "      <td>...</td>\n",
              "      <td>...</td>\n",
              "      <td>...</td>\n",
              "    </tr>\n",
              "    <tr>\n",
              "      <th>4267</th>\n",
              "      <td>Florian Hartherz</td>\n",
              "      <td>2014</td>\n",
              "      <td>10</td>\n",
              "      <td>0</td>\n",
              "      <td>0</td>\n",
              "      <td>1</td>\n",
              "      <td>2</td>\n",
              "      <td>1</td>\n",
              "      <td>1</td>\n",
              "      <td>D S</td>\n",
              "      <td>Paderborn</td>\n",
              "      <td>775</td>\n",
              "    </tr>\n",
              "    <tr>\n",
              "      <th>4268</th>\n",
              "      <td>Christian Strohdiek</td>\n",
              "      <td>2014</td>\n",
              "      <td>22</td>\n",
              "      <td>0</td>\n",
              "      <td>0</td>\n",
              "      <td>6</td>\n",
              "      <td>0</td>\n",
              "      <td>2</td>\n",
              "      <td>0</td>\n",
              "      <td>D S</td>\n",
              "      <td>Paderborn</td>\n",
              "      <td>1608</td>\n",
              "    </tr>\n",
              "    <tr>\n",
              "      <th>4311</th>\n",
              "      <td>Idir Ouali</td>\n",
              "      <td>2014</td>\n",
              "      <td>6</td>\n",
              "      <td>0</td>\n",
              "      <td>0</td>\n",
              "      <td>4</td>\n",
              "      <td>0</td>\n",
              "      <td>1</td>\n",
              "      <td>0</td>\n",
              "      <td>M S</td>\n",
              "      <td>Paderborn</td>\n",
              "      <td>296</td>\n",
              "    </tr>\n",
              "    <tr>\n",
              "      <th>4334</th>\n",
              "      <td>Mirnes Pepic</td>\n",
              "      <td>2014</td>\n",
              "      <td>2</td>\n",
              "      <td>0</td>\n",
              "      <td>0</td>\n",
              "      <td>0</td>\n",
              "      <td>0</td>\n",
              "      <td>0</td>\n",
              "      <td>0</td>\n",
              "      <td>S</td>\n",
              "      <td>Paderborn</td>\n",
              "      <td>20</td>\n",
              "    </tr>\n",
              "    <tr>\n",
              "      <th>4363</th>\n",
              "      <td>Thomas Bertels</td>\n",
              "      <td>2014</td>\n",
              "      <td>1</td>\n",
              "      <td>0</td>\n",
              "      <td>0</td>\n",
              "      <td>0</td>\n",
              "      <td>0</td>\n",
              "      <td>0</td>\n",
              "      <td>0</td>\n",
              "      <td>S</td>\n",
              "      <td>Paderborn</td>\n",
              "      <td>3</td>\n",
              "    </tr>\n",
              "  </tbody>\n",
              "</table>\n",
              "<p>18633 rows × 12 columns</p>\n",
              "</div>\n",
              "      <button class=\"colab-df-convert\" onclick=\"convertToInteractive('df-051a53c4-411b-4c16-9bea-701dc9e159db')\"\n",
              "              title=\"Convert this dataframe to an interactive table.\"\n",
              "              style=\"display:none;\">\n",
              "        \n",
              "  <svg xmlns=\"http://www.w3.org/2000/svg\" height=\"24px\"viewBox=\"0 0 24 24\"\n",
              "       width=\"24px\">\n",
              "    <path d=\"M0 0h24v24H0V0z\" fill=\"none\"/>\n",
              "    <path d=\"M18.56 5.44l.94 2.06.94-2.06 2.06-.94-2.06-.94-.94-2.06-.94 2.06-2.06.94zm-11 1L8.5 8.5l.94-2.06 2.06-.94-2.06-.94L8.5 2.5l-.94 2.06-2.06.94zm10 10l.94 2.06.94-2.06 2.06-.94-2.06-.94-.94-2.06-.94 2.06-2.06.94z\"/><path d=\"M17.41 7.96l-1.37-1.37c-.4-.4-.92-.59-1.43-.59-.52 0-1.04.2-1.43.59L10.3 9.45l-7.72 7.72c-.78.78-.78 2.05 0 2.83L4 21.41c.39.39.9.59 1.41.59.51 0 1.02-.2 1.41-.59l7.78-7.78 2.81-2.81c.8-.78.8-2.07 0-2.86zM5.41 20L4 18.59l7.72-7.72 1.47 1.35L5.41 20z\"/>\n",
              "  </svg>\n",
              "      </button>\n",
              "      \n",
              "  <style>\n",
              "    .colab-df-container {\n",
              "      display:flex;\n",
              "      flex-wrap:wrap;\n",
              "      gap: 12px;\n",
              "    }\n",
              "\n",
              "    .colab-df-convert {\n",
              "      background-color: #E8F0FE;\n",
              "      border: none;\n",
              "      border-radius: 50%;\n",
              "      cursor: pointer;\n",
              "      display: none;\n",
              "      fill: #1967D2;\n",
              "      height: 32px;\n",
              "      padding: 0 0 0 0;\n",
              "      width: 32px;\n",
              "    }\n",
              "\n",
              "    .colab-df-convert:hover {\n",
              "      background-color: #E2EBFA;\n",
              "      box-shadow: 0px 1px 2px rgba(60, 64, 67, 0.3), 0px 1px 3px 1px rgba(60, 64, 67, 0.15);\n",
              "      fill: #174EA6;\n",
              "    }\n",
              "\n",
              "    [theme=dark] .colab-df-convert {\n",
              "      background-color: #3B4455;\n",
              "      fill: #D2E3FC;\n",
              "    }\n",
              "\n",
              "    [theme=dark] .colab-df-convert:hover {\n",
              "      background-color: #434B5C;\n",
              "      box-shadow: 0px 1px 3px 1px rgba(0, 0, 0, 0.15);\n",
              "      filter: drop-shadow(0px 1px 2px rgba(0, 0, 0, 0.3));\n",
              "      fill: #FFFFFF;\n",
              "    }\n",
              "  </style>\n",
              "\n",
              "      <script>\n",
              "        const buttonEl =\n",
              "          document.querySelector('#df-051a53c4-411b-4c16-9bea-701dc9e159db button.colab-df-convert');\n",
              "        buttonEl.style.display =\n",
              "          google.colab.kernel.accessAllowed ? 'block' : 'none';\n",
              "\n",
              "        async function convertToInteractive(key) {\n",
              "          const element = document.querySelector('#df-051a53c4-411b-4c16-9bea-701dc9e159db');\n",
              "          const dataTable =\n",
              "            await google.colab.kernel.invokeFunction('convertToInteractive',\n",
              "                                                     [key], {});\n",
              "          if (!dataTable) return;\n",
              "\n",
              "          const docLinkHtml = 'Like what you see? Visit the ' +\n",
              "            '<a target=\"_blank\" href=https://colab.research.google.com/notebooks/data_table.ipynb>data table notebook</a>'\n",
              "            + ' to learn more about interactive tables.';\n",
              "          element.innerHTML = '';\n",
              "          dataTable['output_type'] = 'display_data';\n",
              "          await google.colab.output.renderOutput(dataTable, element);\n",
              "          const docLink = document.createElement('div');\n",
              "          docLink.innerHTML = docLinkHtml;\n",
              "          element.appendChild(docLink);\n",
              "        }\n",
              "      </script>\n",
              "    </div>\n",
              "  </div>\n",
              "  "
            ],
            "text/plain": [
              "                   player_name  year  games  goals  npg  shots  assists  \\\n",
              "player_id                                                                 \n",
              "8865             Ollie Watkins  2020      9      6    5     22        1   \n",
              "675              Jack Grealish  2020      9      5    5     26        5   \n",
              "592               Ross Barkley  2020      6      2    2     17        1   \n",
              "1024              Tyrone Mings  2020      9      2    2      7        1   \n",
              "7726          Ezri Konsa Ngoyo  2020      9      2    2      7        0   \n",
              "...                        ...   ...    ...    ...  ...    ...      ...   \n",
              "4267          Florian Hartherz  2014     10      0    0      1        2   \n",
              "4268       Christian Strohdiek  2014     22      0    0      6        0   \n",
              "4311                Idir Ouali  2014      6      0    0      4        0   \n",
              "4334              Mirnes Pepic  2014      2      0    0      0        0   \n",
              "4363            Thomas Bertels  2014      1      0    0      0        0   \n",
              "\n",
              "           yellow_cards  red_cards position    team_name  time  \n",
              "player_id                                                       \n",
              "8865                  0          0        F  Aston Villa   810  \n",
              "675                   2          0      F M  Aston Villa   810  \n",
              "592                   0          0        M  Aston Villa   454  \n",
              "1024                  2          0        D  Aston Villa   810  \n",
              "7726                  0          0        D  Aston Villa   810  \n",
              "...                 ...        ...      ...          ...   ...  \n",
              "4267                  1          1      D S    Paderborn   775  \n",
              "4268                  2          0      D S    Paderborn  1608  \n",
              "4311                  1          0      M S    Paderborn   296  \n",
              "4334                  0          0        S    Paderborn    20  \n",
              "4363                  0          0        S    Paderborn     3  \n",
              "\n",
              "[18633 rows x 12 columns]"
            ]
          },
          "execution_count": 6,
          "metadata": {},
          "output_type": "execute_result"
        }
      ],
      "source": [
        "df = pd.read_csv('https://raw.githubusercontent.com/edalgoca/mod02_python/main/football_stats.csv', index_col='player_id')\n",
        "df"
      ]
    },
    {
      "cell_type": "markdown",
      "metadata": {
        "cell_id": "907843c908a34dfda66ec593a69b476a",
        "deepnote_app_coordinates": {
          "h": 5,
          "w": 12,
          "x": 0,
          "y": 66
        },
        "deepnote_cell_type": "markdown",
        "id": "km2SMn5jQAlp",
        "tags": []
      },
      "source": [
        "## Inspeccionar un DataFrame\n",
        "\n",
        "- `df.head()` → retorna las 5 primeras filas. También le puedes pasar un entero como parámetro y te devolverá esa cantidad de primeras filas.\n",
        "- `df.tail()` → retorna las últimas 5 filas del dataset.\n",
        "- `df.sample()` → es parecido a los 2 anteriores, pero este tomará muestras al azar del DataFrame.\n",
        "- `df.shape` → retorna las filas y columnas que tiene el DataFrame.\n",
        "- `df.size` → multiplica las filas y columnas y te da el total de datos del DataFrame.\n",
        "- `df.info()` → este es genial, te da la cuenta de valores no nulos, el tipo de dato de cada columna (recuerda que solo puede haber un único tipo de dato por columna) y el uso de memoria. Cuando estés procesando los datos, será un gran aliado.\n",
        "- `df.describe()` → te ayudará mucho con las primeras impresiones de los datos. Calcula algunas estadísticas descriptivas para cada columna."
      ]
    },
    {
      "cell_type": "code",
      "execution_count": null,
      "metadata": {
        "cell_id": "85d3c2161b2f459fac6096eb49c904e2",
        "deepnote_app_coordinates": {
          "h": 5,
          "w": 12,
          "x": 0,
          "y": 72
        },
        "deepnote_cell_type": "code",
        "deepnote_to_be_reexecuted": false,
        "execution_millis": 11,
        "execution_start": 1645375718365,
        "id": "4yDEhpxMQAlp",
        "outputId": "726d6b9a-e686-4042-d7d1-90341c42d661",
        "source_hash": "42137c8e",
        "tags": []
      },
      "outputs": [
        {
          "name": "stdout",
          "output_type": "stream",
          "text": [
            "                   player_name  year  games  goals  npg  shots  assists  \\\n",
            "player_id                                                                 \n",
            "1293           Gonzalo Higuaín  2019     32      8    8     75        4   \n",
            "6467       Giovanni Volpicelli  2017      1      0    0      1        0   \n",
            "1736           Oliver McBurnie  2016      5      0    0      2        0   \n",
            "\n",
            "           yellow_cards  red_cards position  team_name  time  \n",
            "player_id                                                     \n",
            "1293                  2          0      F S   Juventus  1866  \n",
            "6467                  0          0        S  Benevento     1  \n",
            "1736                  0          0        S    Swansea    69  \n"
          ]
        }
      ],
      "source": [
        "print(df.sample(3))"
      ]
    },
    {
      "cell_type": "code",
      "execution_count": null,
      "metadata": {
        "cell_id": "6759f814ada34b6da7a78494f73cef22",
        "deepnote_app_coordinates": {
          "h": 5,
          "w": 12,
          "x": 0,
          "y": 78
        },
        "deepnote_cell_type": "code",
        "deepnote_to_be_reexecuted": false,
        "execution_millis": 7,
        "execution_start": 1645375718385,
        "id": "KjVUkZZOQAlq",
        "outputId": "8d53d3d8-d9e8-4a74-b8e9-3a14585e3794",
        "source_hash": "35809e90",
        "tags": []
      },
      "outputs": [
        {
          "name": "stdout",
          "output_type": "stream",
          "text": [
            "(18633, 12)\n"
          ]
        }
      ],
      "source": [
        "print(df.shape)"
      ]
    },
    {
      "cell_type": "code",
      "execution_count": null,
      "metadata": {
        "cell_id": "03ed3fc2867c4be6b15ee0f41b65d3a0",
        "deepnote_app_coordinates": {
          "h": 5,
          "w": 12,
          "x": 0,
          "y": 84
        },
        "deepnote_cell_type": "code",
        "deepnote_to_be_reexecuted": false,
        "execution_millis": 1,
        "execution_start": 1645375718440,
        "id": "N_v4A9TDQAlq",
        "outputId": "9408926e-41d9-44dc-b6c0-3da93386ba86",
        "source_hash": "7ad480d5",
        "tags": []
      },
      "outputs": [
        {
          "name": "stdout",
          "output_type": "stream",
          "text": [
            "223596\n"
          ]
        }
      ],
      "source": [
        "print(df.size)"
      ]
    },
    {
      "cell_type": "code",
      "execution_count": null,
      "metadata": {
        "cell_id": "56fd11b5a0c942a6907542172f466f94",
        "deepnote_app_coordinates": {
          "h": 5,
          "w": 12,
          "x": 0,
          "y": 90
        },
        "deepnote_cell_type": "code",
        "deepnote_to_be_reexecuted": false,
        "execution_millis": 70,
        "execution_start": 1645375718441,
        "id": "uXSAvBlxQAlq",
        "outputId": "56503a98-342e-4334-bd43-962cc1e49618",
        "source_hash": "8b651934",
        "tags": []
      },
      "outputs": [
        {
          "name": "stdout",
          "output_type": "stream",
          "text": [
            "<class 'pandas.core.frame.DataFrame'>\n",
            "Int64Index: 18633 entries, 8865 to 4363\n",
            "Data columns (total 12 columns):\n",
            " #   Column        Non-Null Count  Dtype \n",
            "---  ------        --------------  ----- \n",
            " 0   player_name   18633 non-null  object\n",
            " 1   year          18633 non-null  int64 \n",
            " 2   games         18633 non-null  int64 \n",
            " 3   goals         18633 non-null  int64 \n",
            " 4   npg           18633 non-null  int64 \n",
            " 5   shots         18633 non-null  int64 \n",
            " 6   assists       18633 non-null  int64 \n",
            " 7   yellow_cards  18633 non-null  int64 \n",
            " 8   red_cards     18633 non-null  int64 \n",
            " 9   position      18633 non-null  object\n",
            " 10  team_name     18633 non-null  object\n",
            " 11  time          18633 non-null  int64 \n",
            "dtypes: int64(9), object(3)\n",
            "memory usage: 1.8+ MB\n",
            "None\n"
          ]
        }
      ],
      "source": [
        "print(df.info())"
      ]
    },
    {
      "cell_type": "code",
      "execution_count": null,
      "metadata": {
        "cell_id": "7dcbf04454bc4b1f91d0761c3d86638b",
        "deepnote_app_coordinates": {
          "h": 5,
          "w": 12,
          "x": 0,
          "y": 96
        },
        "deepnote_cell_type": "code",
        "deepnote_to_be_reexecuted": false,
        "execution_millis": 68,
        "execution_start": 1645375718506,
        "id": "4joMEe3pQAlr",
        "outputId": "f60073c7-042a-4aaf-a081-9eb318654ce9",
        "source_hash": "f88152d9",
        "tags": []
      },
      "outputs": [
        {
          "data": {
            "application/vnd.deepnote.dataframe.v3+json": {
              "column_count": 9,
              "columns": [
                {
                  "dtype": "float64",
                  "name": "year",
                  "stats": {
                    "histogram": [
                      {
                        "bin_end": 1865.0789450407683,
                        "bin_start": 1.9766056008539,
                        "count": 1
                      },
                      {
                        "bin_end": 3728.1812844806827,
                        "bin_start": 1865.0789450407683,
                        "count": 6
                      },
                      {
                        "bin_end": 5591.283623920597,
                        "bin_start": 3728.1812844806827,
                        "count": 0
                      },
                      {
                        "bin_end": 7454.385963360512,
                        "bin_start": 5591.283623920597,
                        "count": 0
                      },
                      {
                        "bin_end": 9317.488302800426,
                        "bin_start": 7454.385963360512,
                        "count": 0
                      },
                      {
                        "bin_end": 11180.59064224034,
                        "bin_start": 9317.488302800426,
                        "count": 0
                      },
                      {
                        "bin_end": 13043.692981680255,
                        "bin_start": 11180.59064224034,
                        "count": 0
                      },
                      {
                        "bin_end": 14906.79532112017,
                        "bin_start": 13043.692981680255,
                        "count": 0
                      },
                      {
                        "bin_end": 16769.897660560087,
                        "bin_start": 14906.79532112017,
                        "count": 0
                      },
                      {
                        "bin_end": 18633,
                        "bin_start": 16769.897660560087,
                        "count": 1
                      }
                    ],
                    "max": "18633.0",
                    "min": "1.9766056008539",
                    "nan_count": 0,
                    "unique_count": 8
                  }
                },
                {
                  "dtype": "float64",
                  "name": "games",
                  "stats": {
                    "histogram": [
                      {
                        "bin_end": 1864.2,
                        "bin_start": 1,
                        "count": 7
                      },
                      {
                        "bin_end": 3727.4,
                        "bin_start": 1864.2,
                        "count": 0
                      },
                      {
                        "bin_end": 5590.6,
                        "bin_start": 3727.4,
                        "count": 0
                      },
                      {
                        "bin_end": 7453.8,
                        "bin_start": 5590.6,
                        "count": 0
                      },
                      {
                        "bin_end": 9317,
                        "bin_start": 7453.8,
                        "count": 0
                      },
                      {
                        "bin_end": 11180.2,
                        "bin_start": 9317,
                        "count": 0
                      },
                      {
                        "bin_end": 13043.4,
                        "bin_start": 11180.2,
                        "count": 0
                      },
                      {
                        "bin_end": 14906.6,
                        "bin_start": 13043.4,
                        "count": 0
                      },
                      {
                        "bin_end": 16769.8,
                        "bin_start": 14906.6,
                        "count": 0
                      },
                      {
                        "bin_end": 18633,
                        "bin_start": 16769.8,
                        "count": 1
                      }
                    ],
                    "max": "18633.0",
                    "min": "1.0",
                    "nan_count": 0,
                    "unique_count": 8
                  }
                },
                {
                  "dtype": "float64",
                  "name": "goals",
                  "stats": {
                    "histogram": [
                      {
                        "bin_end": 1863.3,
                        "bin_start": 0,
                        "count": 7
                      },
                      {
                        "bin_end": 3726.6,
                        "bin_start": 1863.3,
                        "count": 0
                      },
                      {
                        "bin_end": 5589.9,
                        "bin_start": 3726.6,
                        "count": 0
                      },
                      {
                        "bin_end": 7453.2,
                        "bin_start": 5589.9,
                        "count": 0
                      },
                      {
                        "bin_end": 9316.5,
                        "bin_start": 7453.2,
                        "count": 0
                      },
                      {
                        "bin_end": 11179.8,
                        "bin_start": 9316.5,
                        "count": 0
                      },
                      {
                        "bin_end": 13043.1,
                        "bin_start": 11179.8,
                        "count": 0
                      },
                      {
                        "bin_end": 14906.4,
                        "bin_start": 13043.1,
                        "count": 0
                      },
                      {
                        "bin_end": 16769.7,
                        "bin_start": 14906.4,
                        "count": 0
                      },
                      {
                        "bin_end": 18633,
                        "bin_start": 16769.7,
                        "count": 1
                      }
                    ],
                    "max": "18633.0",
                    "min": "0.0",
                    "nan_count": 0,
                    "unique_count": 6
                  }
                },
                {
                  "dtype": "float64",
                  "name": "npg",
                  "stats": {
                    "histogram": [
                      {
                        "bin_end": 1863.3,
                        "bin_start": 0,
                        "count": 7
                      },
                      {
                        "bin_end": 3726.6,
                        "bin_start": 1863.3,
                        "count": 0
                      },
                      {
                        "bin_end": 5589.9,
                        "bin_start": 3726.6,
                        "count": 0
                      },
                      {
                        "bin_end": 7453.2,
                        "bin_start": 5589.9,
                        "count": 0
                      },
                      {
                        "bin_end": 9316.5,
                        "bin_start": 7453.2,
                        "count": 0
                      },
                      {
                        "bin_end": 11179.8,
                        "bin_start": 9316.5,
                        "count": 0
                      },
                      {
                        "bin_end": 13043.1,
                        "bin_start": 11179.8,
                        "count": 0
                      },
                      {
                        "bin_end": 14906.4,
                        "bin_start": 13043.1,
                        "count": 0
                      },
                      {
                        "bin_end": 16769.7,
                        "bin_start": 14906.4,
                        "count": 0
                      },
                      {
                        "bin_end": 18633,
                        "bin_start": 16769.7,
                        "count": 1
                      }
                    ],
                    "max": "18633.0",
                    "min": "0.0",
                    "nan_count": 0,
                    "unique_count": 6
                  }
                },
                {
                  "dtype": "float64",
                  "name": "shots",
                  "stats": {
                    "histogram": [
                      {
                        "bin_end": 1863.3,
                        "bin_start": 0,
                        "count": 7
                      },
                      {
                        "bin_end": 3726.6,
                        "bin_start": 1863.3,
                        "count": 0
                      },
                      {
                        "bin_end": 5589.9,
                        "bin_start": 3726.6,
                        "count": 0
                      },
                      {
                        "bin_end": 7453.2,
                        "bin_start": 5589.9,
                        "count": 0
                      },
                      {
                        "bin_end": 9316.5,
                        "bin_start": 7453.2,
                        "count": 0
                      },
                      {
                        "bin_end": 11179.8,
                        "bin_start": 9316.5,
                        "count": 0
                      },
                      {
                        "bin_end": 13043.1,
                        "bin_start": 11179.8,
                        "count": 0
                      },
                      {
                        "bin_end": 14906.4,
                        "bin_start": 13043.1,
                        "count": 0
                      },
                      {
                        "bin_end": 16769.7,
                        "bin_start": 14906.4,
                        "count": 0
                      },
                      {
                        "bin_end": 18633,
                        "bin_start": 16769.7,
                        "count": 1
                      }
                    ],
                    "max": "18633.0",
                    "min": "0.0",
                    "nan_count": 0,
                    "unique_count": 8
                  }
                },
                {
                  "dtype": "float64",
                  "name": "assists",
                  "stats": {
                    "histogram": [
                      {
                        "bin_end": 1863.3,
                        "bin_start": 0,
                        "count": 7
                      },
                      {
                        "bin_end": 3726.6,
                        "bin_start": 1863.3,
                        "count": 0
                      },
                      {
                        "bin_end": 5589.9,
                        "bin_start": 3726.6,
                        "count": 0
                      },
                      {
                        "bin_end": 7453.2,
                        "bin_start": 5589.9,
                        "count": 0
                      },
                      {
                        "bin_end": 9316.5,
                        "bin_start": 7453.2,
                        "count": 0
                      },
                      {
                        "bin_end": 11179.8,
                        "bin_start": 9316.5,
                        "count": 0
                      },
                      {
                        "bin_end": 13043.1,
                        "bin_start": 11179.8,
                        "count": 0
                      },
                      {
                        "bin_end": 14906.4,
                        "bin_start": 13043.1,
                        "count": 0
                      },
                      {
                        "bin_end": 16769.7,
                        "bin_start": 14906.4,
                        "count": 0
                      },
                      {
                        "bin_end": 18633,
                        "bin_start": 16769.7,
                        "count": 1
                      }
                    ],
                    "max": "18633.0",
                    "min": "0.0",
                    "nan_count": 0,
                    "unique_count": 6
                  }
                },
                {
                  "dtype": "float64",
                  "name": "yellow_cards",
                  "stats": {
                    "histogram": [
                      {
                        "bin_end": 1863.3,
                        "bin_start": 0,
                        "count": 7
                      },
                      {
                        "bin_end": 3726.6,
                        "bin_start": 1863.3,
                        "count": 0
                      },
                      {
                        "bin_end": 5589.9,
                        "bin_start": 3726.6,
                        "count": 0
                      },
                      {
                        "bin_end": 7453.2,
                        "bin_start": 5589.9,
                        "count": 0
                      },
                      {
                        "bin_end": 9316.5,
                        "bin_start": 7453.2,
                        "count": 0
                      },
                      {
                        "bin_end": 11179.8,
                        "bin_start": 9316.5,
                        "count": 0
                      },
                      {
                        "bin_end": 13043.1,
                        "bin_start": 11179.8,
                        "count": 0
                      },
                      {
                        "bin_end": 14906.4,
                        "bin_start": 13043.1,
                        "count": 0
                      },
                      {
                        "bin_end": 16769.7,
                        "bin_start": 14906.4,
                        "count": 0
                      },
                      {
                        "bin_end": 18633,
                        "bin_start": 16769.7,
                        "count": 1
                      }
                    ],
                    "max": "18633.0",
                    "min": "0.0",
                    "nan_count": 0,
                    "unique_count": 7
                  }
                },
                {
                  "dtype": "float64",
                  "name": "red_cards",
                  "stats": {
                    "histogram": [
                      {
                        "bin_end": 1863.3,
                        "bin_start": 0,
                        "count": 7
                      },
                      {
                        "bin_end": 3726.6,
                        "bin_start": 1863.3,
                        "count": 0
                      },
                      {
                        "bin_end": 5589.9,
                        "bin_start": 3726.6,
                        "count": 0
                      },
                      {
                        "bin_end": 7453.2,
                        "bin_start": 5589.9,
                        "count": 0
                      },
                      {
                        "bin_end": 9316.5,
                        "bin_start": 7453.2,
                        "count": 0
                      },
                      {
                        "bin_end": 11179.8,
                        "bin_start": 9316.5,
                        "count": 0
                      },
                      {
                        "bin_end": 13043.1,
                        "bin_start": 11179.8,
                        "count": 0
                      },
                      {
                        "bin_end": 14906.4,
                        "bin_start": 13043.1,
                        "count": 0
                      },
                      {
                        "bin_end": 16769.7,
                        "bin_start": 14906.4,
                        "count": 0
                      },
                      {
                        "bin_end": 18633,
                        "bin_start": 16769.7,
                        "count": 1
                      }
                    ],
                    "max": "18633.0",
                    "min": "0.0",
                    "nan_count": 0,
                    "unique_count": 5
                  }
                },
                {
                  "dtype": "float64",
                  "name": "time",
                  "stats": {
                    "histogram": [
                      {
                        "bin_end": 1864.2,
                        "bin_start": 1,
                        "count": 5
                      },
                      {
                        "bin_end": 3727.4,
                        "bin_start": 1864.2,
                        "count": 2
                      },
                      {
                        "bin_end": 5590.6,
                        "bin_start": 3727.4,
                        "count": 0
                      },
                      {
                        "bin_end": 7453.8,
                        "bin_start": 5590.6,
                        "count": 0
                      },
                      {
                        "bin_end": 9317,
                        "bin_start": 7453.8,
                        "count": 0
                      },
                      {
                        "bin_end": 11180.2,
                        "bin_start": 9317,
                        "count": 0
                      },
                      {
                        "bin_end": 13043.4,
                        "bin_start": 11180.2,
                        "count": 0
                      },
                      {
                        "bin_end": 14906.6,
                        "bin_start": 13043.4,
                        "count": 0
                      },
                      {
                        "bin_end": 16769.8,
                        "bin_start": 14906.6,
                        "count": 0
                      },
                      {
                        "bin_end": 18633,
                        "bin_start": 16769.8,
                        "count": 1
                      }
                    ],
                    "max": "18633.0",
                    "min": "1.0",
                    "nan_count": 0,
                    "unique_count": 8
                  }
                },
                {
                  "dtype": "object",
                  "name": "_deepnote_index_column"
                }
              ],
              "row_count": 8,
              "rows": [
                {
                  "_deepnote_index_column": "count",
                  "assists": 18633,
                  "games": 18633,
                  "goals": 18633,
                  "npg": 18633,
                  "red_cards": 18633,
                  "shots": 18633,
                  "time": 18633,
                  "year": 18633,
                  "yellow_cards": 18633
                },
                {
                  "_deepnote_index_column": "mean",
                  "assists": 1.1380883378951323,
                  "games": 17.0722910964418,
                  "goals": 1.6240540975688296,
                  "npg": 1.4783985402243331,
                  "red_cards": 0.12756936617828585,
                  "shots": 15.32388772607739,
                  "time": 1207.4832823485215,
                  "year": 2016.9376911930447,
                  "yellow_cards": 2.453979498738797
                },
                {
                  "_deepnote_index_column": "std",
                  "assists": 1.9362380404764092,
                  "games": 11.375527259525969,
                  "goals": 3.2524184197533046,
                  "npg": 2.891849373325934,
                  "red_cards": 0.37065557142659217,
                  "shots": 20.93464489524308,
                  "time": 975.753085899096,
                  "year": 1.9766056008539,
                  "yellow_cards": 2.685744568033884
                },
                {
                  "_deepnote_index_column": "min",
                  "assists": 0,
                  "games": 1,
                  "goals": 0,
                  "npg": 0,
                  "red_cards": 0,
                  "shots": 0,
                  "time": 1,
                  "year": 2014,
                  "yellow_cards": 0
                },
                {
                  "_deepnote_index_column": "25%",
                  "assists": 0,
                  "games": 7,
                  "goals": 0,
                  "npg": 0,
                  "red_cards": 0,
                  "shots": 1,
                  "time": 326,
                  "year": 2015,
                  "yellow_cards": 0
                },
                {
                  "_deepnote_index_column": "50%",
                  "assists": 0,
                  "games": 16,
                  "goals": 0,
                  "npg": 0,
                  "red_cards": 0,
                  "shots": 8,
                  "time": 976,
                  "year": 2017,
                  "yellow_cards": 2
                },
                {
                  "_deepnote_index_column": "75%",
                  "assists": 2,
                  "games": 27,
                  "goals": 2,
                  "npg": 2,
                  "red_cards": 0,
                  "shots": 21,
                  "time": 2004,
                  "year": 2019,
                  "yellow_cards": 4
                },
                {
                  "_deepnote_index_column": "max",
                  "assists": 20,
                  "games": 38,
                  "goals": 48,
                  "npg": 38,
                  "red_cards": 5,
                  "shots": 227,
                  "time": 3420,
                  "year": 2020,
                  "yellow_cards": 17
                }
              ]
            },
            "text/html": [
              "<div>\n",
              "<style scoped>\n",
              "    .dataframe tbody tr th:only-of-type {\n",
              "        vertical-align: middle;\n",
              "    }\n",
              "\n",
              "    .dataframe tbody tr th {\n",
              "        vertical-align: top;\n",
              "    }\n",
              "\n",
              "    .dataframe thead th {\n",
              "        text-align: right;\n",
              "    }\n",
              "</style>\n",
              "<table border=\"1\" class=\"dataframe\">\n",
              "  <thead>\n",
              "    <tr style=\"text-align: right;\">\n",
              "      <th></th>\n",
              "      <th>year</th>\n",
              "      <th>games</th>\n",
              "      <th>goals</th>\n",
              "      <th>npg</th>\n",
              "      <th>shots</th>\n",
              "      <th>assists</th>\n",
              "      <th>yellow_cards</th>\n",
              "      <th>red_cards</th>\n",
              "      <th>time</th>\n",
              "    </tr>\n",
              "  </thead>\n",
              "  <tbody>\n",
              "    <tr>\n",
              "      <th>count</th>\n",
              "      <td>18633.000000</td>\n",
              "      <td>18633.000000</td>\n",
              "      <td>18633.000000</td>\n",
              "      <td>18633.000000</td>\n",
              "      <td>18633.000000</td>\n",
              "      <td>18633.000000</td>\n",
              "      <td>18633.000000</td>\n",
              "      <td>18633.000000</td>\n",
              "      <td>18633.000000</td>\n",
              "    </tr>\n",
              "    <tr>\n",
              "      <th>mean</th>\n",
              "      <td>2016.937691</td>\n",
              "      <td>17.072291</td>\n",
              "      <td>1.624054</td>\n",
              "      <td>1.478399</td>\n",
              "      <td>15.323888</td>\n",
              "      <td>1.138088</td>\n",
              "      <td>2.453979</td>\n",
              "      <td>0.127569</td>\n",
              "      <td>1207.483282</td>\n",
              "    </tr>\n",
              "    <tr>\n",
              "      <th>std</th>\n",
              "      <td>1.976606</td>\n",
              "      <td>11.375527</td>\n",
              "      <td>3.252418</td>\n",
              "      <td>2.891849</td>\n",
              "      <td>20.934645</td>\n",
              "      <td>1.936238</td>\n",
              "      <td>2.685745</td>\n",
              "      <td>0.370656</td>\n",
              "      <td>975.753086</td>\n",
              "    </tr>\n",
              "    <tr>\n",
              "      <th>min</th>\n",
              "      <td>2014.000000</td>\n",
              "      <td>1.000000</td>\n",
              "      <td>0.000000</td>\n",
              "      <td>0.000000</td>\n",
              "      <td>0.000000</td>\n",
              "      <td>0.000000</td>\n",
              "      <td>0.000000</td>\n",
              "      <td>0.000000</td>\n",
              "      <td>1.000000</td>\n",
              "    </tr>\n",
              "    <tr>\n",
              "      <th>25%</th>\n",
              "      <td>2015.000000</td>\n",
              "      <td>7.000000</td>\n",
              "      <td>0.000000</td>\n",
              "      <td>0.000000</td>\n",
              "      <td>1.000000</td>\n",
              "      <td>0.000000</td>\n",
              "      <td>0.000000</td>\n",
              "      <td>0.000000</td>\n",
              "      <td>326.000000</td>\n",
              "    </tr>\n",
              "    <tr>\n",
              "      <th>50%</th>\n",
              "      <td>2017.000000</td>\n",
              "      <td>16.000000</td>\n",
              "      <td>0.000000</td>\n",
              "      <td>0.000000</td>\n",
              "      <td>8.000000</td>\n",
              "      <td>0.000000</td>\n",
              "      <td>2.000000</td>\n",
              "      <td>0.000000</td>\n",
              "      <td>976.000000</td>\n",
              "    </tr>\n",
              "    <tr>\n",
              "      <th>75%</th>\n",
              "      <td>2019.000000</td>\n",
              "      <td>27.000000</td>\n",
              "      <td>2.000000</td>\n",
              "      <td>2.000000</td>\n",
              "      <td>21.000000</td>\n",
              "      <td>2.000000</td>\n",
              "      <td>4.000000</td>\n",
              "      <td>0.000000</td>\n",
              "      <td>2004.000000</td>\n",
              "    </tr>\n",
              "    <tr>\n",
              "      <th>max</th>\n",
              "      <td>2020.000000</td>\n",
              "      <td>38.000000</td>\n",
              "      <td>48.000000</td>\n",
              "      <td>38.000000</td>\n",
              "      <td>227.000000</td>\n",
              "      <td>20.000000</td>\n",
              "      <td>17.000000</td>\n",
              "      <td>5.000000</td>\n",
              "      <td>3420.000000</td>\n",
              "    </tr>\n",
              "  </tbody>\n",
              "</table>\n",
              "</div>"
            ],
            "text/plain": [
              "               year         games         goals           npg         shots  \\\n",
              "count  18633.000000  18633.000000  18633.000000  18633.000000  18633.000000   \n",
              "mean    2016.937691     17.072291      1.624054      1.478399     15.323888   \n",
              "std        1.976606     11.375527      3.252418      2.891849     20.934645   \n",
              "min     2014.000000      1.000000      0.000000      0.000000      0.000000   \n",
              "25%     2015.000000      7.000000      0.000000      0.000000      1.000000   \n",
              "50%     2017.000000     16.000000      0.000000      0.000000      8.000000   \n",
              "75%     2019.000000     27.000000      2.000000      2.000000     21.000000   \n",
              "max     2020.000000     38.000000     48.000000     38.000000    227.000000   \n",
              "\n",
              "            assists  yellow_cards     red_cards          time  \n",
              "count  18633.000000  18633.000000  18633.000000  18633.000000  \n",
              "mean       1.138088      2.453979      0.127569   1207.483282  \n",
              "std        1.936238      2.685745      0.370656    975.753086  \n",
              "min        0.000000      0.000000      0.000000      1.000000  \n",
              "25%        0.000000      0.000000      0.000000    326.000000  \n",
              "50%        0.000000      2.000000      0.000000    976.000000  \n",
              "75%        2.000000      4.000000      0.000000   2004.000000  \n",
              "max       20.000000     17.000000      5.000000   3420.000000  "
            ]
          },
          "execution_count": 11,
          "metadata": {},
          "output_type": "execute_result"
        }
      ],
      "source": [
        "df.describe()"
      ]
    },
    {
      "cell_type": "markdown",
      "metadata": {
        "cell_id": "62dce08bee51436293c4ddd3a9319f33",
        "deepnote_app_coordinates": {
          "h": 5,
          "w": 12,
          "x": 0,
          "y": 102
        },
        "deepnote_cell_type": "markdown",
        "id": "yd3mVVHSQAlr",
        "tags": []
      },
      "source": [
        "## Ordenar los datos"
      ]
    },
    {
      "cell_type": "code",
      "execution_count": null,
      "metadata": {
        "cell_id": "5e0fe537820c4bd9baf9a66920ce567e",
        "deepnote_app_coordinates": {
          "h": 5,
          "w": 12,
          "x": 0,
          "y": 108
        },
        "deepnote_cell_type": "code",
        "deepnote_to_be_reexecuted": false,
        "execution_millis": 170,
        "execution_start": 1645375718620,
        "id": "DSkvFXkrQAlr",
        "outputId": "677b36da-9b5a-4dd9-a3ed-db23487e197e",
        "source_hash": "f08e4a05",
        "tags": []
      },
      "outputs": [
        {
          "data": {
            "application/vnd.deepnote.dataframe.v3+json": {
              "column_count": 12,
              "columns": [
                {
                  "dtype": "object",
                  "name": "player_name",
                  "stats": {
                    "categories": [
                      {
                        "count": 17,
                        "name": "Gabriel"
                      },
                      {
                        "count": 17,
                        "name": "Danilo"
                      },
                      {
                        "count": 18599,
                        "name": "6169 others"
                      }
                    ],
                    "nan_count": 0,
                    "unique_count": 6171
                  }
                },
                {
                  "dtype": "int64",
                  "name": "year",
                  "stats": {
                    "histogram": [
                      {
                        "bin_end": 2014.6,
                        "bin_start": 2014,
                        "count": 2694
                      },
                      {
                        "bin_end": 2015.2,
                        "bin_start": 2014.6,
                        "count": 2771
                      },
                      {
                        "bin_end": 2015.8,
                        "bin_start": 2015.2,
                        "count": 0
                      },
                      {
                        "bin_end": 2016.4,
                        "bin_start": 2015.8,
                        "count": 2731
                      },
                      {
                        "bin_end": 2017,
                        "bin_start": 2016.4,
                        "count": 0
                      },
                      {
                        "bin_end": 2017.6,
                        "bin_start": 2017,
                        "count": 2691
                      },
                      {
                        "bin_end": 2018.2,
                        "bin_start": 2017.6,
                        "count": 2656
                      },
                      {
                        "bin_end": 2018.8,
                        "bin_start": 2018.2,
                        "count": 0
                      },
                      {
                        "bin_end": 2019.4,
                        "bin_start": 2018.8,
                        "count": 2732
                      },
                      {
                        "bin_end": 2020,
                        "bin_start": 2019.4,
                        "count": 2358
                      }
                    ],
                    "max": "2020",
                    "min": "2014",
                    "nan_count": 0,
                    "unique_count": 7
                  }
                },
                {
                  "dtype": "int64",
                  "name": "games",
                  "stats": {
                    "histogram": [
                      {
                        "bin_end": 4.7,
                        "bin_start": 1,
                        "count": 3326
                      },
                      {
                        "bin_end": 8.4,
                        "bin_start": 4.7,
                        "count": 2273
                      },
                      {
                        "bin_end": 12.100000000000001,
                        "bin_start": 8.4,
                        "count": 2313
                      },
                      {
                        "bin_end": 15.8,
                        "bin_start": 12.100000000000001,
                        "count": 1270
                      },
                      {
                        "bin_end": 19.5,
                        "bin_start": 15.8,
                        "count": 1509
                      },
                      {
                        "bin_end": 23.200000000000003,
                        "bin_start": 19.5,
                        "count": 1548
                      },
                      {
                        "bin_end": 26.900000000000002,
                        "bin_start": 23.200000000000003,
                        "count": 1337
                      },
                      {
                        "bin_end": 30.6,
                        "bin_start": 26.900000000000002,
                        "count": 1867
                      },
                      {
                        "bin_end": 34.300000000000004,
                        "bin_start": 30.6,
                        "count": 1960
                      },
                      {
                        "bin_end": 38,
                        "bin_start": 34.300000000000004,
                        "count": 1230
                      }
                    ],
                    "max": "38",
                    "min": "1",
                    "nan_count": 0,
                    "unique_count": 38
                  }
                },
                {
                  "dtype": "int64",
                  "name": "goals",
                  "stats": {
                    "histogram": [
                      {
                        "bin_end": 4.8,
                        "bin_start": 0,
                        "count": 16614
                      },
                      {
                        "bin_end": 9.6,
                        "bin_start": 4.8,
                        "count": 1387
                      },
                      {
                        "bin_end": 14.399999999999999,
                        "bin_start": 9.6,
                        "count": 399
                      },
                      {
                        "bin_end": 19.2,
                        "bin_start": 14.399999999999999,
                        "count": 141
                      },
                      {
                        "bin_end": 24,
                        "bin_start": 19.2,
                        "count": 43
                      },
                      {
                        "bin_end": 28.799999999999997,
                        "bin_start": 24,
                        "count": 24
                      },
                      {
                        "bin_end": 33.6,
                        "bin_start": 28.799999999999997,
                        "count": 13
                      },
                      {
                        "bin_end": 38.4,
                        "bin_start": 33.6,
                        "count": 9
                      },
                      {
                        "bin_end": 43.199999999999996,
                        "bin_start": 38.4,
                        "count": 2
                      },
                      {
                        "bin_end": 48,
                        "bin_start": 43.199999999999996,
                        "count": 1
                      }
                    ],
                    "max": "48",
                    "min": "0",
                    "nan_count": 0,
                    "unique_count": 42
                  }
                },
                {
                  "dtype": "int64",
                  "name": "npg",
                  "stats": {
                    "histogram": [
                      {
                        "bin_end": 3.8,
                        "bin_start": 0,
                        "count": 16191
                      },
                      {
                        "bin_end": 7.6,
                        "bin_start": 3.8,
                        "count": 1628
                      },
                      {
                        "bin_end": 11.399999999999999,
                        "bin_start": 7.6,
                        "count": 506
                      },
                      {
                        "bin_end": 15.2,
                        "bin_start": 11.399999999999999,
                        "count": 182
                      },
                      {
                        "bin_end": 19,
                        "bin_start": 15.2,
                        "count": 55
                      },
                      {
                        "bin_end": 22.799999999999997,
                        "bin_start": 19,
                        "count": 39
                      },
                      {
                        "bin_end": 26.599999999999998,
                        "bin_start": 22.799999999999997,
                        "count": 14
                      },
                      {
                        "bin_end": 30.4,
                        "bin_start": 26.599999999999998,
                        "count": 8
                      },
                      {
                        "bin_end": 34.199999999999996,
                        "bin_start": 30.4,
                        "count": 7
                      },
                      {
                        "bin_end": 38,
                        "bin_start": 34.199999999999996,
                        "count": 3
                      }
                    ],
                    "max": "38",
                    "min": "0",
                    "nan_count": 0,
                    "unique_count": 34
                  }
                },
                {
                  "dtype": "int64",
                  "name": "shots"
                },
                {
                  "dtype": "int64",
                  "name": "assists"
                },
                {
                  "dtype": "int64",
                  "name": "yellow_cards"
                },
                {
                  "dtype": "int64",
                  "name": "red_cards"
                },
                {
                  "dtype": "object",
                  "name": "position"
                },
                {
                  "dtype": "object",
                  "name": "team_name"
                },
                {
                  "dtype": "int64",
                  "name": "time"
                },
                {
                  "dtype": "int64",
                  "name": "_deepnote_index_column"
                }
              ],
              "row_count": 18633,
              "rows": [
                {
                  "_deepnote_index_column": 250,
                  "assists": 0,
                  "games": 6,
                  "goals": 0,
                  "npg": 0,
                  "player_name": "Ørjan Nyland",
                  "position": "GK",
                  "red_cards": 0,
                  "shots": 0,
                  "team_name": "Ingolstadt",
                  "time": 540,
                  "year": 2015,
                  "yellow_cards": 0
                },
                {
                  "_deepnote_index_column": 250,
                  "assists": 0,
                  "games": 12,
                  "goals": 0,
                  "npg": 0,
                  "player_name": "Ørjan Nyland",
                  "position": "GK S",
                  "red_cards": 0,
                  "shots": 0,
                  "team_name": "Ingolstadt",
                  "time": 1021,
                  "year": 2016,
                  "yellow_cards": 0
                },
                {
                  "_deepnote_index_column": 250,
                  "assists": 0,
                  "games": 7,
                  "goals": 0,
                  "npg": 0,
                  "player_name": "Ørjan Nyland",
                  "position": "GK S",
                  "red_cards": 0,
                  "shots": 0,
                  "team_name": "Aston Villa",
                  "time": 536,
                  "year": 2019,
                  "yellow_cards": 0
                },
                {
                  "_deepnote_index_column": 2646,
                  "assists": 0,
                  "games": 1,
                  "goals": 0,
                  "npg": 0,
                  "player_name": "Özkan Yildirim",
                  "position": "M",
                  "red_cards": 0,
                  "shots": 0,
                  "team_name": "Werder Bremen",
                  "time": 60,
                  "year": 2014,
                  "yellow_cards": 0
                },
                {
                  "_deepnote_index_column": 2646,
                  "assists": 0,
                  "games": 1,
                  "goals": 0,
                  "npg": 0,
                  "player_name": "Özkan Yildirim",
                  "position": "S",
                  "red_cards": 0,
                  "shots": 1,
                  "team_name": "Werder Bremen",
                  "time": 13,
                  "year": 2015,
                  "yellow_cards": 0
                },
                {
                  "_deepnote_index_column": 184,
                  "assists": 0,
                  "games": 29,
                  "goals": 1,
                  "npg": 1,
                  "player_name": "Ömer Toprak",
                  "position": "D S",
                  "red_cards": 0,
                  "shots": 10,
                  "team_name": "Bayer Leverkusen",
                  "time": 2494,
                  "year": 2014,
                  "yellow_cards": 10
                },
                {
                  "_deepnote_index_column": 184,
                  "assists": 1,
                  "games": 26,
                  "goals": 0,
                  "npg": 0,
                  "player_name": "Ömer Toprak",
                  "position": "D S",
                  "red_cards": 0,
                  "shots": 13,
                  "team_name": "Borussia Dortmund",
                  "time": 2017,
                  "year": 2017,
                  "yellow_cards": 1
                },
                {
                  "_deepnote_index_column": 184,
                  "assists": 0,
                  "games": 9,
                  "goals": 0,
                  "npg": 0,
                  "player_name": "Ömer Toprak",
                  "position": "D S",
                  "red_cards": 0,
                  "shots": 1,
                  "team_name": "Borussia Dortmund",
                  "time": 230,
                  "year": 2018,
                  "yellow_cards": 0
                },
                {
                  "_deepnote_index_column": 184,
                  "assists": 0,
                  "games": 25,
                  "goals": 1,
                  "npg": 1,
                  "player_name": "Ömer Toprak",
                  "position": "D",
                  "red_cards": 0,
                  "shots": 11,
                  "team_name": "Bayer Leverkusen",
                  "time": 2107,
                  "year": 2016,
                  "yellow_cards": 6
                },
                {
                  "_deepnote_index_column": 184,
                  "assists": 0,
                  "games": 10,
                  "goals": 0,
                  "npg": 0,
                  "player_name": "Ömer Toprak",
                  "position": "D S",
                  "red_cards": 0,
                  "shots": 4,
                  "team_name": "Werder Bremen",
                  "time": 717,
                  "year": 2019,
                  "yellow_cards": 2
                }
              ]
            },
            "text/html": [
              "<div>\n",
              "<style scoped>\n",
              "    .dataframe tbody tr th:only-of-type {\n",
              "        vertical-align: middle;\n",
              "    }\n",
              "\n",
              "    .dataframe tbody tr th {\n",
              "        vertical-align: top;\n",
              "    }\n",
              "\n",
              "    .dataframe thead th {\n",
              "        text-align: right;\n",
              "    }\n",
              "</style>\n",
              "<table border=\"1\" class=\"dataframe\">\n",
              "  <thead>\n",
              "    <tr style=\"text-align: right;\">\n",
              "      <th></th>\n",
              "      <th>player_name</th>\n",
              "      <th>year</th>\n",
              "      <th>games</th>\n",
              "      <th>goals</th>\n",
              "      <th>npg</th>\n",
              "      <th>shots</th>\n",
              "      <th>assists</th>\n",
              "      <th>yellow_cards</th>\n",
              "      <th>red_cards</th>\n",
              "      <th>position</th>\n",
              "      <th>team_name</th>\n",
              "      <th>time</th>\n",
              "    </tr>\n",
              "    <tr>\n",
              "      <th>player_id</th>\n",
              "      <th></th>\n",
              "      <th></th>\n",
              "      <th></th>\n",
              "      <th></th>\n",
              "      <th></th>\n",
              "      <th></th>\n",
              "      <th></th>\n",
              "      <th></th>\n",
              "      <th></th>\n",
              "      <th></th>\n",
              "      <th></th>\n",
              "      <th></th>\n",
              "    </tr>\n",
              "  </thead>\n",
              "  <tbody>\n",
              "    <tr>\n",
              "      <th>250</th>\n",
              "      <td>Ørjan Nyland</td>\n",
              "      <td>2015</td>\n",
              "      <td>6</td>\n",
              "      <td>0</td>\n",
              "      <td>0</td>\n",
              "      <td>0</td>\n",
              "      <td>0</td>\n",
              "      <td>0</td>\n",
              "      <td>0</td>\n",
              "      <td>GK</td>\n",
              "      <td>Ingolstadt</td>\n",
              "      <td>540</td>\n",
              "    </tr>\n",
              "    <tr>\n",
              "      <th>250</th>\n",
              "      <td>Ørjan Nyland</td>\n",
              "      <td>2016</td>\n",
              "      <td>12</td>\n",
              "      <td>0</td>\n",
              "      <td>0</td>\n",
              "      <td>0</td>\n",
              "      <td>0</td>\n",
              "      <td>0</td>\n",
              "      <td>0</td>\n",
              "      <td>GK S</td>\n",
              "      <td>Ingolstadt</td>\n",
              "      <td>1021</td>\n",
              "    </tr>\n",
              "    <tr>\n",
              "      <th>250</th>\n",
              "      <td>Ørjan Nyland</td>\n",
              "      <td>2019</td>\n",
              "      <td>7</td>\n",
              "      <td>0</td>\n",
              "      <td>0</td>\n",
              "      <td>0</td>\n",
              "      <td>0</td>\n",
              "      <td>0</td>\n",
              "      <td>0</td>\n",
              "      <td>GK S</td>\n",
              "      <td>Aston Villa</td>\n",
              "      <td>536</td>\n",
              "    </tr>\n",
              "    <tr>\n",
              "      <th>2646</th>\n",
              "      <td>Özkan Yildirim</td>\n",
              "      <td>2014</td>\n",
              "      <td>1</td>\n",
              "      <td>0</td>\n",
              "      <td>0</td>\n",
              "      <td>0</td>\n",
              "      <td>0</td>\n",
              "      <td>0</td>\n",
              "      <td>0</td>\n",
              "      <td>M</td>\n",
              "      <td>Werder Bremen</td>\n",
              "      <td>60</td>\n",
              "    </tr>\n",
              "    <tr>\n",
              "      <th>2646</th>\n",
              "      <td>Özkan Yildirim</td>\n",
              "      <td>2015</td>\n",
              "      <td>1</td>\n",
              "      <td>0</td>\n",
              "      <td>0</td>\n",
              "      <td>1</td>\n",
              "      <td>0</td>\n",
              "      <td>0</td>\n",
              "      <td>0</td>\n",
              "      <td>S</td>\n",
              "      <td>Werder Bremen</td>\n",
              "      <td>13</td>\n",
              "    </tr>\n",
              "    <tr>\n",
              "      <th>...</th>\n",
              "      <td>...</td>\n",
              "      <td>...</td>\n",
              "      <td>...</td>\n",
              "      <td>...</td>\n",
              "      <td>...</td>\n",
              "      <td>...</td>\n",
              "      <td>...</td>\n",
              "      <td>...</td>\n",
              "      <td>...</td>\n",
              "      <td>...</td>\n",
              "      <td>...</td>\n",
              "      <td>...</td>\n",
              "    </tr>\n",
              "    <tr>\n",
              "      <th>534</th>\n",
              "      <td>Aaron Cresswell</td>\n",
              "      <td>2018</td>\n",
              "      <td>20</td>\n",
              "      <td>0</td>\n",
              "      <td>0</td>\n",
              "      <td>11</td>\n",
              "      <td>1</td>\n",
              "      <td>1</td>\n",
              "      <td>0</td>\n",
              "      <td>D S</td>\n",
              "      <td>West Ham</td>\n",
              "      <td>1586</td>\n",
              "    </tr>\n",
              "    <tr>\n",
              "      <th>534</th>\n",
              "      <td>Aaron Cresswell</td>\n",
              "      <td>2020</td>\n",
              "      <td>11</td>\n",
              "      <td>0</td>\n",
              "      <td>0</td>\n",
              "      <td>4</td>\n",
              "      <td>3</td>\n",
              "      <td>0</td>\n",
              "      <td>0</td>\n",
              "      <td>D</td>\n",
              "      <td>West Ham</td>\n",
              "      <td>990</td>\n",
              "    </tr>\n",
              "    <tr>\n",
              "      <th>534</th>\n",
              "      <td>Aaron Cresswell</td>\n",
              "      <td>2019</td>\n",
              "      <td>31</td>\n",
              "      <td>3</td>\n",
              "      <td>3</td>\n",
              "      <td>18</td>\n",
              "      <td>0</td>\n",
              "      <td>7</td>\n",
              "      <td>0</td>\n",
              "      <td>D</td>\n",
              "      <td>West Ham</td>\n",
              "      <td>2739</td>\n",
              "    </tr>\n",
              "    <tr>\n",
              "      <th>7991</th>\n",
              "      <td>Aaron Connolly</td>\n",
              "      <td>2019</td>\n",
              "      <td>24</td>\n",
              "      <td>3</td>\n",
              "      <td>3</td>\n",
              "      <td>36</td>\n",
              "      <td>1</td>\n",
              "      <td>0</td>\n",
              "      <td>0</td>\n",
              "      <td>F S</td>\n",
              "      <td>Brighton</td>\n",
              "      <td>1279</td>\n",
              "    </tr>\n",
              "    <tr>\n",
              "      <th>7991</th>\n",
              "      <td>Aaron Connolly</td>\n",
              "      <td>2020</td>\n",
              "      <td>8</td>\n",
              "      <td>1</td>\n",
              "      <td>1</td>\n",
              "      <td>9</td>\n",
              "      <td>1</td>\n",
              "      <td>0</td>\n",
              "      <td>0</td>\n",
              "      <td>F S</td>\n",
              "      <td>Brighton</td>\n",
              "      <td>425</td>\n",
              "    </tr>\n",
              "  </tbody>\n",
              "</table>\n",
              "<p>18633 rows × 12 columns</p>\n",
              "</div>"
            ],
            "text/plain": [
              "               player_name  year  games  goals  npg  shots  assists  \\\n",
              "player_id                                                             \n",
              "250           Ørjan Nyland  2015      6      0    0      0        0   \n",
              "250           Ørjan Nyland  2016     12      0    0      0        0   \n",
              "250           Ørjan Nyland  2019      7      0    0      0        0   \n",
              "2646        Özkan Yildirim  2014      1      0    0      0        0   \n",
              "2646        Özkan Yildirim  2015      1      0    0      1        0   \n",
              "...                    ...   ...    ...    ...  ...    ...      ...   \n",
              "534        Aaron Cresswell  2018     20      0    0     11        1   \n",
              "534        Aaron Cresswell  2020     11      0    0      4        3   \n",
              "534        Aaron Cresswell  2019     31      3    3     18        0   \n",
              "7991        Aaron Connolly  2019     24      3    3     36        1   \n",
              "7991        Aaron Connolly  2020      8      1    1      9        1   \n",
              "\n",
              "           yellow_cards  red_cards position      team_name  time  \n",
              "player_id                                                         \n",
              "250                   0          0       GK     Ingolstadt   540  \n",
              "250                   0          0     GK S     Ingolstadt  1021  \n",
              "250                   0          0     GK S    Aston Villa   536  \n",
              "2646                  0          0        M  Werder Bremen    60  \n",
              "2646                  0          0        S  Werder Bremen    13  \n",
              "...                 ...        ...      ...            ...   ...  \n",
              "534                   1          0      D S       West Ham  1586  \n",
              "534                   0          0        D       West Ham   990  \n",
              "534                   7          0        D       West Ham  2739  \n",
              "7991                  0          0      F S       Brighton  1279  \n",
              "7991                  0          0      F S       Brighton   425  \n",
              "\n",
              "[18633 rows x 12 columns]"
            ]
          },
          "execution_count": 12,
          "metadata": {},
          "output_type": "execute_result"
        }
      ],
      "source": [
        "df.sort_values('player_name', ascending=False)"
      ]
    },
    {
      "cell_type": "code",
      "execution_count": null,
      "metadata": {
        "cell_id": "922b4bd8ea31488791998c6060eddbfe",
        "deepnote_app_coordinates": {
          "h": 5,
          "w": 12,
          "x": 0,
          "y": 114
        },
        "deepnote_cell_type": "code",
        "deepnote_to_be_reexecuted": false,
        "execution_millis": 38,
        "execution_start": 1645375718794,
        "id": "BoI_rgmTQAls",
        "outputId": "71c37bba-0a59-450a-f95d-20708014391d",
        "source_hash": "1d75dd26",
        "tags": []
      },
      "outputs": [
        {
          "name": "stdout",
          "output_type": "stream",
          "text": [
            "            player_name  year  games  goals  npg  shots  assists  \\\n",
            "player_id                                                          \n",
            "1125       Carlos Bacca  2015     38     18   16     77        2   \n",
            "2014       Jérémy Menez  2014     33     16    8     78        4   \n",
            "1125       Carlos Bacca  2016     32     13    9     56        3   \n",
            "\n",
            "           yellow_cards  red_cards position team_name  time  \n",
            "player_id                                                    \n",
            "1125                  2          0      F S  AC Milan  3179  \n",
            "2014                  3          1    F M S  AC Milan  2713  \n",
            "1125                  3          0      F S  AC Milan  2152  \n"
          ]
        }
      ],
      "source": [
        "print(df.sort_values(['team_name', 'goals'], ascending=[True, False]).head(3))"
      ]
    },
    {
      "cell_type": "markdown",
      "metadata": {
        "cell_id": "5659facc5a23459a8c84d20c1ba8a744",
        "deepnote_app_coordinates": {
          "h": 5,
          "w": 12,
          "x": 0,
          "y": 120
        },
        "deepnote_cell_type": "markdown",
        "id": "ap13lJuDQAls",
        "tags": []
      },
      "source": [
        "## Subconjuntos y filtros de datos"
      ]
    },
    {
      "cell_type": "markdown",
      "metadata": {
        "cell_id": "425c30b727af446497deb77d50ca6fc0",
        "deepnote_app_coordinates": {
          "h": 5,
          "w": 12,
          "x": 0,
          "y": 126
        },
        "deepnote_cell_type": "markdown",
        "id": "GbkKxrzBQAls",
        "tags": []
      },
      "source": [
        "### Subsetting columns"
      ]
    },
    {
      "cell_type": "code",
      "execution_count": null,
      "metadata": {
        "cell_id": "2a54e205b60d47f0a8a829f873db3cb6",
        "deepnote_app_coordinates": {
          "h": 5,
          "w": 12,
          "x": 0,
          "y": 132
        },
        "deepnote_cell_type": "code",
        "deepnote_output_heights": [
          611
        ],
        "deepnote_to_be_reexecuted": false,
        "execution_millis": 5,
        "execution_start": 1645375718840,
        "id": "AoeHusBaQAlt",
        "outputId": "5d24f731-6b9e-4c87-c7a6-3b52aa77f534",
        "source_hash": "3205009b",
        "tags": []
      },
      "outputs": [
        {
          "data": {
            "text/plain": [
              "array(['Aston Villa', 'Everton', 'Southampton', 'Leicester',\n",
              "       'West Bromwich Albion', 'Crystal Palace', 'Chelsea', 'West Ham',\n",
              "       'Tottenham', 'Arsenal', 'Newcastle United', 'Liverpool',\n",
              "       'Manchester City', 'Manchester United', 'Burnley', 'Brighton',\n",
              "       'Fulham', 'Wolverhampton Wanderers', 'Sheffield United', 'Leeds',\n",
              "       'Sevilla', 'Real Sociedad', 'Getafe', 'Atletico Madrid',\n",
              "       'Valencia', 'Athletic Club', 'Barcelona', 'Real Madrid', 'Levante',\n",
              "       'Celta Vigo', 'Real Betis', 'Villarreal', 'Granada', 'Eibar',\n",
              "       'Osasuna', 'Alaves', 'Elche', 'Real Valladolid', 'SD Huesca',\n",
              "       'Cadiz', 'Verona', 'Roma', 'Lazio', 'Bologna', 'Juventus',\n",
              "       'Udinese', 'Genoa', 'Sampdoria', 'Sassuolo', 'Napoli', 'Inter',\n",
              "       'Atalanta', 'Fiorentina', 'AC Milan', 'Torino', 'Crotone',\n",
              "       'Cagliari', 'Benevento', 'Parma Calcio 1913', 'Spezia', 'Lille',\n",
              "       'Paris Saint Germain', 'Rennes', 'Marseille', 'Montpellier',\n",
              "       'Angers', 'Nantes', 'Nice', 'Monaco', 'Saint-Etienne', 'Bordeaux',\n",
              "       'Reims', 'Lyon', 'Lorient', 'Metz', 'Dijon', 'Lens', 'Strasbourg',\n",
              "       'Nimes', 'Brest', 'Bayern Munich', 'Bayer Leverkusen',\n",
              "       'Hoffenheim', 'Augsburg', 'Hertha Berlin', 'Werder Bremen',\n",
              "       'Schalke 04', 'Mainz 05', 'Borussia Dortmund',\n",
              "       'Borussia M.Gladbach', 'Wolfsburg', 'Eintracht Frankfurt',\n",
              "       'VfB Stuttgart', 'FC Cologne', 'Freiburg',\n",
              "       'RasenBallsport Leipzig', 'Union Berlin', 'Arminia Bielefeld',\n",
              "       'Bournemouth', 'Norwich', 'Watford', 'Espanyol', 'Leganes',\n",
              "       'Mallorca', 'SPAL 2013', 'Brescia', 'Lecce', 'Toulouse', 'Amiens',\n",
              "       'Paderborn', 'Fortuna Duesseldorf', 'Huddersfield', 'Cardiff',\n",
              "       'Rayo Vallecano', 'Girona', 'Empoli', 'Chievo', 'Frosinone',\n",
              "       'Caen', 'Guingamp', 'Hannover 96', 'Nuernberg', 'Swansea', 'Stoke',\n",
              "       'Malaga', 'Deportivo La Coruna', 'Las Palmas', 'Troyes',\n",
              "       'Hamburger SV', 'Sunderland', 'Hull', 'Middlesbrough',\n",
              "       'Sporting Gijon', 'Palermo', 'Pescara', 'SC Bastia', 'Nancy',\n",
              "       'Ingolstadt', 'Darmstadt', 'Carpi', 'GFC Ajaccio',\n",
              "       'Queens Park Rangers', 'Cordoba', 'Almeria', 'Cesena', 'Parma',\n",
              "       'Evian Thonon Gaillard'], dtype=object)"
            ]
          },
          "execution_count": 14,
          "metadata": {},
          "output_type": "execute_result"
        }
      ],
      "source": [
        "df['team_name'].unique()#retorna valores que son unicos es decir todos los valores \n",
        "                        #que no se repiten en data frame"
      ]
    },
    {
      "cell_type": "markdown",
      "metadata": {
        "cell_id": "7eeb0783e8aa4085b1309845f3d176cf",
        "deepnote_app_coordinates": {
          "h": 5,
          "w": 12,
          "x": 0,
          "y": 138
        },
        "deepnote_cell_type": "markdown",
        "id": "-icT7UpfQAlt",
        "tags": []
      },
      "source": [
        "### Filtrar filas"
      ]
    },
    {
      "cell_type": "code",
      "execution_count": null,
      "metadata": {
        "cell_id": "8b29bc900e1b4134aeb5b6549806c904",
        "deepnote_app_coordinates": {
          "h": 5,
          "w": 12,
          "x": 0,
          "y": 144
        },
        "deepnote_cell_type": "code",
        "deepnote_to_be_reexecuted": false,
        "execution_millis": 51,
        "execution_start": 1645375718896,
        "id": "_2_MGmRpQAlt",
        "outputId": "2d69fc45-29bd-4cea-8365-48401d375f36",
        "source_hash": "1c5a0e1b",
        "tags": []
      },
      "outputs": [
        {
          "data": {
            "application/vnd.deepnote.dataframe.v3+json": {
              "column_count": 12,
              "columns": [
                {
                  "dtype": "object",
                  "name": "player_name",
                  "stats": {
                    "categories": [
                      {
                        "count": 2,
                        "name": "Aaron Connolly"
                      }
                    ],
                    "nan_count": 0,
                    "unique_count": 1
                  }
                },
                {
                  "dtype": "int64",
                  "name": "year",
                  "stats": {
                    "histogram": [
                      {
                        "bin_end": 2019.1,
                        "bin_start": 2019,
                        "count": 1
                      },
                      {
                        "bin_end": 2019.2,
                        "bin_start": 2019.1,
                        "count": 0
                      },
                      {
                        "bin_end": 2019.3,
                        "bin_start": 2019.2,
                        "count": 0
                      },
                      {
                        "bin_end": 2019.4,
                        "bin_start": 2019.3,
                        "count": 0
                      },
                      {
                        "bin_end": 2019.5,
                        "bin_start": 2019.4,
                        "count": 0
                      },
                      {
                        "bin_end": 2019.6,
                        "bin_start": 2019.5,
                        "count": 0
                      },
                      {
                        "bin_end": 2019.7,
                        "bin_start": 2019.6,
                        "count": 0
                      },
                      {
                        "bin_end": 2019.8,
                        "bin_start": 2019.7,
                        "count": 0
                      },
                      {
                        "bin_end": 2019.9,
                        "bin_start": 2019.8,
                        "count": 0
                      },
                      {
                        "bin_end": 2020,
                        "bin_start": 2019.9,
                        "count": 1
                      }
                    ],
                    "max": "2020",
                    "min": "2019",
                    "nan_count": 0,
                    "unique_count": 2
                  }
                },
                {
                  "dtype": "int64",
                  "name": "games",
                  "stats": {
                    "histogram": [
                      {
                        "bin_end": 9.6,
                        "bin_start": 8,
                        "count": 1
                      },
                      {
                        "bin_end": 11.2,
                        "bin_start": 9.6,
                        "count": 0
                      },
                      {
                        "bin_end": 12.8,
                        "bin_start": 11.2,
                        "count": 0
                      },
                      {
                        "bin_end": 14.4,
                        "bin_start": 12.8,
                        "count": 0
                      },
                      {
                        "bin_end": 16,
                        "bin_start": 14.4,
                        "count": 0
                      },
                      {
                        "bin_end": 17.6,
                        "bin_start": 16,
                        "count": 0
                      },
                      {
                        "bin_end": 19.200000000000003,
                        "bin_start": 17.6,
                        "count": 0
                      },
                      {
                        "bin_end": 20.8,
                        "bin_start": 19.200000000000003,
                        "count": 0
                      },
                      {
                        "bin_end": 22.4,
                        "bin_start": 20.8,
                        "count": 0
                      },
                      {
                        "bin_end": 24,
                        "bin_start": 22.4,
                        "count": 1
                      }
                    ],
                    "max": "24",
                    "min": "8",
                    "nan_count": 0,
                    "unique_count": 2
                  }
                },
                {
                  "dtype": "int64",
                  "name": "goals",
                  "stats": {
                    "histogram": [
                      {
                        "bin_end": 1.2,
                        "bin_start": 1,
                        "count": 1
                      },
                      {
                        "bin_end": 1.4,
                        "bin_start": 1.2,
                        "count": 0
                      },
                      {
                        "bin_end": 1.6,
                        "bin_start": 1.4,
                        "count": 0
                      },
                      {
                        "bin_end": 1.8,
                        "bin_start": 1.6,
                        "count": 0
                      },
                      {
                        "bin_end": 2,
                        "bin_start": 1.8,
                        "count": 0
                      },
                      {
                        "bin_end": 2.2,
                        "bin_start": 2,
                        "count": 0
                      },
                      {
                        "bin_end": 2.4000000000000004,
                        "bin_start": 2.2,
                        "count": 0
                      },
                      {
                        "bin_end": 2.6,
                        "bin_start": 2.4000000000000004,
                        "count": 0
                      },
                      {
                        "bin_end": 2.8,
                        "bin_start": 2.6,
                        "count": 0
                      },
                      {
                        "bin_end": 3,
                        "bin_start": 2.8,
                        "count": 1
                      }
                    ],
                    "max": "3",
                    "min": "1",
                    "nan_count": 0,
                    "unique_count": 2
                  }
                },
                {
                  "dtype": "int64",
                  "name": "npg",
                  "stats": {
                    "histogram": [
                      {
                        "bin_end": 1.2,
                        "bin_start": 1,
                        "count": 1
                      },
                      {
                        "bin_end": 1.4,
                        "bin_start": 1.2,
                        "count": 0
                      },
                      {
                        "bin_end": 1.6,
                        "bin_start": 1.4,
                        "count": 0
                      },
                      {
                        "bin_end": 1.8,
                        "bin_start": 1.6,
                        "count": 0
                      },
                      {
                        "bin_end": 2,
                        "bin_start": 1.8,
                        "count": 0
                      },
                      {
                        "bin_end": 2.2,
                        "bin_start": 2,
                        "count": 0
                      },
                      {
                        "bin_end": 2.4000000000000004,
                        "bin_start": 2.2,
                        "count": 0
                      },
                      {
                        "bin_end": 2.6,
                        "bin_start": 2.4000000000000004,
                        "count": 0
                      },
                      {
                        "bin_end": 2.8,
                        "bin_start": 2.6,
                        "count": 0
                      },
                      {
                        "bin_end": 3,
                        "bin_start": 2.8,
                        "count": 1
                      }
                    ],
                    "max": "3",
                    "min": "1",
                    "nan_count": 0,
                    "unique_count": 2
                  }
                },
                {
                  "dtype": "int64",
                  "name": "shots",
                  "stats": {
                    "histogram": [
                      {
                        "bin_end": 11.7,
                        "bin_start": 9,
                        "count": 1
                      },
                      {
                        "bin_end": 14.4,
                        "bin_start": 11.7,
                        "count": 0
                      },
                      {
                        "bin_end": 17.1,
                        "bin_start": 14.4,
                        "count": 0
                      },
                      {
                        "bin_end": 19.8,
                        "bin_start": 17.1,
                        "count": 0
                      },
                      {
                        "bin_end": 22.5,
                        "bin_start": 19.8,
                        "count": 0
                      },
                      {
                        "bin_end": 25.200000000000003,
                        "bin_start": 22.5,
                        "count": 0
                      },
                      {
                        "bin_end": 27.900000000000002,
                        "bin_start": 25.200000000000003,
                        "count": 0
                      },
                      {
                        "bin_end": 30.6,
                        "bin_start": 27.900000000000002,
                        "count": 0
                      },
                      {
                        "bin_end": 33.3,
                        "bin_start": 30.6,
                        "count": 0
                      },
                      {
                        "bin_end": 36,
                        "bin_start": 33.3,
                        "count": 1
                      }
                    ],
                    "max": "36",
                    "min": "9",
                    "nan_count": 0,
                    "unique_count": 2
                  }
                },
                {
                  "dtype": "int64",
                  "name": "assists",
                  "stats": {
                    "histogram": [
                      {
                        "bin_end": 0.6,
                        "bin_start": 0.5,
                        "count": 0
                      },
                      {
                        "bin_end": 0.7,
                        "bin_start": 0.6,
                        "count": 0
                      },
                      {
                        "bin_end": 0.8,
                        "bin_start": 0.7,
                        "count": 0
                      },
                      {
                        "bin_end": 0.9,
                        "bin_start": 0.8,
                        "count": 0
                      },
                      {
                        "bin_end": 1,
                        "bin_start": 0.9,
                        "count": 0
                      },
                      {
                        "bin_end": 1.1,
                        "bin_start": 1,
                        "count": 2
                      },
                      {
                        "bin_end": 1.2000000000000002,
                        "bin_start": 1.1,
                        "count": 0
                      },
                      {
                        "bin_end": 1.3,
                        "bin_start": 1.2000000000000002,
                        "count": 0
                      },
                      {
                        "bin_end": 1.4,
                        "bin_start": 1.3,
                        "count": 0
                      },
                      {
                        "bin_end": 1.5,
                        "bin_start": 1.4,
                        "count": 0
                      }
                    ],
                    "max": "1",
                    "min": "1",
                    "nan_count": 0,
                    "unique_count": 1
                  }
                },
                {
                  "dtype": "int64",
                  "name": "yellow_cards",
                  "stats": {
                    "histogram": [
                      {
                        "bin_end": -0.4,
                        "bin_start": -0.5,
                        "count": 0
                      },
                      {
                        "bin_end": -0.3,
                        "bin_start": -0.4,
                        "count": 0
                      },
                      {
                        "bin_end": -0.19999999999999996,
                        "bin_start": -0.3,
                        "count": 0
                      },
                      {
                        "bin_end": -0.09999999999999998,
                        "bin_start": -0.19999999999999996,
                        "count": 0
                      },
                      {
                        "bin_end": 0,
                        "bin_start": -0.09999999999999998,
                        "count": 0
                      },
                      {
                        "bin_end": 0.10000000000000009,
                        "bin_start": 0,
                        "count": 2
                      },
                      {
                        "bin_end": 0.20000000000000007,
                        "bin_start": 0.10000000000000009,
                        "count": 0
                      },
                      {
                        "bin_end": 0.30000000000000004,
                        "bin_start": 0.20000000000000007,
                        "count": 0
                      },
                      {
                        "bin_end": 0.4,
                        "bin_start": 0.30000000000000004,
                        "count": 0
                      },
                      {
                        "bin_end": 0.5,
                        "bin_start": 0.4,
                        "count": 0
                      }
                    ],
                    "max": "0",
                    "min": "0",
                    "nan_count": 0,
                    "unique_count": 1
                  }
                },
                {
                  "dtype": "int64",
                  "name": "red_cards",
                  "stats": {
                    "histogram": [
                      {
                        "bin_end": -0.4,
                        "bin_start": -0.5,
                        "count": 0
                      },
                      {
                        "bin_end": -0.3,
                        "bin_start": -0.4,
                        "count": 0
                      },
                      {
                        "bin_end": -0.19999999999999996,
                        "bin_start": -0.3,
                        "count": 0
                      },
                      {
                        "bin_end": -0.09999999999999998,
                        "bin_start": -0.19999999999999996,
                        "count": 0
                      },
                      {
                        "bin_end": 0,
                        "bin_start": -0.09999999999999998,
                        "count": 0
                      },
                      {
                        "bin_end": 0.10000000000000009,
                        "bin_start": 0,
                        "count": 2
                      },
                      {
                        "bin_end": 0.20000000000000007,
                        "bin_start": 0.10000000000000009,
                        "count": 0
                      },
                      {
                        "bin_end": 0.30000000000000004,
                        "bin_start": 0.20000000000000007,
                        "count": 0
                      },
                      {
                        "bin_end": 0.4,
                        "bin_start": 0.30000000000000004,
                        "count": 0
                      },
                      {
                        "bin_end": 0.5,
                        "bin_start": 0.4,
                        "count": 0
                      }
                    ],
                    "max": "0",
                    "min": "0",
                    "nan_count": 0,
                    "unique_count": 1
                  }
                },
                {
                  "dtype": "object",
                  "name": "position",
                  "stats": {
                    "categories": [
                      {
                        "count": 2,
                        "name": "F S"
                      }
                    ],
                    "nan_count": 0,
                    "unique_count": 1
                  }
                },
                {
                  "dtype": "object",
                  "name": "team_name",
                  "stats": {
                    "categories": [
                      {
                        "count": 2,
                        "name": "Brighton"
                      }
                    ],
                    "nan_count": 0,
                    "unique_count": 1
                  }
                },
                {
                  "dtype": "int64",
                  "name": "time",
                  "stats": {
                    "histogram": [
                      {
                        "bin_end": 510.4,
                        "bin_start": 425,
                        "count": 1
                      },
                      {
                        "bin_end": 595.8,
                        "bin_start": 510.4,
                        "count": 0
                      },
                      {
                        "bin_end": 681.2,
                        "bin_start": 595.8,
                        "count": 0
                      },
                      {
                        "bin_end": 766.6,
                        "bin_start": 681.2,
                        "count": 0
                      },
                      {
                        "bin_end": 852,
                        "bin_start": 766.6,
                        "count": 0
                      },
                      {
                        "bin_end": 937.4000000000001,
                        "bin_start": 852,
                        "count": 0
                      },
                      {
                        "bin_end": 1022.8000000000001,
                        "bin_start": 937.4000000000001,
                        "count": 0
                      },
                      {
                        "bin_end": 1108.2,
                        "bin_start": 1022.8000000000001,
                        "count": 0
                      },
                      {
                        "bin_end": 1193.6,
                        "bin_start": 1108.2,
                        "count": 0
                      },
                      {
                        "bin_end": 1279,
                        "bin_start": 1193.6,
                        "count": 1
                      }
                    ],
                    "max": "1279",
                    "min": "425",
                    "nan_count": 0,
                    "unique_count": 2
                  }
                },
                {
                  "dtype": "int64",
                  "name": "_deepnote_index_column"
                }
              ],
              "row_count": 2,
              "rows": [
                {
                  "_deepnote_index_column": 7991,
                  "assists": 1,
                  "games": 8,
                  "goals": 1,
                  "npg": 1,
                  "player_name": "Aaron Connolly",
                  "position": "F S",
                  "red_cards": 0,
                  "shots": 9,
                  "team_name": "Brighton",
                  "time": 425,
                  "year": 2020,
                  "yellow_cards": 0
                },
                {
                  "_deepnote_index_column": 7991,
                  "assists": 1,
                  "games": 24,
                  "goals": 3,
                  "npg": 3,
                  "player_name": "Aaron Connolly",
                  "position": "F S",
                  "red_cards": 0,
                  "shots": 36,
                  "team_name": "Brighton",
                  "time": 1279,
                  "year": 2019,
                  "yellow_cards": 0
                }
              ]
            },
            "text/html": [
              "<div>\n",
              "<style scoped>\n",
              "    .dataframe tbody tr th:only-of-type {\n",
              "        vertical-align: middle;\n",
              "    }\n",
              "\n",
              "    .dataframe tbody tr th {\n",
              "        vertical-align: top;\n",
              "    }\n",
              "\n",
              "    .dataframe thead th {\n",
              "        text-align: right;\n",
              "    }\n",
              "</style>\n",
              "<table border=\"1\" class=\"dataframe\">\n",
              "  <thead>\n",
              "    <tr style=\"text-align: right;\">\n",
              "      <th></th>\n",
              "      <th>player_name</th>\n",
              "      <th>year</th>\n",
              "      <th>games</th>\n",
              "      <th>goals</th>\n",
              "      <th>npg</th>\n",
              "      <th>shots</th>\n",
              "      <th>assists</th>\n",
              "      <th>yellow_cards</th>\n",
              "      <th>red_cards</th>\n",
              "      <th>position</th>\n",
              "      <th>team_name</th>\n",
              "      <th>time</th>\n",
              "    </tr>\n",
              "    <tr>\n",
              "      <th>player_id</th>\n",
              "      <th></th>\n",
              "      <th></th>\n",
              "      <th></th>\n",
              "      <th></th>\n",
              "      <th></th>\n",
              "      <th></th>\n",
              "      <th></th>\n",
              "      <th></th>\n",
              "      <th></th>\n",
              "      <th></th>\n",
              "      <th></th>\n",
              "      <th></th>\n",
              "    </tr>\n",
              "  </thead>\n",
              "  <tbody>\n",
              "    <tr>\n",
              "      <th>7991</th>\n",
              "      <td>Aaron Connolly</td>\n",
              "      <td>2020</td>\n",
              "      <td>8</td>\n",
              "      <td>1</td>\n",
              "      <td>1</td>\n",
              "      <td>9</td>\n",
              "      <td>1</td>\n",
              "      <td>0</td>\n",
              "      <td>0</td>\n",
              "      <td>F S</td>\n",
              "      <td>Brighton</td>\n",
              "      <td>425</td>\n",
              "    </tr>\n",
              "    <tr>\n",
              "      <th>7991</th>\n",
              "      <td>Aaron Connolly</td>\n",
              "      <td>2019</td>\n",
              "      <td>24</td>\n",
              "      <td>3</td>\n",
              "      <td>3</td>\n",
              "      <td>36</td>\n",
              "      <td>1</td>\n",
              "      <td>0</td>\n",
              "      <td>0</td>\n",
              "      <td>F S</td>\n",
              "      <td>Brighton</td>\n",
              "      <td>1279</td>\n",
              "    </tr>\n",
              "  </tbody>\n",
              "</table>\n",
              "</div>"
            ],
            "text/plain": [
              "              player_name  year  games  goals  npg  shots  assists  \\\n",
              "player_id                                                            \n",
              "7991       Aaron Connolly  2020      8      1    1      9        1   \n",
              "7991       Aaron Connolly  2019     24      3    3     36        1   \n",
              "\n",
              "           yellow_cards  red_cards position team_name  time  \n",
              "player_id                                                    \n",
              "7991                  0          0      F S  Brighton   425  \n",
              "7991                  0          0      F S  Brighton  1279  "
            ]
          },
          "execution_count": 15,
          "metadata": {},
          "output_type": "execute_result"
        }
      ],
      "source": [
        "df[df.player_name=='Aaron Connolly']#busca coincidencias de registros focalizando su busqueda\n",
        "                                    #utilizando un campus focal"
      ]
    },
    {
      "cell_type": "code",
      "execution_count": null,
      "metadata": {
        "cell_id": "ffaddd6a6d724de09a4fdcac80e18106",
        "deepnote_app_coordinates": {
          "h": 5,
          "w": 12,
          "x": 0,
          "y": 150
        },
        "deepnote_cell_type": "code",
        "deepnote_to_be_reexecuted": false,
        "execution_millis": 18,
        "execution_start": 1645375719030,
        "id": "jipR0uU0QAlt",
        "outputId": "18868946-9b39-4bf3-e45f-1cedd2a9df16",
        "source_hash": "2271333e",
        "tags": []
      },
      "outputs": [
        {
          "data": {
            "application/vnd.deepnote.dataframe.v3+json": {
              "column_count": 12,
              "columns": [
                {
                  "dtype": "object",
                  "name": "player_name",
                  "stats": {
                    "categories": [
                      {
                        "count": 2,
                        "name": "Aaron Connolly"
                      }
                    ],
                    "nan_count": 0,
                    "unique_count": 1
                  }
                },
                {
                  "dtype": "int64",
                  "name": "year",
                  "stats": {
                    "histogram": [
                      {
                        "bin_end": 2019.1,
                        "bin_start": 2019,
                        "count": 1
                      },
                      {
                        "bin_end": 2019.2,
                        "bin_start": 2019.1,
                        "count": 0
                      },
                      {
                        "bin_end": 2019.3,
                        "bin_start": 2019.2,
                        "count": 0
                      },
                      {
                        "bin_end": 2019.4,
                        "bin_start": 2019.3,
                        "count": 0
                      },
                      {
                        "bin_end": 2019.5,
                        "bin_start": 2019.4,
                        "count": 0
                      },
                      {
                        "bin_end": 2019.6,
                        "bin_start": 2019.5,
                        "count": 0
                      },
                      {
                        "bin_end": 2019.7,
                        "bin_start": 2019.6,
                        "count": 0
                      },
                      {
                        "bin_end": 2019.8,
                        "bin_start": 2019.7,
                        "count": 0
                      },
                      {
                        "bin_end": 2019.9,
                        "bin_start": 2019.8,
                        "count": 0
                      },
                      {
                        "bin_end": 2020,
                        "bin_start": 2019.9,
                        "count": 1
                      }
                    ],
                    "max": "2020",
                    "min": "2019",
                    "nan_count": 0,
                    "unique_count": 2
                  }
                },
                {
                  "dtype": "int64",
                  "name": "games",
                  "stats": {
                    "histogram": [
                      {
                        "bin_end": 9.6,
                        "bin_start": 8,
                        "count": 1
                      },
                      {
                        "bin_end": 11.2,
                        "bin_start": 9.6,
                        "count": 0
                      },
                      {
                        "bin_end": 12.8,
                        "bin_start": 11.2,
                        "count": 0
                      },
                      {
                        "bin_end": 14.4,
                        "bin_start": 12.8,
                        "count": 0
                      },
                      {
                        "bin_end": 16,
                        "bin_start": 14.4,
                        "count": 0
                      },
                      {
                        "bin_end": 17.6,
                        "bin_start": 16,
                        "count": 0
                      },
                      {
                        "bin_end": 19.200000000000003,
                        "bin_start": 17.6,
                        "count": 0
                      },
                      {
                        "bin_end": 20.8,
                        "bin_start": 19.200000000000003,
                        "count": 0
                      },
                      {
                        "bin_end": 22.4,
                        "bin_start": 20.8,
                        "count": 0
                      },
                      {
                        "bin_end": 24,
                        "bin_start": 22.4,
                        "count": 1
                      }
                    ],
                    "max": "24",
                    "min": "8",
                    "nan_count": 0,
                    "unique_count": 2
                  }
                },
                {
                  "dtype": "int64",
                  "name": "goals",
                  "stats": {
                    "histogram": [
                      {
                        "bin_end": 1.2,
                        "bin_start": 1,
                        "count": 1
                      },
                      {
                        "bin_end": 1.4,
                        "bin_start": 1.2,
                        "count": 0
                      },
                      {
                        "bin_end": 1.6,
                        "bin_start": 1.4,
                        "count": 0
                      },
                      {
                        "bin_end": 1.8,
                        "bin_start": 1.6,
                        "count": 0
                      },
                      {
                        "bin_end": 2,
                        "bin_start": 1.8,
                        "count": 0
                      },
                      {
                        "bin_end": 2.2,
                        "bin_start": 2,
                        "count": 0
                      },
                      {
                        "bin_end": 2.4000000000000004,
                        "bin_start": 2.2,
                        "count": 0
                      },
                      {
                        "bin_end": 2.6,
                        "bin_start": 2.4000000000000004,
                        "count": 0
                      },
                      {
                        "bin_end": 2.8,
                        "bin_start": 2.6,
                        "count": 0
                      },
                      {
                        "bin_end": 3,
                        "bin_start": 2.8,
                        "count": 1
                      }
                    ],
                    "max": "3",
                    "min": "1",
                    "nan_count": 0,
                    "unique_count": 2
                  }
                },
                {
                  "dtype": "int64",
                  "name": "npg",
                  "stats": {
                    "histogram": [
                      {
                        "bin_end": 1.2,
                        "bin_start": 1,
                        "count": 1
                      },
                      {
                        "bin_end": 1.4,
                        "bin_start": 1.2,
                        "count": 0
                      },
                      {
                        "bin_end": 1.6,
                        "bin_start": 1.4,
                        "count": 0
                      },
                      {
                        "bin_end": 1.8,
                        "bin_start": 1.6,
                        "count": 0
                      },
                      {
                        "bin_end": 2,
                        "bin_start": 1.8,
                        "count": 0
                      },
                      {
                        "bin_end": 2.2,
                        "bin_start": 2,
                        "count": 0
                      },
                      {
                        "bin_end": 2.4000000000000004,
                        "bin_start": 2.2,
                        "count": 0
                      },
                      {
                        "bin_end": 2.6,
                        "bin_start": 2.4000000000000004,
                        "count": 0
                      },
                      {
                        "bin_end": 2.8,
                        "bin_start": 2.6,
                        "count": 0
                      },
                      {
                        "bin_end": 3,
                        "bin_start": 2.8,
                        "count": 1
                      }
                    ],
                    "max": "3",
                    "min": "1",
                    "nan_count": 0,
                    "unique_count": 2
                  }
                },
                {
                  "dtype": "int64",
                  "name": "shots",
                  "stats": {
                    "histogram": [
                      {
                        "bin_end": 11.7,
                        "bin_start": 9,
                        "count": 1
                      },
                      {
                        "bin_end": 14.4,
                        "bin_start": 11.7,
                        "count": 0
                      },
                      {
                        "bin_end": 17.1,
                        "bin_start": 14.4,
                        "count": 0
                      },
                      {
                        "bin_end": 19.8,
                        "bin_start": 17.1,
                        "count": 0
                      },
                      {
                        "bin_end": 22.5,
                        "bin_start": 19.8,
                        "count": 0
                      },
                      {
                        "bin_end": 25.200000000000003,
                        "bin_start": 22.5,
                        "count": 0
                      },
                      {
                        "bin_end": 27.900000000000002,
                        "bin_start": 25.200000000000003,
                        "count": 0
                      },
                      {
                        "bin_end": 30.6,
                        "bin_start": 27.900000000000002,
                        "count": 0
                      },
                      {
                        "bin_end": 33.3,
                        "bin_start": 30.6,
                        "count": 0
                      },
                      {
                        "bin_end": 36,
                        "bin_start": 33.3,
                        "count": 1
                      }
                    ],
                    "max": "36",
                    "min": "9",
                    "nan_count": 0,
                    "unique_count": 2
                  }
                },
                {
                  "dtype": "int64",
                  "name": "assists",
                  "stats": {
                    "histogram": [
                      {
                        "bin_end": 0.6,
                        "bin_start": 0.5,
                        "count": 0
                      },
                      {
                        "bin_end": 0.7,
                        "bin_start": 0.6,
                        "count": 0
                      },
                      {
                        "bin_end": 0.8,
                        "bin_start": 0.7,
                        "count": 0
                      },
                      {
                        "bin_end": 0.9,
                        "bin_start": 0.8,
                        "count": 0
                      },
                      {
                        "bin_end": 1,
                        "bin_start": 0.9,
                        "count": 0
                      },
                      {
                        "bin_end": 1.1,
                        "bin_start": 1,
                        "count": 2
                      },
                      {
                        "bin_end": 1.2000000000000002,
                        "bin_start": 1.1,
                        "count": 0
                      },
                      {
                        "bin_end": 1.3,
                        "bin_start": 1.2000000000000002,
                        "count": 0
                      },
                      {
                        "bin_end": 1.4,
                        "bin_start": 1.3,
                        "count": 0
                      },
                      {
                        "bin_end": 1.5,
                        "bin_start": 1.4,
                        "count": 0
                      }
                    ],
                    "max": "1",
                    "min": "1",
                    "nan_count": 0,
                    "unique_count": 1
                  }
                },
                {
                  "dtype": "int64",
                  "name": "yellow_cards",
                  "stats": {
                    "histogram": [
                      {
                        "bin_end": -0.4,
                        "bin_start": -0.5,
                        "count": 0
                      },
                      {
                        "bin_end": -0.3,
                        "bin_start": -0.4,
                        "count": 0
                      },
                      {
                        "bin_end": -0.19999999999999996,
                        "bin_start": -0.3,
                        "count": 0
                      },
                      {
                        "bin_end": -0.09999999999999998,
                        "bin_start": -0.19999999999999996,
                        "count": 0
                      },
                      {
                        "bin_end": 0,
                        "bin_start": -0.09999999999999998,
                        "count": 0
                      },
                      {
                        "bin_end": 0.10000000000000009,
                        "bin_start": 0,
                        "count": 2
                      },
                      {
                        "bin_end": 0.20000000000000007,
                        "bin_start": 0.10000000000000009,
                        "count": 0
                      },
                      {
                        "bin_end": 0.30000000000000004,
                        "bin_start": 0.20000000000000007,
                        "count": 0
                      },
                      {
                        "bin_end": 0.4,
                        "bin_start": 0.30000000000000004,
                        "count": 0
                      },
                      {
                        "bin_end": 0.5,
                        "bin_start": 0.4,
                        "count": 0
                      }
                    ],
                    "max": "0",
                    "min": "0",
                    "nan_count": 0,
                    "unique_count": 1
                  }
                },
                {
                  "dtype": "int64",
                  "name": "red_cards",
                  "stats": {
                    "histogram": [
                      {
                        "bin_end": -0.4,
                        "bin_start": -0.5,
                        "count": 0
                      },
                      {
                        "bin_end": -0.3,
                        "bin_start": -0.4,
                        "count": 0
                      },
                      {
                        "bin_end": -0.19999999999999996,
                        "bin_start": -0.3,
                        "count": 0
                      },
                      {
                        "bin_end": -0.09999999999999998,
                        "bin_start": -0.19999999999999996,
                        "count": 0
                      },
                      {
                        "bin_end": 0,
                        "bin_start": -0.09999999999999998,
                        "count": 0
                      },
                      {
                        "bin_end": 0.10000000000000009,
                        "bin_start": 0,
                        "count": 2
                      },
                      {
                        "bin_end": 0.20000000000000007,
                        "bin_start": 0.10000000000000009,
                        "count": 0
                      },
                      {
                        "bin_end": 0.30000000000000004,
                        "bin_start": 0.20000000000000007,
                        "count": 0
                      },
                      {
                        "bin_end": 0.4,
                        "bin_start": 0.30000000000000004,
                        "count": 0
                      },
                      {
                        "bin_end": 0.5,
                        "bin_start": 0.4,
                        "count": 0
                      }
                    ],
                    "max": "0",
                    "min": "0",
                    "nan_count": 0,
                    "unique_count": 1
                  }
                },
                {
                  "dtype": "object",
                  "name": "position",
                  "stats": {
                    "categories": [
                      {
                        "count": 2,
                        "name": "F S"
                      }
                    ],
                    "nan_count": 0,
                    "unique_count": 1
                  }
                },
                {
                  "dtype": "object",
                  "name": "team_name",
                  "stats": {
                    "categories": [
                      {
                        "count": 2,
                        "name": "Brighton"
                      }
                    ],
                    "nan_count": 0,
                    "unique_count": 1
                  }
                },
                {
                  "dtype": "int64",
                  "name": "time",
                  "stats": {
                    "histogram": [
                      {
                        "bin_end": 510.4,
                        "bin_start": 425,
                        "count": 1
                      },
                      {
                        "bin_end": 595.8,
                        "bin_start": 510.4,
                        "count": 0
                      },
                      {
                        "bin_end": 681.2,
                        "bin_start": 595.8,
                        "count": 0
                      },
                      {
                        "bin_end": 766.6,
                        "bin_start": 681.2,
                        "count": 0
                      },
                      {
                        "bin_end": 852,
                        "bin_start": 766.6,
                        "count": 0
                      },
                      {
                        "bin_end": 937.4000000000001,
                        "bin_start": 852,
                        "count": 0
                      },
                      {
                        "bin_end": 1022.8000000000001,
                        "bin_start": 937.4000000000001,
                        "count": 0
                      },
                      {
                        "bin_end": 1108.2,
                        "bin_start": 1022.8000000000001,
                        "count": 0
                      },
                      {
                        "bin_end": 1193.6,
                        "bin_start": 1108.2,
                        "count": 0
                      },
                      {
                        "bin_end": 1279,
                        "bin_start": 1193.6,
                        "count": 1
                      }
                    ],
                    "max": "1279",
                    "min": "425",
                    "nan_count": 0,
                    "unique_count": 2
                  }
                },
                {
                  "dtype": "int64",
                  "name": "_deepnote_index_column"
                }
              ],
              "row_count": 2,
              "rows": [
                {
                  "_deepnote_index_column": 7991,
                  "assists": 1,
                  "games": 8,
                  "goals": 1,
                  "npg": 1,
                  "player_name": "Aaron Connolly",
                  "position": "F S",
                  "red_cards": 0,
                  "shots": 9,
                  "team_name": "Brighton",
                  "time": 425,
                  "year": 2020,
                  "yellow_cards": 0
                },
                {
                  "_deepnote_index_column": 7991,
                  "assists": 1,
                  "games": 24,
                  "goals": 3,
                  "npg": 3,
                  "player_name": "Aaron Connolly",
                  "position": "F S",
                  "red_cards": 0,
                  "shots": 36,
                  "team_name": "Brighton",
                  "time": 1279,
                  "year": 2019,
                  "yellow_cards": 0
                }
              ]
            },
            "text/html": [
              "<div>\n",
              "<style scoped>\n",
              "    .dataframe tbody tr th:only-of-type {\n",
              "        vertical-align: middle;\n",
              "    }\n",
              "\n",
              "    .dataframe tbody tr th {\n",
              "        vertical-align: top;\n",
              "    }\n",
              "\n",
              "    .dataframe thead th {\n",
              "        text-align: right;\n",
              "    }\n",
              "</style>\n",
              "<table border=\"1\" class=\"dataframe\">\n",
              "  <thead>\n",
              "    <tr style=\"text-align: right;\">\n",
              "      <th></th>\n",
              "      <th>player_name</th>\n",
              "      <th>year</th>\n",
              "      <th>games</th>\n",
              "      <th>goals</th>\n",
              "      <th>npg</th>\n",
              "      <th>shots</th>\n",
              "      <th>assists</th>\n",
              "      <th>yellow_cards</th>\n",
              "      <th>red_cards</th>\n",
              "      <th>position</th>\n",
              "      <th>team_name</th>\n",
              "      <th>time</th>\n",
              "    </tr>\n",
              "    <tr>\n",
              "      <th>player_id</th>\n",
              "      <th></th>\n",
              "      <th></th>\n",
              "      <th></th>\n",
              "      <th></th>\n",
              "      <th></th>\n",
              "      <th></th>\n",
              "      <th></th>\n",
              "      <th></th>\n",
              "      <th></th>\n",
              "      <th></th>\n",
              "      <th></th>\n",
              "      <th></th>\n",
              "    </tr>\n",
              "  </thead>\n",
              "  <tbody>\n",
              "    <tr>\n",
              "      <th>7991</th>\n",
              "      <td>Aaron Connolly</td>\n",
              "      <td>2020</td>\n",
              "      <td>8</td>\n",
              "      <td>1</td>\n",
              "      <td>1</td>\n",
              "      <td>9</td>\n",
              "      <td>1</td>\n",
              "      <td>0</td>\n",
              "      <td>0</td>\n",
              "      <td>F S</td>\n",
              "      <td>Brighton</td>\n",
              "      <td>425</td>\n",
              "    </tr>\n",
              "    <tr>\n",
              "      <th>7991</th>\n",
              "      <td>Aaron Connolly</td>\n",
              "      <td>2019</td>\n",
              "      <td>24</td>\n",
              "      <td>3</td>\n",
              "      <td>3</td>\n",
              "      <td>36</td>\n",
              "      <td>1</td>\n",
              "      <td>0</td>\n",
              "      <td>0</td>\n",
              "      <td>F S</td>\n",
              "      <td>Brighton</td>\n",
              "      <td>1279</td>\n",
              "    </tr>\n",
              "  </tbody>\n",
              "</table>\n",
              "</div>"
            ],
            "text/plain": [
              "              player_name  year  games  goals  npg  shots  assists  \\\n",
              "player_id                                                            \n",
              "7991       Aaron Connolly  2020      8      1    1      9        1   \n",
              "7991       Aaron Connolly  2019     24      3    3     36        1   \n",
              "\n",
              "           yellow_cards  red_cards position team_name  time  \n",
              "player_id                                                    \n",
              "7991                  0          0      F S  Brighton   425  \n",
              "7991                  0          0      F S  Brighton  1279  "
            ]
          },
          "execution_count": 16,
          "metadata": {},
          "output_type": "execute_result"
        }
      ],
      "source": [
        "df[df['player_name']=='Aaron Connolly']#busca coincidencias de registros focalizando su busqueda\n",
        "                                       #utilizando un campus focal"
      ]
    },
    {
      "cell_type": "code",
      "execution_count": null,
      "metadata": {
        "cell_id": "6773af81e3024ed8bea5dcf2903edf9e",
        "deepnote_app_coordinates": {
          "h": 5,
          "w": 12,
          "x": 0,
          "y": 156
        },
        "deepnote_cell_type": "code",
        "deepnote_to_be_reexecuted": false,
        "execution_millis": 36,
        "execution_start": 1645375719100,
        "id": "cwdDDYnxQAlu",
        "outputId": "5b1f6646-5555-408d-c4eb-d9ae8310cd82",
        "source_hash": "bb85a5c3",
        "tags": []
      },
      "outputs": [
        {
          "data": {
            "application/vnd.deepnote.dataframe.v3+json": {
              "column_count": 12,
              "columns": [
                {
                  "dtype": "object",
                  "name": "player_name",
                  "stats": {
                    "categories": [
                      {
                        "count": 2,
                        "name": "Aaron Connolly"
                      }
                    ],
                    "nan_count": 0,
                    "unique_count": 1
                  }
                },
                {
                  "dtype": "int64",
                  "name": "year",
                  "stats": {
                    "histogram": [
                      {
                        "bin_end": 2019.1,
                        "bin_start": 2019,
                        "count": 1
                      },
                      {
                        "bin_end": 2019.2,
                        "bin_start": 2019.1,
                        "count": 0
                      },
                      {
                        "bin_end": 2019.3,
                        "bin_start": 2019.2,
                        "count": 0
                      },
                      {
                        "bin_end": 2019.4,
                        "bin_start": 2019.3,
                        "count": 0
                      },
                      {
                        "bin_end": 2019.5,
                        "bin_start": 2019.4,
                        "count": 0
                      },
                      {
                        "bin_end": 2019.6,
                        "bin_start": 2019.5,
                        "count": 0
                      },
                      {
                        "bin_end": 2019.7,
                        "bin_start": 2019.6,
                        "count": 0
                      },
                      {
                        "bin_end": 2019.8,
                        "bin_start": 2019.7,
                        "count": 0
                      },
                      {
                        "bin_end": 2019.9,
                        "bin_start": 2019.8,
                        "count": 0
                      },
                      {
                        "bin_end": 2020,
                        "bin_start": 2019.9,
                        "count": 1
                      }
                    ],
                    "max": "2020",
                    "min": "2019",
                    "nan_count": 0,
                    "unique_count": 2
                  }
                },
                {
                  "dtype": "int64",
                  "name": "games",
                  "stats": {
                    "histogram": [
                      {
                        "bin_end": 9.6,
                        "bin_start": 8,
                        "count": 1
                      },
                      {
                        "bin_end": 11.2,
                        "bin_start": 9.6,
                        "count": 0
                      },
                      {
                        "bin_end": 12.8,
                        "bin_start": 11.2,
                        "count": 0
                      },
                      {
                        "bin_end": 14.4,
                        "bin_start": 12.8,
                        "count": 0
                      },
                      {
                        "bin_end": 16,
                        "bin_start": 14.4,
                        "count": 0
                      },
                      {
                        "bin_end": 17.6,
                        "bin_start": 16,
                        "count": 0
                      },
                      {
                        "bin_end": 19.200000000000003,
                        "bin_start": 17.6,
                        "count": 0
                      },
                      {
                        "bin_end": 20.8,
                        "bin_start": 19.200000000000003,
                        "count": 0
                      },
                      {
                        "bin_end": 22.4,
                        "bin_start": 20.8,
                        "count": 0
                      },
                      {
                        "bin_end": 24,
                        "bin_start": 22.4,
                        "count": 1
                      }
                    ],
                    "max": "24",
                    "min": "8",
                    "nan_count": 0,
                    "unique_count": 2
                  }
                },
                {
                  "dtype": "int64",
                  "name": "goals",
                  "stats": {
                    "histogram": [
                      {
                        "bin_end": 1.2,
                        "bin_start": 1,
                        "count": 1
                      },
                      {
                        "bin_end": 1.4,
                        "bin_start": 1.2,
                        "count": 0
                      },
                      {
                        "bin_end": 1.6,
                        "bin_start": 1.4,
                        "count": 0
                      },
                      {
                        "bin_end": 1.8,
                        "bin_start": 1.6,
                        "count": 0
                      },
                      {
                        "bin_end": 2,
                        "bin_start": 1.8,
                        "count": 0
                      },
                      {
                        "bin_end": 2.2,
                        "bin_start": 2,
                        "count": 0
                      },
                      {
                        "bin_end": 2.4000000000000004,
                        "bin_start": 2.2,
                        "count": 0
                      },
                      {
                        "bin_end": 2.6,
                        "bin_start": 2.4000000000000004,
                        "count": 0
                      },
                      {
                        "bin_end": 2.8,
                        "bin_start": 2.6,
                        "count": 0
                      },
                      {
                        "bin_end": 3,
                        "bin_start": 2.8,
                        "count": 1
                      }
                    ],
                    "max": "3",
                    "min": "1",
                    "nan_count": 0,
                    "unique_count": 2
                  }
                },
                {
                  "dtype": "int64",
                  "name": "npg",
                  "stats": {
                    "histogram": [
                      {
                        "bin_end": 1.2,
                        "bin_start": 1,
                        "count": 1
                      },
                      {
                        "bin_end": 1.4,
                        "bin_start": 1.2,
                        "count": 0
                      },
                      {
                        "bin_end": 1.6,
                        "bin_start": 1.4,
                        "count": 0
                      },
                      {
                        "bin_end": 1.8,
                        "bin_start": 1.6,
                        "count": 0
                      },
                      {
                        "bin_end": 2,
                        "bin_start": 1.8,
                        "count": 0
                      },
                      {
                        "bin_end": 2.2,
                        "bin_start": 2,
                        "count": 0
                      },
                      {
                        "bin_end": 2.4000000000000004,
                        "bin_start": 2.2,
                        "count": 0
                      },
                      {
                        "bin_end": 2.6,
                        "bin_start": 2.4000000000000004,
                        "count": 0
                      },
                      {
                        "bin_end": 2.8,
                        "bin_start": 2.6,
                        "count": 0
                      },
                      {
                        "bin_end": 3,
                        "bin_start": 2.8,
                        "count": 1
                      }
                    ],
                    "max": "3",
                    "min": "1",
                    "nan_count": 0,
                    "unique_count": 2
                  }
                },
                {
                  "dtype": "int64",
                  "name": "shots",
                  "stats": {
                    "histogram": [
                      {
                        "bin_end": 11.7,
                        "bin_start": 9,
                        "count": 1
                      },
                      {
                        "bin_end": 14.4,
                        "bin_start": 11.7,
                        "count": 0
                      },
                      {
                        "bin_end": 17.1,
                        "bin_start": 14.4,
                        "count": 0
                      },
                      {
                        "bin_end": 19.8,
                        "bin_start": 17.1,
                        "count": 0
                      },
                      {
                        "bin_end": 22.5,
                        "bin_start": 19.8,
                        "count": 0
                      },
                      {
                        "bin_end": 25.200000000000003,
                        "bin_start": 22.5,
                        "count": 0
                      },
                      {
                        "bin_end": 27.900000000000002,
                        "bin_start": 25.200000000000003,
                        "count": 0
                      },
                      {
                        "bin_end": 30.6,
                        "bin_start": 27.900000000000002,
                        "count": 0
                      },
                      {
                        "bin_end": 33.3,
                        "bin_start": 30.6,
                        "count": 0
                      },
                      {
                        "bin_end": 36,
                        "bin_start": 33.3,
                        "count": 1
                      }
                    ],
                    "max": "36",
                    "min": "9",
                    "nan_count": 0,
                    "unique_count": 2
                  }
                },
                {
                  "dtype": "int64",
                  "name": "assists",
                  "stats": {
                    "histogram": [
                      {
                        "bin_end": 0.6,
                        "bin_start": 0.5,
                        "count": 0
                      },
                      {
                        "bin_end": 0.7,
                        "bin_start": 0.6,
                        "count": 0
                      },
                      {
                        "bin_end": 0.8,
                        "bin_start": 0.7,
                        "count": 0
                      },
                      {
                        "bin_end": 0.9,
                        "bin_start": 0.8,
                        "count": 0
                      },
                      {
                        "bin_end": 1,
                        "bin_start": 0.9,
                        "count": 0
                      },
                      {
                        "bin_end": 1.1,
                        "bin_start": 1,
                        "count": 2
                      },
                      {
                        "bin_end": 1.2000000000000002,
                        "bin_start": 1.1,
                        "count": 0
                      },
                      {
                        "bin_end": 1.3,
                        "bin_start": 1.2000000000000002,
                        "count": 0
                      },
                      {
                        "bin_end": 1.4,
                        "bin_start": 1.3,
                        "count": 0
                      },
                      {
                        "bin_end": 1.5,
                        "bin_start": 1.4,
                        "count": 0
                      }
                    ],
                    "max": "1",
                    "min": "1",
                    "nan_count": 0,
                    "unique_count": 1
                  }
                },
                {
                  "dtype": "int64",
                  "name": "yellow_cards",
                  "stats": {
                    "histogram": [
                      {
                        "bin_end": -0.4,
                        "bin_start": -0.5,
                        "count": 0
                      },
                      {
                        "bin_end": -0.3,
                        "bin_start": -0.4,
                        "count": 0
                      },
                      {
                        "bin_end": -0.19999999999999996,
                        "bin_start": -0.3,
                        "count": 0
                      },
                      {
                        "bin_end": -0.09999999999999998,
                        "bin_start": -0.19999999999999996,
                        "count": 0
                      },
                      {
                        "bin_end": 0,
                        "bin_start": -0.09999999999999998,
                        "count": 0
                      },
                      {
                        "bin_end": 0.10000000000000009,
                        "bin_start": 0,
                        "count": 2
                      },
                      {
                        "bin_end": 0.20000000000000007,
                        "bin_start": 0.10000000000000009,
                        "count": 0
                      },
                      {
                        "bin_end": 0.30000000000000004,
                        "bin_start": 0.20000000000000007,
                        "count": 0
                      },
                      {
                        "bin_end": 0.4,
                        "bin_start": 0.30000000000000004,
                        "count": 0
                      },
                      {
                        "bin_end": 0.5,
                        "bin_start": 0.4,
                        "count": 0
                      }
                    ],
                    "max": "0",
                    "min": "0",
                    "nan_count": 0,
                    "unique_count": 1
                  }
                },
                {
                  "dtype": "int64",
                  "name": "red_cards",
                  "stats": {
                    "histogram": [
                      {
                        "bin_end": -0.4,
                        "bin_start": -0.5,
                        "count": 0
                      },
                      {
                        "bin_end": -0.3,
                        "bin_start": -0.4,
                        "count": 0
                      },
                      {
                        "bin_end": -0.19999999999999996,
                        "bin_start": -0.3,
                        "count": 0
                      },
                      {
                        "bin_end": -0.09999999999999998,
                        "bin_start": -0.19999999999999996,
                        "count": 0
                      },
                      {
                        "bin_end": 0,
                        "bin_start": -0.09999999999999998,
                        "count": 0
                      },
                      {
                        "bin_end": 0.10000000000000009,
                        "bin_start": 0,
                        "count": 2
                      },
                      {
                        "bin_end": 0.20000000000000007,
                        "bin_start": 0.10000000000000009,
                        "count": 0
                      },
                      {
                        "bin_end": 0.30000000000000004,
                        "bin_start": 0.20000000000000007,
                        "count": 0
                      },
                      {
                        "bin_end": 0.4,
                        "bin_start": 0.30000000000000004,
                        "count": 0
                      },
                      {
                        "bin_end": 0.5,
                        "bin_start": 0.4,
                        "count": 0
                      }
                    ],
                    "max": "0",
                    "min": "0",
                    "nan_count": 0,
                    "unique_count": 1
                  }
                },
                {
                  "dtype": "object",
                  "name": "position",
                  "stats": {
                    "categories": [
                      {
                        "count": 2,
                        "name": "F S"
                      }
                    ],
                    "nan_count": 0,
                    "unique_count": 1
                  }
                },
                {
                  "dtype": "object",
                  "name": "team_name",
                  "stats": {
                    "categories": [
                      {
                        "count": 2,
                        "name": "Brighton"
                      }
                    ],
                    "nan_count": 0,
                    "unique_count": 1
                  }
                },
                {
                  "dtype": "int64",
                  "name": "time",
                  "stats": {
                    "histogram": [
                      {
                        "bin_end": 510.4,
                        "bin_start": 425,
                        "count": 1
                      },
                      {
                        "bin_end": 595.8,
                        "bin_start": 510.4,
                        "count": 0
                      },
                      {
                        "bin_end": 681.2,
                        "bin_start": 595.8,
                        "count": 0
                      },
                      {
                        "bin_end": 766.6,
                        "bin_start": 681.2,
                        "count": 0
                      },
                      {
                        "bin_end": 852,
                        "bin_start": 766.6,
                        "count": 0
                      },
                      {
                        "bin_end": 937.4000000000001,
                        "bin_start": 852,
                        "count": 0
                      },
                      {
                        "bin_end": 1022.8000000000001,
                        "bin_start": 937.4000000000001,
                        "count": 0
                      },
                      {
                        "bin_end": 1108.2,
                        "bin_start": 1022.8000000000001,
                        "count": 0
                      },
                      {
                        "bin_end": 1193.6,
                        "bin_start": 1108.2,
                        "count": 0
                      },
                      {
                        "bin_end": 1279,
                        "bin_start": 1193.6,
                        "count": 1
                      }
                    ],
                    "max": "1279",
                    "min": "425",
                    "nan_count": 0,
                    "unique_count": 2
                  }
                },
                {
                  "dtype": "int64",
                  "name": "_deepnote_index_column"
                }
              ],
              "row_count": 2,
              "rows": [
                {
                  "_deepnote_index_column": 7991,
                  "assists": 1,
                  "games": 8,
                  "goals": 1,
                  "npg": 1,
                  "player_name": "Aaron Connolly",
                  "position": "F S",
                  "red_cards": 0,
                  "shots": 9,
                  "team_name": "Brighton",
                  "time": 425,
                  "year": 2020,
                  "yellow_cards": 0
                },
                {
                  "_deepnote_index_column": 7991,
                  "assists": 1,
                  "games": 24,
                  "goals": 3,
                  "npg": 3,
                  "player_name": "Aaron Connolly",
                  "position": "F S",
                  "red_cards": 0,
                  "shots": 36,
                  "team_name": "Brighton",
                  "time": 1279,
                  "year": 2019,
                  "yellow_cards": 0
                }
              ]
            },
            "text/html": [
              "<div>\n",
              "<style scoped>\n",
              "    .dataframe tbody tr th:only-of-type {\n",
              "        vertical-align: middle;\n",
              "    }\n",
              "\n",
              "    .dataframe tbody tr th {\n",
              "        vertical-align: top;\n",
              "    }\n",
              "\n",
              "    .dataframe thead th {\n",
              "        text-align: right;\n",
              "    }\n",
              "</style>\n",
              "<table border=\"1\" class=\"dataframe\">\n",
              "  <thead>\n",
              "    <tr style=\"text-align: right;\">\n",
              "      <th></th>\n",
              "      <th>player_name</th>\n",
              "      <th>year</th>\n",
              "      <th>games</th>\n",
              "      <th>goals</th>\n",
              "      <th>npg</th>\n",
              "      <th>shots</th>\n",
              "      <th>assists</th>\n",
              "      <th>yellow_cards</th>\n",
              "      <th>red_cards</th>\n",
              "      <th>position</th>\n",
              "      <th>team_name</th>\n",
              "      <th>time</th>\n",
              "    </tr>\n",
              "    <tr>\n",
              "      <th>player_id</th>\n",
              "      <th></th>\n",
              "      <th></th>\n",
              "      <th></th>\n",
              "      <th></th>\n",
              "      <th></th>\n",
              "      <th></th>\n",
              "      <th></th>\n",
              "      <th></th>\n",
              "      <th></th>\n",
              "      <th></th>\n",
              "      <th></th>\n",
              "      <th></th>\n",
              "    </tr>\n",
              "  </thead>\n",
              "  <tbody>\n",
              "    <tr>\n",
              "      <th>7991</th>\n",
              "      <td>Aaron Connolly</td>\n",
              "      <td>2020</td>\n",
              "      <td>8</td>\n",
              "      <td>1</td>\n",
              "      <td>1</td>\n",
              "      <td>9</td>\n",
              "      <td>1</td>\n",
              "      <td>0</td>\n",
              "      <td>0</td>\n",
              "      <td>F S</td>\n",
              "      <td>Brighton</td>\n",
              "      <td>425</td>\n",
              "    </tr>\n",
              "    <tr>\n",
              "      <th>7991</th>\n",
              "      <td>Aaron Connolly</td>\n",
              "      <td>2019</td>\n",
              "      <td>24</td>\n",
              "      <td>3</td>\n",
              "      <td>3</td>\n",
              "      <td>36</td>\n",
              "      <td>1</td>\n",
              "      <td>0</td>\n",
              "      <td>0</td>\n",
              "      <td>F S</td>\n",
              "      <td>Brighton</td>\n",
              "      <td>1279</td>\n",
              "    </tr>\n",
              "  </tbody>\n",
              "</table>\n",
              "</div>"
            ],
            "text/plain": [
              "              player_name  year  games  goals  npg  shots  assists  \\\n",
              "player_id                                                            \n",
              "7991       Aaron Connolly  2020      8      1    1      9        1   \n",
              "7991       Aaron Connolly  2019     24      3    3     36        1   \n",
              "\n",
              "           yellow_cards  red_cards position team_name  time  \n",
              "player_id                                                    \n",
              "7991                  0          0      F S  Brighton   425  \n",
              "7991                  0          0      F S  Brighton  1279  "
            ]
          },
          "execution_count": 17,
          "metadata": {},
          "output_type": "execute_result"
        }
      ],
      "source": [
        "df.query('player_name == \"Aaron Connolly\"')#busca coincidencias de registros focalizando su \n",
        "                                           #busqueda utilizando un campus focal"
      ]
    },
    {
      "cell_type": "markdown",
      "metadata": {
        "cell_id": "452c5be8eb41479fae26f5165a25588f",
        "deepnote_app_coordinates": {
          "h": 5,
          "w": 12,
          "x": 0,
          "y": 162
        },
        "deepnote_cell_type": "markdown",
        "id": "MZOUtjrmQAlu",
        "tags": []
      },
      "source": [
        "#### Uniendo lo aprendido"
      ]
    },
    {
      "cell_type": "code",
      "execution_count": null,
      "metadata": {
        "cell_id": "5e60ea8c6ae348f19b63a205969a0761",
        "deepnote_app_coordinates": {
          "h": 5,
          "w": 12,
          "x": 0,
          "y": 168
        },
        "deepnote_cell_type": "code",
        "deepnote_to_be_reexecuted": false,
        "execution_millis": 3,
        "execution_start": 1645375719184,
        "id": "fmIpB6uHQAlu",
        "outputId": "af62bdc9-fe14-481a-da53-c94d55afb663",
        "source_hash": "11b32cdb",
        "tags": []
      },
      "outputs": [
        {
          "name": "stdout",
          "output_type": "stream",
          "text": [
            "                 player_name  year  goals\n",
            "player_id                                \n",
            "2371       Cristiano Ronaldo  2014     48\n"
          ]
        }
      ],
      "source": [
        "# Goles de Cristiano Ronaldo en 2014\n",
        "cr7 = df[(df.player_name == 'Cristiano Ronaldo') & (df.year == 2014)]#filtra busque por nombre y año\n",
        "cols = ['player_name', 'year', 'goals']#columnas de retorno\n",
        "print(cr7[cols])#retorna descripcion de dt=cr7"
      ]
    },
    {
      "cell_type": "code",
      "execution_count": null,
      "metadata": {
        "cell_id": "3614067d5ea14bc993a1e9ede6d5d9ba",
        "deepnote_app_coordinates": {
          "h": 5,
          "w": 12,
          "x": 0,
          "y": 174
        },
        "deepnote_cell_type": "code",
        "deepnote_to_be_reexecuted": false,
        "execution_millis": 2,
        "execution_start": 1645375719185,
        "id": "qqirlG15QAlv",
        "outputId": "069bae7a-3039-48f5-88f6-214ad4c55024",
        "source_hash": "a7f4ca78",
        "tags": []
      },
      "outputs": [
        {
          "name": "stdout",
          "output_type": "stream",
          "text": [
            "                 player_name  year  goals\n",
            "player_id                                \n",
            "2098             Luis Suárez  2015     40\n",
            "2097            Lionel Messi  2015     26\n",
            "2371       Cristiano Ronaldo  2015     35\n"
          ]
        }
      ],
      "source": [
        "# Goles de Ronaldo, Messi y Suárez en 2015\n",
        "players = ['Cristiano Ronaldo', 'Lionel Messi', 'Luis Suárez']#filtrado por jugadores\n",
        "top_players = df[(df.player_name.isin(players)) & (df.year == 2015)]#\".isin()\" comprueba que los\n",
        "print(top_players[cols])#asigna a las columnas el valor a           #valores declarados se \n",
        "                    #\"top_players\" que fue validado por \"isin()\"    #encuentren dentro del dt"
      ]
    },
    {
      "cell_type": "markdown",
      "metadata": {
        "cell_id": "3248da23affb41cf8af4a0b9701471f7",
        "deepnote_app_coordinates": {
          "h": 5,
          "w": 12,
          "x": 0,
          "y": 180
        },
        "deepnote_cell_type": "markdown",
        "id": "LIUTd8gMQAlv",
        "tags": []
      },
      "source": [
        "### Subsetting con .loc"
      ]
    },
    {
      "cell_type": "code",
      "execution_count": null,
      "metadata": {
        "cell_id": "bd8745b60d83418ebc7b629c38f3d99a",
        "deepnote_app_coordinates": {
          "h": 5,
          "w": 12,
          "x": 0,
          "y": 186
        },
        "deepnote_cell_type": "code",
        "deepnote_to_be_reexecuted": false,
        "execution_millis": 12,
        "execution_start": 1645375719229,
        "id": "a3cC3XKeQAlw",
        "outputId": "83153066-dd81-47ac-f672-3d325064e1ce",
        "source_hash": "47bb4f7a",
        "tags": []
      },
      "outputs": [
        {
          "name": "stdout",
          "output_type": "stream",
          "text": [
            "                   year  goals\n",
            "player_name                   \n",
            "Cristiano Ronaldo  2015     35\n",
            "Lionel Messi       2015     26\n",
            "Luis Suárez        2015     40\n"
          ]
        }
      ],
      "source": [
        "# Goles de Ronaldo, Messi y Suárez en 2015\n",
        "df = df.reset_index()#reseteamos las llaves principales del df (osea ahora ya no existe)\n",
        "df = df.set_index('player_name')#sustituimos X una nueva llave primeria X column('player_name')\n",
        "players = ['Cristiano Ronaldo', 'Lionel Messi', 'Luis Suárez']#valores del nuevo index\n",
        "cols = ['year', 'goals']#valores de las columnas del df\n",
        "top_players = df.loc[players, cols]#\".loc[]\"asigna los registros a la lista declarada\n",
        "print(top_players.query('year==2015'))#muestra el df nuevo, con su nuevo index y campo eliminado"
      ]
    },
    {
      "cell_type": "markdown",
      "metadata": {
        "cell_id": "01467386e564455cbdc412e6478dcca2",
        "deepnote_app_coordinates": {
          "h": 5,
          "w": 12,
          "x": 0,
          "y": 192
        },
        "deepnote_cell_type": "markdown",
        "id": "cFziN2MBQAlw",
        "tags": []
      },
      "source": [
        "## Aplicar funciones a un DataFrame\n",
        "\n",
        "- `.sum()` → suma todos los valores de una columna.\n",
        "- `.mean()` → promedio de los valores de una columna.\n",
        "- `.max()` → valor máximo de una columna.\n",
        "- `.min()` → valor mínimo de una columna.\n",
        "- `.cumsum()` → en cada fila va poniendo la suma acumulada de una columna.\n",
        "- `.cummax()` → en cada fila va poniendo el valor máximo encontrado en orden de una columna.\n",
        "- `.value_counts(sort=True)` → cuenta los distintos valores que existen en una columna (muy útil para contar categorías) y los ordena descendientemente.\n",
        "- `.drop_duplicates(subset='col_name')` → elimina duplicados en una columna.\n",
        "\n",
        "También es posible pasar funciones que nosotros mismos hayamos creado u otras funciones importadas de otras librerías. Para ello se usa `.agg(function)`."
      ]
    },
    {
      "cell_type": "code",
      "execution_count": null,
      "metadata": {
        "cell_id": "5568cfb91aba43be91aa4e45efb95bdb",
        "deepnote_app_coordinates": {
          "h": 5,
          "w": 12,
          "x": 0,
          "y": 198
        },
        "deepnote_cell_type": "code",
        "deepnote_to_be_reexecuted": false,
        "execution_millis": 2,
        "execution_start": 1645375719250,
        "id": "JInk_vIPQAlx",
        "outputId": "e9f6e0c9-dc0d-4a6f-a88f-3fa2fd3ba390",
        "source_hash": "be9a5c83",
        "tags": []
      },
      "outputs": [
        {
          "name": "stdout",
          "output_type": "stream",
          "text": [
            "                   goals  year    team_name\n",
            "player_name                                \n",
            "Cristiano Ronaldo     48  2014  Real Madrid\n"
          ]
        }
      ],
      "source": [
        "# Máxima cantidad de goles hechas por un jugador en una temporada\n",
        "\n",
        "max_goals = df['goals'].max()#retorna quien del dt hizo mas goles\n",
        "cols = ['goals', 'year', 'team_name']#columnas que nos interesa que retorne\n",
        "print(df[df.goals == max_goals][cols])#imprime df con las column y max_goals declarados"
      ]
    },
    {
      "cell_type": "code",
      "execution_count": null,
      "metadata": {
        "cell_id": "ec4351993af64112914611b2d5ad8aa7",
        "deepnote_app_coordinates": {
          "h": 5,
          "w": 12,
          "x": 0,
          "y": 204
        },
        "deepnote_cell_type": "code",
        "deepnote_to_be_reexecuted": false,
        "execution_millis": 1335722,
        "execution_start": 1645375719285,
        "id": "Uveas978QAlx",
        "outputId": "6a69da53-f993-488c-88a8-95cb7d051949",
        "source_hash": "498ecace",
        "tags": []
      },
      "outputs": [
        {
          "name": "stdout",
          "output_type": "stream",
          "text": [
            "10.6\n"
          ]
        }
      ],
      "source": [
        "# Porcentaje de disparos al arco que terminan en gol\n",
        "total_shots = df['shots'].sum()#suma de los valores acumulados en 'shots'\n",
        "total_goals = df['goals'].sum()#suma de los valores acumulados en 'goals'\n",
        "print(round(total_goals / total_shots * 100, 2))#promediom y redondeado"
      ]
    },
    {
      "cell_type": "markdown",
      "metadata": {
        "cell_id": "4b23db51f068423680ac7f7e5d4f82b2",
        "deepnote_app_coordinates": {
          "h": 5,
          "w": 12,
          "x": 0,
          "y": 276
        },
        "deepnote_cell_type": "markdown",
        "id": "HW73Vne-QAly",
        "tags": []
      },
      "source": [
        "## Agrupar datos\n",
        "\n",
        "- `df.groupby()`"
      ]
    },
    {
      "cell_type": "code",
      "execution_count": null,
      "metadata": {
        "cell_id": "9638504f55914b1486aeee1d5f3eec2f",
        "deepnote_app_coordinates": {
          "h": 5,
          "w": 12,
          "x": 0,
          "y": 216
        },
        "deepnote_cell_type": "code",
        "deepnote_to_be_reexecuted": false,
        "execution_millis": 1335745,
        "execution_start": 1645375719309,
        "id": "tghTp9fNQAly",
        "outputId": "45787c6b-32b0-45fb-8e78-da64c0876951",
        "source_hash": "b57ac6c9",
        "tags": []
      },
      "outputs": [
        {
          "name": "stdout",
          "output_type": "stream",
          "text": [
            "player_name\n",
            "Lionel Messi                 205\n",
            "Cristiano Ronaldo            194\n",
            "Robert Lewandowski           174\n",
            "Luis Suárez                  154\n",
            "Harry Kane                   148\n",
            "Pierre-Emerick Aubameyang    141\n",
            "Sergio Agüero                128\n",
            "Edinson Cavani               125\n",
            "Ciro Immobile                119\n",
            "Mohamed Salah                117\n",
            "Name: goals, dtype: int64\n"
          ]
        }
      ],
      "source": [
        "# Top 10 jugadores que más goles han marcado\n",
        "top_players = df.groupby('player_name')['goals'].sum()#agrupa por 'player_name' y suma sus respectivos 'goals'\n",
        "print(top_players.sort_values(ascending=False).head(10))#muestra los 10 registros en orden desc"
      ]
    },
    {
      "cell_type": "code",
      "execution_count": null,
      "metadata": {
        "cell_id": "b3a268b5000c406896571862e03aca81",
        "deepnote_app_coordinates": {
          "h": 5,
          "w": 12,
          "x": 0,
          "y": 222
        },
        "deepnote_cell_type": "code",
        "deepnote_to_be_reexecuted": false,
        "execution_millis": 1335732,
        "execution_start": 1645375719392,
        "id": "rY_aAtPUQAlz",
        "outputId": "df53902b-2db4-4b55-d679-afb872ac3d1c",
        "source_hash": "40cc2f7f",
        "tags": []
      },
      "outputs": [
        {
          "name": "stdout",
          "output_type": "stream",
          "text": [
            "           red_cards  yellow_cards\n",
            "team_name                         \n",
            "AC Milan          43           513\n",
            "Genoa             42           562\n",
            "Valencia          39           598\n",
            "Bologna           38           477\n",
            "Lazio             35           576\n"
          ]
        }
      ],
      "source": [
        "# Top 5 equipos con más tarjetas rojas y amarillas\n",
        "red_cards = df.groupby('team_name')[['red_cards', 'yellow_cards']].sum()#lo mismo q el anterior\n",
        "print(red_cards.sort_values('red_cards', ascending=False).head())#pero con variante D tarj rojas"
      ]
    },
    {
      "cell_type": "markdown",
      "metadata": {
        "cell_id": "e5d980ccc5e5412daee166fd4f0fa553",
        "deepnote_app_coordinates": {
          "h": 5,
          "w": 12,
          "x": 0,
          "y": 228
        },
        "deepnote_cell_type": "markdown",
        "id": "pJQdCXQLQAlz",
        "tags": []
      },
      "source": [
        "## Crear columnas"
      ]
    },
    {
      "cell_type": "code",
      "execution_count": null,
      "metadata": {
        "cell_id": "86e9a83a52b244f0ae8fdf7a7f773878",
        "deepnote_app_coordinates": {
          "h": 5,
          "w": 12,
          "x": 0,
          "y": 234
        },
        "deepnote_cell_type": "code",
        "deepnote_to_be_reexecuted": false,
        "execution_millis": 1335784,
        "execution_start": 1645375719394,
        "id": "je5cSMnmQAlz",
        "outputId": "1b7627bf-b0f7-4cbd-d444-7d370d2289c5",
        "source_hash": "4fcb4094",
        "tags": []
      },
      "outputs": [
        {
          "name": "stdout",
          "output_type": "stream",
          "text": [
            "player_name\n",
            "Lionel Messi          293\n",
            "Cristiano Ronaldo     246\n",
            "Luis Suárez           224\n",
            "Robert Lewandowski    203\n",
            "Harry Kane            178\n",
            "Name: goals_assists, dtype: int64\n"
          ]
        }
      ],
      "source": [
        "df['goals_assists'] = df.goals + df.assists#asigna nueva columna 'goals_assists'\n",
        "best_players = df.groupby('player_name')['goals_assists'].sum()#lo mismo que el anterior\n",
        "print(best_players.sort_values(ascending=False).head())#pero con variante del mejor jugador"
      ]
    },
    {
      "attachments": {},
      "cell_type": "markdown",
      "metadata": {
        "cell_id": "a86d39ceb0c14a5cbf105489207d2685",
        "deepnote_app_coordinates": {
          "h": 5,
          "w": 12,
          "x": 0,
          "y": 240
        },
        "deepnote_cell_type": "markdown",
        "id": "ivWsX-oaQAlz",
        "tags": []
      },
      "source": [
        "# Ejercicios\n",
        "\n",
        "1. Usa `df.describe()` y cuéntanos todos los insights que te dio y qué podría significar cada uno.\n",
        "\n",
        "`#insight-> Mejor jugador - Jugador mayor rendimiento(asistencias)`  \n",
        "`#******-> npg(goles hechos excluyedo penaltis) - partidos jugados por año`\n",
        "\n",
        "2. Encuentra la cantidad de goles totales hechos por cada posición.\n",
        "\n",
        "`df.groupby('position')['goals'].sum()`\n",
        "\n",
        "3. ¿Cuál es el jugador que más tiempo ha jugado y cuál es la media de tiempo de todos los jugadores? *Esta pregunta tiene truco porque hay muchos jugadores suplentes que no juegan casi nunca y van a sesgar los datos, ¿cómo podrías solucionar esto?*\n",
        "\n",
        "`Mmax = df['time'].max()`  \n",
        "`Mmin = df['time'].min()`\n",
        "\n",
        "4. ¿Qué posición es la que más tiempo juega? ¿Y la que menos?\n",
        "\n",
        "`#Agrupando los datos por posición y sumar el tiempo jugado`  \n",
        "`posiciones = df.groupby('position')['time'].sum()`\n",
        "\n",
        "5. ¿Qué porcentaje de goles son hechos por penales? *La columna* `npg` *significa: goles hechos SIN penales.*\n",
        "\n",
        "`porcentaje_penales = (goles_totales - goles_npg) / goles_totales * 100`\n",
        "\n",
        "6. ¿Qué porcentaje de goles son hechos con asistencias?\n",
        "\n",
        "`porcentaje_asistencias = (goles_totales - tiros_asistidos) / goles_totales * 100`\n",
        "\n",
        "7. ¿Cuál fue el equipo que más goles hizo cada año? ¿Salió campeón ese año?\n",
        "\n",
        "`campeon = df[(df['year'] == year) & (df['team_name'] == team)]['champion'].values[False]`\n",
        "\n",
        "8. ¿Cuántos jugadores jugaron todos los años del dataset? ¿Qué porcentaje del total representan?\n",
        "\n",
        "`total_players = len(df['player_name'].unique())`  \n",
        "`porcentaje_de_juegos_jugados = num_de_juegos_jugados / total_players * 100`\n"
      ]
    },
    {
      "cell_type": "code",
      "execution_count": 2,
      "metadata": {
        "cell_id": "f4764330c720490098ab757e5a237527",
        "deepnote_app_coordinates": {
          "h": 5,
          "w": 12,
          "x": 0,
          "y": 246
        },
        "deepnote_cell_type": "code",
        "deepnote_to_be_reexecuted": false,
        "execution_millis": 1335756,
        "execution_start": 1645375719413,
        "id": "JbMnGSPgQAl0",
        "source_hash": "370808a5",
        "tags": []
      },
      "outputs": [],
      "source": [
        "# Aquí tu súper código. ¡Tú puedes!\n",
        "import pandas as pd\n",
        "df = pd.read_csv('https://raw.githubusercontent.com/edalgoca/mod02_python/main/football_stats.csv', index_col='player_id')"
      ]
    },
    {
      "cell_type": "code",
      "execution_count": 4,
      "metadata": {},
      "outputs": [
        {
          "data": {
            "text/html": [
              "<div>\n",
              "<style scoped>\n",
              "    .dataframe tbody tr th:only-of-type {\n",
              "        vertical-align: middle;\n",
              "    }\n",
              "\n",
              "    .dataframe tbody tr th {\n",
              "        vertical-align: top;\n",
              "    }\n",
              "\n",
              "    .dataframe thead th {\n",
              "        text-align: right;\n",
              "    }\n",
              "</style>\n",
              "<table border=\"1\" class=\"dataframe\">\n",
              "  <thead>\n",
              "    <tr style=\"text-align: right;\">\n",
              "      <th></th>\n",
              "      <th>player_name</th>\n",
              "      <th>year</th>\n",
              "      <th>games</th>\n",
              "      <th>goals</th>\n",
              "      <th>npg</th>\n",
              "      <th>shots</th>\n",
              "      <th>assists</th>\n",
              "      <th>yellow_cards</th>\n",
              "      <th>red_cards</th>\n",
              "      <th>position</th>\n",
              "      <th>team_name</th>\n",
              "      <th>time</th>\n",
              "    </tr>\n",
              "    <tr>\n",
              "      <th>player_id</th>\n",
              "      <th></th>\n",
              "      <th></th>\n",
              "      <th></th>\n",
              "      <th></th>\n",
              "      <th></th>\n",
              "      <th></th>\n",
              "      <th></th>\n",
              "      <th></th>\n",
              "      <th></th>\n",
              "      <th></th>\n",
              "      <th></th>\n",
              "      <th></th>\n",
              "    </tr>\n",
              "  </thead>\n",
              "  <tbody>\n",
              "    <tr>\n",
              "      <th>8865</th>\n",
              "      <td>Ollie Watkins</td>\n",
              "      <td>2020</td>\n",
              "      <td>9</td>\n",
              "      <td>6</td>\n",
              "      <td>5</td>\n",
              "      <td>22</td>\n",
              "      <td>1</td>\n",
              "      <td>0</td>\n",
              "      <td>0</td>\n",
              "      <td>F</td>\n",
              "      <td>Aston Villa</td>\n",
              "      <td>810</td>\n",
              "    </tr>\n",
              "    <tr>\n",
              "      <th>675</th>\n",
              "      <td>Jack Grealish</td>\n",
              "      <td>2020</td>\n",
              "      <td>9</td>\n",
              "      <td>5</td>\n",
              "      <td>5</td>\n",
              "      <td>26</td>\n",
              "      <td>5</td>\n",
              "      <td>2</td>\n",
              "      <td>0</td>\n",
              "      <td>F M</td>\n",
              "      <td>Aston Villa</td>\n",
              "      <td>810</td>\n",
              "    </tr>\n",
              "    <tr>\n",
              "      <th>592</th>\n",
              "      <td>Ross Barkley</td>\n",
              "      <td>2020</td>\n",
              "      <td>6</td>\n",
              "      <td>2</td>\n",
              "      <td>2</td>\n",
              "      <td>17</td>\n",
              "      <td>1</td>\n",
              "      <td>0</td>\n",
              "      <td>0</td>\n",
              "      <td>M</td>\n",
              "      <td>Aston Villa</td>\n",
              "      <td>454</td>\n",
              "    </tr>\n",
              "    <tr>\n",
              "      <th>1024</th>\n",
              "      <td>Tyrone Mings</td>\n",
              "      <td>2020</td>\n",
              "      <td>9</td>\n",
              "      <td>2</td>\n",
              "      <td>2</td>\n",
              "      <td>7</td>\n",
              "      <td>1</td>\n",
              "      <td>2</td>\n",
              "      <td>0</td>\n",
              "      <td>D</td>\n",
              "      <td>Aston Villa</td>\n",
              "      <td>810</td>\n",
              "    </tr>\n",
              "    <tr>\n",
              "      <th>7726</th>\n",
              "      <td>Ezri Konsa Ngoyo</td>\n",
              "      <td>2020</td>\n",
              "      <td>9</td>\n",
              "      <td>2</td>\n",
              "      <td>2</td>\n",
              "      <td>7</td>\n",
              "      <td>0</td>\n",
              "      <td>0</td>\n",
              "      <td>0</td>\n",
              "      <td>D</td>\n",
              "      <td>Aston Villa</td>\n",
              "      <td>810</td>\n",
              "    </tr>\n",
              "    <tr>\n",
              "      <th>...</th>\n",
              "      <td>...</td>\n",
              "      <td>...</td>\n",
              "      <td>...</td>\n",
              "      <td>...</td>\n",
              "      <td>...</td>\n",
              "      <td>...</td>\n",
              "      <td>...</td>\n",
              "      <td>...</td>\n",
              "      <td>...</td>\n",
              "      <td>...</td>\n",
              "      <td>...</td>\n",
              "      <td>...</td>\n",
              "    </tr>\n",
              "    <tr>\n",
              "      <th>4267</th>\n",
              "      <td>Florian Hartherz</td>\n",
              "      <td>2014</td>\n",
              "      <td>10</td>\n",
              "      <td>0</td>\n",
              "      <td>0</td>\n",
              "      <td>1</td>\n",
              "      <td>2</td>\n",
              "      <td>1</td>\n",
              "      <td>1</td>\n",
              "      <td>D S</td>\n",
              "      <td>Paderborn</td>\n",
              "      <td>775</td>\n",
              "    </tr>\n",
              "    <tr>\n",
              "      <th>4268</th>\n",
              "      <td>Christian Strohdiek</td>\n",
              "      <td>2014</td>\n",
              "      <td>22</td>\n",
              "      <td>0</td>\n",
              "      <td>0</td>\n",
              "      <td>6</td>\n",
              "      <td>0</td>\n",
              "      <td>2</td>\n",
              "      <td>0</td>\n",
              "      <td>D S</td>\n",
              "      <td>Paderborn</td>\n",
              "      <td>1608</td>\n",
              "    </tr>\n",
              "    <tr>\n",
              "      <th>4311</th>\n",
              "      <td>Idir Ouali</td>\n",
              "      <td>2014</td>\n",
              "      <td>6</td>\n",
              "      <td>0</td>\n",
              "      <td>0</td>\n",
              "      <td>4</td>\n",
              "      <td>0</td>\n",
              "      <td>1</td>\n",
              "      <td>0</td>\n",
              "      <td>M S</td>\n",
              "      <td>Paderborn</td>\n",
              "      <td>296</td>\n",
              "    </tr>\n",
              "    <tr>\n",
              "      <th>4334</th>\n",
              "      <td>Mirnes Pepic</td>\n",
              "      <td>2014</td>\n",
              "      <td>2</td>\n",
              "      <td>0</td>\n",
              "      <td>0</td>\n",
              "      <td>0</td>\n",
              "      <td>0</td>\n",
              "      <td>0</td>\n",
              "      <td>0</td>\n",
              "      <td>S</td>\n",
              "      <td>Paderborn</td>\n",
              "      <td>20</td>\n",
              "    </tr>\n",
              "    <tr>\n",
              "      <th>4363</th>\n",
              "      <td>Thomas Bertels</td>\n",
              "      <td>2014</td>\n",
              "      <td>1</td>\n",
              "      <td>0</td>\n",
              "      <td>0</td>\n",
              "      <td>0</td>\n",
              "      <td>0</td>\n",
              "      <td>0</td>\n",
              "      <td>0</td>\n",
              "      <td>S</td>\n",
              "      <td>Paderborn</td>\n",
              "      <td>3</td>\n",
              "    </tr>\n",
              "  </tbody>\n",
              "</table>\n",
              "<p>18633 rows × 12 columns</p>\n",
              "</div>"
            ],
            "text/plain": [
              "                   player_name  year  games  goals  npg  shots  assists   \n",
              "player_id                                                                 \n",
              "8865             Ollie Watkins  2020      9      6    5     22        1  \\\n",
              "675              Jack Grealish  2020      9      5    5     26        5   \n",
              "592               Ross Barkley  2020      6      2    2     17        1   \n",
              "1024              Tyrone Mings  2020      9      2    2      7        1   \n",
              "7726          Ezri Konsa Ngoyo  2020      9      2    2      7        0   \n",
              "...                        ...   ...    ...    ...  ...    ...      ...   \n",
              "4267          Florian Hartherz  2014     10      0    0      1        2   \n",
              "4268       Christian Strohdiek  2014     22      0    0      6        0   \n",
              "4311                Idir Ouali  2014      6      0    0      4        0   \n",
              "4334              Mirnes Pepic  2014      2      0    0      0        0   \n",
              "4363            Thomas Bertels  2014      1      0    0      0        0   \n",
              "\n",
              "           yellow_cards  red_cards position    team_name  time  \n",
              "player_id                                                       \n",
              "8865                  0          0        F  Aston Villa   810  \n",
              "675                   2          0      F M  Aston Villa   810  \n",
              "592                   0          0        M  Aston Villa   454  \n",
              "1024                  2          0        D  Aston Villa   810  \n",
              "7726                  0          0        D  Aston Villa   810  \n",
              "...                 ...        ...      ...          ...   ...  \n",
              "4267                  1          1      D S    Paderborn   775  \n",
              "4268                  2          0      D S    Paderborn  1608  \n",
              "4311                  1          0      M S    Paderborn   296  \n",
              "4334                  0          0        S    Paderborn    20  \n",
              "4363                  0          0        S    Paderborn     3  \n",
              "\n",
              "[18633 rows x 12 columns]"
            ]
          },
          "execution_count": 4,
          "metadata": {},
          "output_type": "execute_result"
        }
      ],
      "source": [
        "df.head()#insight-> Mejor jugador - Jugador mayor rendimiento(asistencias)\n",
        "                #-> npg(goles hechos excluyedo penaltis) - partidos jugados por año"
      ]
    },
    {
      "cell_type": "code",
      "execution_count": 17,
      "metadata": {},
      "outputs": [
        {
          "name": "stdout",
          "output_type": "stream",
          "text": [
            "               year         games         goals           npg         shots   \n",
            "count  18633.000000  18633.000000  18633.000000  18633.000000  18633.000000  \\\n",
            "mean    2016.937691     17.072291      1.624054      1.478399     15.323888   \n",
            "std        1.976606     11.375527      3.252418      2.891849     20.934645   \n",
            "min     2014.000000      1.000000      0.000000      0.000000      0.000000   \n",
            "25%     2015.000000      7.000000      0.000000      0.000000      1.000000   \n",
            "50%     2017.000000     16.000000      0.000000      0.000000      8.000000   \n",
            "75%     2019.000000     27.000000      2.000000      2.000000     21.000000   \n",
            "max     2020.000000     38.000000     48.000000     38.000000    227.000000   \n",
            "\n",
            "            assists  yellow_cards     red_cards          time  \n",
            "count  18633.000000  18633.000000  18633.000000  18633.000000  \n",
            "mean       1.138088      2.453979      0.127569   1207.483282  \n",
            "std        1.936238      2.685745      0.370656    975.753086  \n",
            "min        0.000000      0.000000      0.000000      1.000000  \n",
            "25%        0.000000      0.000000      0.000000    326.000000  \n",
            "50%        0.000000      2.000000      0.000000    976.000000  \n",
            "75%        2.000000      4.000000      0.000000   2004.000000  \n",
            "max       20.000000     17.000000      5.000000   3420.000000  \n"
          ]
        }
      ],
      "source": [
        "#1. Usa `df.describe()` y cuéntanos todos los insights que te dio y qué podría significar c/u. \n",
        "print(df.describe())#insight-> Mejor jugador - Jugador mayor rendimiento(asistencias)  \n",
        "                #       -> npg(goles hechos excluyedo penaltis) - partidos jugados por año"
      ]
    },
    {
      "cell_type": "code",
      "execution_count": 37,
      "metadata": {},
      "outputs": [
        {
          "data": {
            "text/plain": [
              "position\n",
              "D          1238\n",
              "D F           0\n",
              "D F M        62\n",
              "D F M S     637\n",
              "D F S        25\n",
              "D M         360\n",
              "D M S      1213\n",
              "D S        1494\n",
              "F          1022\n",
              "F M         982\n",
              "F M S      9718\n",
              "F S        8118\n",
              "GK            1\n",
              "GK S          1\n",
              "M           764\n",
              "M S        4536\n",
              "S            90\n",
              "Name: goals, dtype: int64"
            ]
          },
          "execution_count": 37,
          "metadata": {},
          "output_type": "execute_result"
        }
      ],
      "source": [
        "#2. Encuentra la cantidad de goles totales hechos por cada posición.\n",
        "df.groupby('position')['goals'].sum()"
      ]
    },
    {
      "cell_type": "code",
      "execution_count": 10,
      "metadata": {},
      "outputs": [],
      "source": [
        "#3. ¿Cuál es el jugador que más tiempo ha jugado y cuál es la media de tiempo de todos \n",
        "#los jugadores? *Esta pregunta tiene truco porque hay muchos jugadores suplentes que no \n",
        "#juegan casi nunca y van a sesgar los datos, ¿cómo podrías solucionar esto?*\n",
        "Mmax = df['time'].max()#3420\n",
        "Mmin= df['time'].min()#501"
      ]
    },
    {
      "cell_type": "code",
      "execution_count": 6,
      "metadata": {},
      "outputs": [
        {
          "name": "stdout",
          "output_type": "stream",
          "text": [
            "El jugador que más tiempo ha jugado es player_id\n",
            "741    Jordan Pickford\n",
            "741    Jordan Pickford\n",
            "741    Jordan Pickford\n",
            "741    Jordan Pickford\n",
            "741    Jordan Pickford\n",
            "741    Jordan Pickford\n",
            "Name: player_name, dtype: object\n",
            "con player_id\n",
            "741     900\n",
            "741    3420\n",
            "741    3420\n",
            "741    3420\n",
            "741    2610\n",
            "741     180\n",
            "Name: time, dtype: int64 minutos jugados.\n"
          ]
        }
      ],
      "source": [
        "umbral_minutos_jugados = Mmin\n",
        "df2 = df[df['time'] > umbral_minutos_jugados]\n",
        "jugador_mas_tiempo_jugado = df['time'].idxmax()\n",
        "media_minutos_jugados = df['time'].mean()\n",
        "\n",
        "print(f'El jugador que más tiempo ha jugado es {df.loc[jugador_mas_tiempo_jugado][\"player_name\"]}')\n",
        "print(f'con {df.loc[jugador_mas_tiempo_jugado][\"time\"]} minutos jugados.')\n"
      ]
    },
    {
      "cell_type": "code",
      "execution_count": 9,
      "metadata": {},
      "outputs": [
        {
          "data": {
            "text/html": [
              "<div>\n",
              "<style scoped>\n",
              "    .dataframe tbody tr th:only-of-type {\n",
              "        vertical-align: middle;\n",
              "    }\n",
              "\n",
              "    .dataframe tbody tr th {\n",
              "        vertical-align: top;\n",
              "    }\n",
              "\n",
              "    .dataframe thead th {\n",
              "        text-align: right;\n",
              "    }\n",
              "</style>\n",
              "<table border=\"1\" class=\"dataframe\">\n",
              "  <thead>\n",
              "    <tr style=\"text-align: right;\">\n",
              "      <th></th>\n",
              "      <th>player_name</th>\n",
              "      <th>year</th>\n",
              "      <th>games</th>\n",
              "      <th>goals</th>\n",
              "      <th>npg</th>\n",
              "      <th>shots</th>\n",
              "      <th>assists</th>\n",
              "      <th>yellow_cards</th>\n",
              "      <th>red_cards</th>\n",
              "      <th>position</th>\n",
              "      <th>team_name</th>\n",
              "      <th>time</th>\n",
              "    </tr>\n",
              "    <tr>\n",
              "      <th>player_id</th>\n",
              "      <th></th>\n",
              "      <th></th>\n",
              "      <th></th>\n",
              "      <th></th>\n",
              "      <th></th>\n",
              "      <th></th>\n",
              "      <th></th>\n",
              "      <th></th>\n",
              "      <th></th>\n",
              "      <th></th>\n",
              "      <th></th>\n",
              "      <th></th>\n",
              "    </tr>\n",
              "  </thead>\n",
              "  <tbody>\n",
              "    <tr>\n",
              "      <th>8865</th>\n",
              "      <td>Ollie Watkins</td>\n",
              "      <td>2020</td>\n",
              "      <td>9</td>\n",
              "      <td>6</td>\n",
              "      <td>5</td>\n",
              "      <td>22</td>\n",
              "      <td>1</td>\n",
              "      <td>0</td>\n",
              "      <td>0</td>\n",
              "      <td>F</td>\n",
              "      <td>Aston Villa</td>\n",
              "      <td>810</td>\n",
              "    </tr>\n",
              "    <tr>\n",
              "      <th>675</th>\n",
              "      <td>Jack Grealish</td>\n",
              "      <td>2020</td>\n",
              "      <td>9</td>\n",
              "      <td>5</td>\n",
              "      <td>5</td>\n",
              "      <td>26</td>\n",
              "      <td>5</td>\n",
              "      <td>2</td>\n",
              "      <td>0</td>\n",
              "      <td>F M</td>\n",
              "      <td>Aston Villa</td>\n",
              "      <td>810</td>\n",
              "    </tr>\n",
              "    <tr>\n",
              "      <th>592</th>\n",
              "      <td>Ross Barkley</td>\n",
              "      <td>2020</td>\n",
              "      <td>6</td>\n",
              "      <td>2</td>\n",
              "      <td>2</td>\n",
              "      <td>17</td>\n",
              "      <td>1</td>\n",
              "      <td>0</td>\n",
              "      <td>0</td>\n",
              "      <td>M</td>\n",
              "      <td>Aston Villa</td>\n",
              "      <td>454</td>\n",
              "    </tr>\n",
              "    <tr>\n",
              "      <th>1024</th>\n",
              "      <td>Tyrone Mings</td>\n",
              "      <td>2020</td>\n",
              "      <td>9</td>\n",
              "      <td>2</td>\n",
              "      <td>2</td>\n",
              "      <td>7</td>\n",
              "      <td>1</td>\n",
              "      <td>2</td>\n",
              "      <td>0</td>\n",
              "      <td>D</td>\n",
              "      <td>Aston Villa</td>\n",
              "      <td>810</td>\n",
              "    </tr>\n",
              "    <tr>\n",
              "      <th>7726</th>\n",
              "      <td>Ezri Konsa Ngoyo</td>\n",
              "      <td>2020</td>\n",
              "      <td>9</td>\n",
              "      <td>2</td>\n",
              "      <td>2</td>\n",
              "      <td>7</td>\n",
              "      <td>0</td>\n",
              "      <td>0</td>\n",
              "      <td>0</td>\n",
              "      <td>D</td>\n",
              "      <td>Aston Villa</td>\n",
              "      <td>810</td>\n",
              "    </tr>\n",
              "  </tbody>\n",
              "</table>\n",
              "</div>"
            ],
            "text/plain": [
              "                player_name  year  games  goals  npg  shots  assists   \n",
              "player_id                                                              \n",
              "8865          Ollie Watkins  2020      9      6    5     22        1  \\\n",
              "675           Jack Grealish  2020      9      5    5     26        5   \n",
              "592            Ross Barkley  2020      6      2    2     17        1   \n",
              "1024           Tyrone Mings  2020      9      2    2      7        1   \n",
              "7726       Ezri Konsa Ngoyo  2020      9      2    2      7        0   \n",
              "\n",
              "           yellow_cards  red_cards position    team_name  time  \n",
              "player_id                                                       \n",
              "8865                  0          0        F  Aston Villa   810  \n",
              "675                   2          0      F M  Aston Villa   810  \n",
              "592                   0          0        M  Aston Villa   454  \n",
              "1024                  2          0        D  Aston Villa   810  \n",
              "7726                  0          0        D  Aston Villa   810  "
            ]
          },
          "execution_count": 9,
          "metadata": {},
          "output_type": "execute_result"
        }
      ],
      "source": [
        "tf = df[df['time'] > umbral_minutos_jugados]\n",
        "tf.head()"
      ]
    },
    {
      "cell_type": "code",
      "execution_count": 11,
      "metadata": {},
      "outputs": [
        {
          "name": "stdout",
          "output_type": "stream",
          "text": [
            "La posición que más tiempo juega es M S.\n",
            "La posición que menos tiempo juega es D F.\n"
          ]
        }
      ],
      "source": [
        "# 4. ¿Qué posición es la que más tiempo juega? ¿Y la que menos?\n",
        "# Agrupando los datos por posición y sumar el tiempo jugado\n",
        "posiciones = df.groupby('position')['time'].sum()\n",
        "\n",
        "# Encontrando la posición que más tiempo juega\n",
        "posicion_mas_tiempo = posiciones.idxmax()\n",
        "\n",
        "# Encontrando la posición que menos tiempo juega\n",
        "posicion_menos_tiempo = posiciones.idxmin()\n",
        "\n",
        "print(f'La posición que más tiempo juega es {posicion_mas_tiempo}.')\n",
        "print(f'La posición que menos tiempo juega es {posicion_menos_tiempo}.')"
      ]
    },
    {
      "cell_type": "code",
      "execution_count": 5,
      "metadata": {},
      "outputs": [
        {
          "name": "stdout",
          "output_type": "stream",
          "text": [
            "El porcentaje de goles realizados por \"penales\" es 8.97%\n"
          ]
        }
      ],
      "source": [
        "#5. ¿Qué porcentaje de goles son hechos por penales? *La columna* `npg` \n",
        "#*significa: goles hechos SIN penales.*\n",
        "goles_totales = df['goals'].sum()\n",
        "goles_npg = df['npg'].sum()                                 #.2f-> calc. con resultado float\n",
        "porcentaje_penales = (goles_totales - goles_npg) / goles_totales * 100\n",
        "print(f'El porcentaje de goles realizados por \"penales\" es {porcentaje_penales:.2f}%')"
      ]
    },
    {
      "cell_type": "code",
      "execution_count": 30,
      "metadata": {},
      "outputs": [
        {
          "name": "stdout",
          "output_type": "stream",
          "text": [
            "La cantidad de goles es: 30261 y la cantidad de asisitencias son: 21206\n",
            "El porcentaje de goles realizados por \"asistencias\" es 29.92%\n"
          ]
        }
      ],
      "source": [
        "#6. ¿Qué porcentaje de goles son hechos con asistencias?\n",
        "goles_totales = df['goals'].sum()\n",
        "tiros_asistidos = df['assists'].sum()\n",
        "\n",
        "print(f'La cantidad de goles es: {goles_totales} y la cantidad de asisitencias son: {tiros_asistidos}')                    \n",
        "porcentaje_asistencias = (goles_totales - tiros_asistidos) / goles_totales * 100\n",
        "print(f'El porcentaje de goles realizados por \"asistencias\" es {porcentaje_asistencias:.2f}%')\n",
        "#.2f-> calc. con resultado float"
      ]
    },
    {
      "cell_type": "code",
      "execution_count": 10,
      "metadata": {},
      "outputs": [],
      "source": [
        "#7. ¿Cuál fue el equipo que más goles hizo cada año? ¿Salió campeón ese año?\n",
        "# Agrupar los datos por año y equipo y sumar los goles\n",
        "goles_hechos_por_equipo_año = df.groupby(['year', 'team_name'])['goals'].sum()\n",
        "\n",
        "# Encontrar el equipo con la mayor cantidad de goles en cada año\n",
        "goles_max_por_año = goles_hechos_por_equipo_año.groupby('year').idxmax()\n",
        "df['champion'] = 'dato_de_campeon'#agregando columna champion\n",
        "df = df.assign(champion=False)#añadiendo valor fijo a la columna champion por \"false\""
      ]
    },
    {
      "cell_type": "code",
      "execution_count": 8,
      "metadata": {},
      "outputs": [
        {
          "name": "stdout",
          "output_type": "stream",
          "text": [
            "<class 'pandas.core.frame.DataFrame'>\n",
            "Index: 18633 entries, 8865 to 4363\n",
            "Data columns (total 13 columns):\n",
            " #   Column        Non-Null Count  Dtype \n",
            "---  ------        --------------  ----- \n",
            " 0   player_name   18633 non-null  object\n",
            " 1   year          18633 non-null  int64 \n",
            " 2   games         18633 non-null  int64 \n",
            " 3   goals         18633 non-null  int64 \n",
            " 4   npg           18633 non-null  int64 \n",
            " 5   shots         18633 non-null  int64 \n",
            " 6   assists       18633 non-null  int64 \n",
            " 7   yellow_cards  18633 non-null  int64 \n",
            " 8   red_cards     18633 non-null  int64 \n",
            " 9   position      18633 non-null  object\n",
            " 10  team_name     18633 non-null  object\n",
            " 11  time          18633 non-null  int64 \n",
            " 12  champion      18633 non-null  object\n",
            "dtypes: int64(9), object(4)\n",
            "memory usage: 2.0+ MB\n"
          ]
        }
      ],
      "source": [
        "df.info()#devielve el valor de los columnas de un dataset y que tipo de datos almacenan"
      ]
    },
    {
      "cell_type": "code",
      "execution_count": 48,
      "metadata": {},
      "outputs": [
        {
          "name": "stdout",
          "output_type": "stream",
          "text": [
            "En 2014, (2014, 'Real Madrid') fue el equipo que más goles hizo. ¿Fue campeón? nose dXD\n",
            "En 2015, (2015, 'Barcelona') fue el equipo que más goles hizo. ¿Fue campeón? nose dXD\n",
            "En 2016, (2016, 'Barcelona') fue el equipo que más goles hizo. ¿Fue campeón? nose dXD\n",
            "En 2017, (2017, 'Manchester City') fue el equipo que más goles hizo. ¿Fue campeón? nose dXD\n",
            "En 2018, (2018, 'Paris Saint Germain') fue el equipo que más goles hizo. ¿Fue campeón? nose dXD\n",
            "En 2019, (2019, 'Manchester City') fue el equipo que más goles hizo. ¿Fue campeón? nose dXD\n",
            "En 2020, (2020, 'Bayern Munich') fue el equipo que más goles hizo. ¿Fue campeón? nose dXD\n"
          ]
        }
      ],
      "source": [
        "# Verificar si ese equipo fue el campeón ese año\n",
        "for year, team in goles_max_por_año.items():\n",
        "    #valida si en el año correspondiente un equipo fue campeon (tomando en cuenta que\n",
        "    #el equipo en cuestion este totalmente declarado campeon y existan esos datos como tal)\n",
        "    campeon = df[(df['year'] == year) & (df['team_name'] == team)]['champion'].values[False]\n",
        "    campeon='nose dXD'\n",
        "    print(f'En {year}, {team} fue el equipo que más goles hizo. ¿Fue campeón? {campeon}')"
      ]
    },
    {
      "cell_type": "code",
      "execution_count": 9,
      "metadata": {},
      "outputs": [
        {
          "data": {
            "text/html": [
              "<div>\n",
              "<style scoped>\n",
              "    .dataframe tbody tr th:only-of-type {\n",
              "        vertical-align: middle;\n",
              "    }\n",
              "\n",
              "    .dataframe tbody tr th {\n",
              "        vertical-align: top;\n",
              "    }\n",
              "\n",
              "    .dataframe thead th {\n",
              "        text-align: right;\n",
              "    }\n",
              "</style>\n",
              "<table border=\"1\" class=\"dataframe\">\n",
              "  <thead>\n",
              "    <tr style=\"text-align: right;\">\n",
              "      <th></th>\n",
              "      <th>player_name</th>\n",
              "      <th>year</th>\n",
              "      <th>games</th>\n",
              "      <th>goals</th>\n",
              "      <th>npg</th>\n",
              "      <th>shots</th>\n",
              "      <th>assists</th>\n",
              "      <th>yellow_cards</th>\n",
              "      <th>red_cards</th>\n",
              "      <th>position</th>\n",
              "      <th>team_name</th>\n",
              "      <th>time</th>\n",
              "      <th>champion</th>\n",
              "    </tr>\n",
              "    <tr>\n",
              "      <th>player_id</th>\n",
              "      <th></th>\n",
              "      <th></th>\n",
              "      <th></th>\n",
              "      <th></th>\n",
              "      <th></th>\n",
              "      <th></th>\n",
              "      <th></th>\n",
              "      <th></th>\n",
              "      <th></th>\n",
              "      <th></th>\n",
              "      <th></th>\n",
              "      <th></th>\n",
              "      <th></th>\n",
              "    </tr>\n",
              "  </thead>\n",
              "  <tbody>\n",
              "    <tr>\n",
              "      <th>8865</th>\n",
              "      <td>Ollie Watkins</td>\n",
              "      <td>2020</td>\n",
              "      <td>9</td>\n",
              "      <td>6</td>\n",
              "      <td>5</td>\n",
              "      <td>22</td>\n",
              "      <td>1</td>\n",
              "      <td>0</td>\n",
              "      <td>0</td>\n",
              "      <td>F</td>\n",
              "      <td>Aston Villa</td>\n",
              "      <td>810</td>\n",
              "      <td>valor_de_champion</td>\n",
              "    </tr>\n",
              "    <tr>\n",
              "      <th>675</th>\n",
              "      <td>Jack Grealish</td>\n",
              "      <td>2020</td>\n",
              "      <td>9</td>\n",
              "      <td>5</td>\n",
              "      <td>5</td>\n",
              "      <td>26</td>\n",
              "      <td>5</td>\n",
              "      <td>2</td>\n",
              "      <td>0</td>\n",
              "      <td>F M</td>\n",
              "      <td>Aston Villa</td>\n",
              "      <td>810</td>\n",
              "      <td>valor_de_champion</td>\n",
              "    </tr>\n",
              "    <tr>\n",
              "      <th>592</th>\n",
              "      <td>Ross Barkley</td>\n",
              "      <td>2020</td>\n",
              "      <td>6</td>\n",
              "      <td>2</td>\n",
              "      <td>2</td>\n",
              "      <td>17</td>\n",
              "      <td>1</td>\n",
              "      <td>0</td>\n",
              "      <td>0</td>\n",
              "      <td>M</td>\n",
              "      <td>Aston Villa</td>\n",
              "      <td>454</td>\n",
              "      <td>valor_de_champion</td>\n",
              "    </tr>\n",
              "    <tr>\n",
              "      <th>1024</th>\n",
              "      <td>Tyrone Mings</td>\n",
              "      <td>2020</td>\n",
              "      <td>9</td>\n",
              "      <td>2</td>\n",
              "      <td>2</td>\n",
              "      <td>7</td>\n",
              "      <td>1</td>\n",
              "      <td>2</td>\n",
              "      <td>0</td>\n",
              "      <td>D</td>\n",
              "      <td>Aston Villa</td>\n",
              "      <td>810</td>\n",
              "      <td>valor_de_champion</td>\n",
              "    </tr>\n",
              "    <tr>\n",
              "      <th>7726</th>\n",
              "      <td>Ezri Konsa Ngoyo</td>\n",
              "      <td>2020</td>\n",
              "      <td>9</td>\n",
              "      <td>2</td>\n",
              "      <td>2</td>\n",
              "      <td>7</td>\n",
              "      <td>0</td>\n",
              "      <td>0</td>\n",
              "      <td>0</td>\n",
              "      <td>D</td>\n",
              "      <td>Aston Villa</td>\n",
              "      <td>810</td>\n",
              "      <td>valor_de_champion</td>\n",
              "    </tr>\n",
              "  </tbody>\n",
              "</table>\n",
              "</div>"
            ],
            "text/plain": [
              "                player_name  year  games  goals  npg  shots  assists   \n",
              "player_id                                                              \n",
              "8865          Ollie Watkins  2020      9      6    5     22        1  \\\n",
              "675           Jack Grealish  2020      9      5    5     26        5   \n",
              "592            Ross Barkley  2020      6      2    2     17        1   \n",
              "1024           Tyrone Mings  2020      9      2    2      7        1   \n",
              "7726       Ezri Konsa Ngoyo  2020      9      2    2      7        0   \n",
              "\n",
              "           yellow_cards  red_cards position    team_name  time   \n",
              "player_id                                                        \n",
              "8865                  0          0        F  Aston Villa   810  \\\n",
              "675                   2          0      F M  Aston Villa   810   \n",
              "592                   0          0        M  Aston Villa   454   \n",
              "1024                  2          0        D  Aston Villa   810   \n",
              "7726                  0          0        D  Aston Villa   810   \n",
              "\n",
              "                    champion  \n",
              "player_id                     \n",
              "8865       valor_de_champion  \n",
              "675        valor_de_champion  \n",
              "592        valor_de_champion  \n",
              "1024       valor_de_champion  \n",
              "7726       valor_de_champion  "
            ]
          },
          "execution_count": 9,
          "metadata": {},
          "output_type": "execute_result"
        }
      ],
      "source": [
        "df.head()"
      ]
    },
    {
      "cell_type": "code",
      "execution_count": 6,
      "metadata": {},
      "outputs": [
        {
          "name": "stdout",
          "output_type": "stream",
          "text": [
            "El número de jugadores que jugaron todos los años es 540.\n",
            "El porcentaje de jugadores que jugaron todos los años es (8.75% del total).\n"
          ]
        }
      ],
      "source": [
        "#8. ¿Cuántos jugadores jugaron todos los años del dataset? ¿Qué porcentaje del total representan?\n",
        "# Agrupando los datos por nombre de jugador y contando el número de años únicos en \n",
        "juegos_jugados = df.groupby('player_name')['year'].nunique()                    #los que jugaron\n",
        "\n",
        "# Filtrando los jugadores que jugaron todos los años y hacer conteo\n",
        "juegos_jugados = juegos_jugados[juegos_jugados == df['year'].nunique()]\n",
        "num_de_juegos_jugados = len(juegos_jugados)\n",
        "\n",
        "# Calculando porcentaje del total que representan en los juegos que jugaron\n",
        "total_players = len(df['player_name'].unique())\n",
        "porcentaje_de_juegos_jugados = num_de_juegos_jugados / total_players * 100\n",
        "\n",
        "print(f'El número de jugadores que jugaron todos los años es {num_de_juegos_jugados}.')\n",
        "print(f'El porcentaje de jugadores que jugaron todos los años es ({porcentaje_de_juegos_jugados:.2f}% del total).')"
      ]
    },
    {
      "cell_type": "code",
      "execution_count": null,
      "metadata": {
        "cell_id": "8a7834f1b700458990f43c8e82fdf10d",
        "deepnote_app_coordinates": {
          "h": 5,
          "w": 12,
          "x": 0,
          "y": 0
        },
        "deepnote_cell_type": "code",
        "deepnote_to_be_reexecuted": false,
        "execution_millis": 2,
        "execution_start": 1645375719414,
        "id": "pi1gpP6KQAl0",
        "outputId": "606b9983-bad5-4a1a-a094-8d4f9c15f5ba",
        "source_hash": "5bbc1257",
        "tags": []
      },
      "outputs": [
        {
          "data": {
            "application/vnd.deepnote.dataframe.v3+json": {
              "column_count": 3,
              "columns": [
                {
                  "dtype": "int64",
                  "name": "year",
                  "stats": {
                    "histogram": [
                      {
                        "bin_end": 2014.6,
                        "bin_start": 2014,
                        "count": 1
                      },
                      {
                        "bin_end": 2015.2,
                        "bin_start": 2014.6,
                        "count": 1
                      },
                      {
                        "bin_end": 2015.8,
                        "bin_start": 2015.2,
                        "count": 0
                      },
                      {
                        "bin_end": 2016.4,
                        "bin_start": 2015.8,
                        "count": 1
                      },
                      {
                        "bin_end": 2017,
                        "bin_start": 2016.4,
                        "count": 0
                      },
                      {
                        "bin_end": 2017.6,
                        "bin_start": 2017,
                        "count": 1
                      },
                      {
                        "bin_end": 2018.2,
                        "bin_start": 2017.6,
                        "count": 1
                      },
                      {
                        "bin_end": 2018.8,
                        "bin_start": 2018.2,
                        "count": 0
                      },
                      {
                        "bin_end": 2019.4,
                        "bin_start": 2018.8,
                        "count": 1
                      },
                      {
                        "bin_end": 2020,
                        "bin_start": 2019.4,
                        "count": 1
                      }
                    ],
                    "max": "2020",
                    "min": "2014",
                    "nan_count": 0,
                    "unique_count": 7
                  }
                },
                {
                  "dtype": "object",
                  "name": "team_name",
                  "stats": {
                    "categories": [
                      {
                        "count": 2,
                        "name": "Barcelona"
                      },
                      {
                        "count": 2,
                        "name": "Manchester City"
                      },
                      {
                        "count": 3,
                        "name": "3 others"
                      }
                    ],
                    "nan_count": 0,
                    "unique_count": 5
                  }
                },
                {
                  "dtype": "int64",
                  "name": "goals",
                  "stats": {
                    "histogram": [
                      {
                        "bin_end": 42.2,
                        "bin_start": 34,
                        "count": 1
                      },
                      {
                        "bin_end": 50.4,
                        "bin_start": 42.2,
                        "count": 0
                      },
                      {
                        "bin_end": 58.599999999999994,
                        "bin_start": 50.4,
                        "count": 0
                      },
                      {
                        "bin_end": 66.8,
                        "bin_start": 58.599999999999994,
                        "count": 0
                      },
                      {
                        "bin_end": 75,
                        "bin_start": 66.8,
                        "count": 0
                      },
                      {
                        "bin_end": 83.19999999999999,
                        "bin_start": 75,
                        "count": 0
                      },
                      {
                        "bin_end": 91.39999999999999,
                        "bin_start": 83.19999999999999,
                        "count": 0
                      },
                      {
                        "bin_end": 99.6,
                        "bin_start": 91.39999999999999,
                        "count": 0
                      },
                      {
                        "bin_end": 107.8,
                        "bin_start": 99.6,
                        "count": 3
                      },
                      {
                        "bin_end": 116,
                        "bin_start": 107.8,
                        "count": 3
                      }
                    ],
                    "max": "116",
                    "min": "34",
                    "nan_count": 0,
                    "unique_count": 6
                  }
                },
                {
                  "dtype": "int64",
                  "name": "_deepnote_index_column"
                }
              ],
              "row_count": 7,
              "rows": [
                {
                  "_deepnote_index_column": 0,
                  "goals": 116,
                  "team_name": "Real Madrid",
                  "year": 2014
                },
                {
                  "_deepnote_index_column": 1,
                  "goals": 114,
                  "team_name": "Barcelona",
                  "year": 2016
                },
                {
                  "_deepnote_index_column": 2,
                  "goals": 109,
                  "team_name": "Barcelona",
                  "year": 2015
                },
                {
                  "_deepnote_index_column": 6,
                  "goals": 103,
                  "team_name": "Paris Saint Germain",
                  "year": 2018
                },
                {
                  "_deepnote_index_column": 8,
                  "goals": 103,
                  "team_name": "Manchester City",
                  "year": 2017
                },
                {
                  "_deepnote_index_column": 11,
                  "goals": 100,
                  "team_name": "Manchester City",
                  "year": 2019
                },
                {
                  "_deepnote_index_column": 492,
                  "goals": 34,
                  "team_name": "Bayern Munich",
                  "year": 2020
                }
              ]
            },
            "text/html": [
              "<div>\n",
              "<style scoped>\n",
              "    .dataframe tbody tr th:only-of-type {\n",
              "        vertical-align: middle;\n",
              "    }\n",
              "\n",
              "    .dataframe tbody tr th {\n",
              "        vertical-align: top;\n",
              "    }\n",
              "\n",
              "    .dataframe thead th {\n",
              "        text-align: right;\n",
              "    }\n",
              "</style>\n",
              "<table border=\"1\" class=\"dataframe\">\n",
              "  <thead>\n",
              "    <tr style=\"text-align: right;\">\n",
              "      <th></th>\n",
              "      <th>year</th>\n",
              "      <th>team_name</th>\n",
              "      <th>goals</th>\n",
              "    </tr>\n",
              "  </thead>\n",
              "  <tbody>\n",
              "    <tr>\n",
              "      <th>0</th>\n",
              "      <td>2014</td>\n",
              "      <td>Real Madrid</td>\n",
              "      <td>116</td>\n",
              "    </tr>\n",
              "    <tr>\n",
              "      <th>1</th>\n",
              "      <td>2016</td>\n",
              "      <td>Barcelona</td>\n",
              "      <td>114</td>\n",
              "    </tr>\n",
              "    <tr>\n",
              "      <th>2</th>\n",
              "      <td>2015</td>\n",
              "      <td>Barcelona</td>\n",
              "      <td>109</td>\n",
              "    </tr>\n",
              "    <tr>\n",
              "      <th>6</th>\n",
              "      <td>2018</td>\n",
              "      <td>Paris Saint Germain</td>\n",
              "      <td>103</td>\n",
              "    </tr>\n",
              "    <tr>\n",
              "      <th>8</th>\n",
              "      <td>2017</td>\n",
              "      <td>Manchester City</td>\n",
              "      <td>103</td>\n",
              "    </tr>\n",
              "    <tr>\n",
              "      <th>11</th>\n",
              "      <td>2019</td>\n",
              "      <td>Manchester City</td>\n",
              "      <td>100</td>\n",
              "    </tr>\n",
              "    <tr>\n",
              "      <th>492</th>\n",
              "      <td>2020</td>\n",
              "      <td>Bayern Munich</td>\n",
              "      <td>34</td>\n",
              "    </tr>\n",
              "  </tbody>\n",
              "</table>\n",
              "</div>"
            ],
            "text/plain": [
              "     year            team_name  goals\n",
              "0    2014          Real Madrid    116\n",
              "1    2016            Barcelona    114\n",
              "2    2015            Barcelona    109\n",
              "6    2018  Paris Saint Germain    103\n",
              "8    2017      Manchester City    103\n",
              "11   2019      Manchester City    100\n",
              "492  2020        Bayern Munich     34"
            ]
          },
          "execution_count": 27,
          "metadata": {},
          "output_type": "execute_result"
        }
      ],
      "source": [
        "goals_by_team_by_year = df.groupby([\"year\",\"team_name\"])[\"goals\"].sum()\n",
        "goals_by_team_by_year.sort_values(ascending=False).reset_index().drop_duplicates('year')"
      ]
    },
    {
      "cell_type": "markdown",
      "metadata": {
        "cell_id": "228bfa31707143189d86392df32b4f50",
        "deepnote_app_coordinates": {
          "h": 5,
          "w": 12,
          "x": 0,
          "y": 258
        },
        "deepnote_cell_type": "markdown",
        "id": "RP5o-rtpQAl0",
        "tags": []
      },
      "source": [
        "Estos regalos son muy especiales porque no solo te ayudarán ahora, sino que te abrirán un nuevo camino que podrás usar el resto de tu vida.\n",
        "\n",
        "Primero, como no podía faltar, el cheat sheet de todos los comandos de Pandas:\n",
        "- [Cheat Sheet de Pandas](https://pandas.pydata.org/Pandas_Cheat_Sheet.pdf)\n",
        "\n",
        "Y ahora, te abriré la puerta al mundo de los datasets. Te dejaré algunos lugares donde podrás conseguir datasets de todo lo que te puedas imaginar para que apliques todos tus conocimientos y los añadas a tu [propio portafolio](https://platzi.com/blog/deepnote).\n",
        "- [Kaggle](https://www.kaggle.com/datasets): este es un sitio especial para data scientists que tiene MUCHOS datasets y competiciones para que apliques tus conocimientos.\n",
        "- [Awesome Public Datasets](https://github.com/awesomedata/awesome-public-datasets): es un repositorio de GitHub que compiló un montón datasets públicos y los ordernó por categorías. Podrías usarlos como base para tus futuros proyectos de portafolio.\n",
        "- [Datsets Seearch](https://datasetsearch.research.google.com/): Google tiene su propio buscador de datasets, prueba encontrar lo que necesitas aquí."
      ]
    }
  ],
  "metadata": {
    "colab": {
      "collapsed_sections": [
        "GbkKxrzBQAls",
        "-icT7UpfQAlt",
        "MZOUtjrmQAlu",
        "LIUTd8gMQAlv",
        "cFziN2MBQAlw",
        "HW73Vne-QAly",
        "pJQdCXQLQAlz"
      ],
      "provenance": []
    },
    "deepnote": {
      "is_reactive": false
    },
    "deepnote_app_layout": "article",
    "deepnote_execution_queue": [],
    "deepnote_notebook_id": "d03d4f8fd51044debe510477ce2a5fdd",
    "kernelspec": {
      "display_name": "Python 3",
      "name": "python3"
    },
    "language_info": {
      "codemirror_mode": {
        "name": "ipython",
        "version": 3
      },
      "file_extension": ".py",
      "mimetype": "text/x-python",
      "name": "python",
      "nbconvert_exporter": "python",
      "pygments_lexer": "ipython3",
      "version": "3.11.3"
    },
    "orig_nbformat": 2
  },
  "nbformat": 4,
  "nbformat_minor": 0
}
