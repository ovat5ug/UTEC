{
 "cells": [
  {
   "cell_type": "code",
   "execution_count": 19,
   "metadata": {},
   "outputs": [
    {
     "data": {
      "text/plain": [
       "(24858201294771281489649365353387202776299883242375501417366857311888803703202,\n",
       " 20365725568411631629958229640954889691975728809511455397819900181740185192014)"
      ]
     },
     "execution_count": 19,
     "metadata": {},
     "output_type": "execute_result"
    }
   ],
   "source": [
    "# need to use the operating system's random number generator for security\n",
    "# devuelve un numero de 256 bits ó 2^[256]\n",
    "import random\n",
    "x=random.SystemRandom().randint(1, 115792089237316195423570985008687907852837564279074904382605163141518161494336)\n",
    "y=random.SystemRandom().randint(1, 115792089237316195423570985008687907852837564279074904382605163141518161494336)\n",
    "x,y\n"
   ]
  },
  {
   "cell_type": "code",
   "execution_count": 34,
   "metadata": {},
   "outputs": [
    {
     "name": "stdout",
     "output_type": "stream",
     "text": [
      "3.671743063080803e+51\n"
     ]
    }
   ],
   "source": [
    "keys = 115792089237316195423570985008687907852837564279074904382605163141518161494336\n",
    "monkeys = 1000000\n",
    "         #10000000000000000000000000000000000000000000000000000000000 time=0.36717430630808023\n",
    "monkeyhashrate = 1000000\n",
    "\n",
    "keyspersecond = monkeys * monkeyhashrate\n",
    "\n",
    "seconds = keys / keyspersecond\n",
    "minutes = seconds / 60\n",
    "hours = minutes / 60\n",
    "days = hours / 24\n",
    "years = days / 365\n",
    "millionyears = years / 1000000\n",
    "\n",
    "print (millionyears)"
   ]
  }
 ],
 "metadata": {
  "kernelspec": {
   "display_name": "Python 3",
   "language": "python",
   "name": "python3"
  },
  "language_info": {
   "codemirror_mode": {
    "name": "ipython",
    "version": 3
   },
   "file_extension": ".py",
   "mimetype": "text/x-python",
   "name": "python",
   "nbconvert_exporter": "python",
   "pygments_lexer": "ipython3",
   "version": "3.11.3"
  },
  "orig_nbformat": 4
 },
 "nbformat": 4,
 "nbformat_minor": 2
}
