{
 "cells": [
  {
   "cell_type": "code",
   "execution_count": 1,
   "metadata": {},
   "outputs": [
    {
     "data": {
      "text/plain": [
       "(33836907009881774547130826685202928114345194526500725627397924879895946534659,\n",
       " 110128435513410776318556361152872682249792389296871895024888320168627124985460)"
      ]
     },
     "execution_count": 1,
     "metadata": {},
     "output_type": "execute_result"
    }
   ],
   "source": [
    "# need to use the operating system's random number generator for security\n",
    "# devuelve un numero de 256 bits ó 2^[256]\n",
    "import random\n",
    "x=random.SystemRandom().randint(1, 115792089237316195423570985008687907852837564279074904382605163141518161494336)\n",
    "y=random.SystemRandom().randint(1, 115792089237316195423570985008687907852837564279074904382605163141518161494336)\n",
    "x,y\n"
   ]
  },
  {
   "cell_type": "code",
   "execution_count": 11,
   "metadata": {},
   "outputs": [
    {
     "name": "stdout",
     "output_type": "stream",
     "text": [
      "10.72961282657337\n"
     ]
    }
   ],
   "source": [
    "keys = 115792089237316195423570985008687907852837564279074904382605163141518161494336\n",
    "monkeys = 1000000\n",
    "         #10000000000000000000000000000000000000000000000000000000000 time=0.36717430630808023\n",
    "monkeyhashrate = 1000000\n",
    "\n",
    "keyspersecond = monkeys * monkeyhashrate\n",
    "\n",
    "seconds = keys / keyspersecond\n",
    "minutes = seconds / 60\n",
    "hours = minutes / 60\n",
    "days = hours / 24\n",
    "years = days / 365\n",
    "millionyears = years / 1000000\n",
    "\n",
    "print (millionyears)"
   ]
  },
  {
   "cell_type": "code",
   "execution_count": 4,
   "metadata": {},
   "outputs": [
    {
     "name": "stdout",
     "output_type": "stream",
     "text": [
      "3\n"
     ]
    }
   ],
   "source": [
    "import random\n",
    "\n",
    "# Genera un número entero entre el 1 y el 12 al azar\n",
    "num_ramdom= random.randint(1, 12)\n",
    "\n",
    "# Imprime el número generado\n",
    "print(num_ramdom)"
   ]
  },
  {
   "cell_type": "code",
   "execution_count": 1,
   "metadata": {},
   "outputs": [],
   "source": [
    "def es_primo(numero):\n",
    "    if numero < 2:\n",
    "        return False\n",
    "    for i in range(2, int(numero**0.5) + 1):\n",
    "        if numero % i == 0:\n",
    "            return False\n",
    "    return True\n",
    "\n",
    "def suma_numeros_primos(n):\n",
    "    suma = 0\n",
    "    for i in range(2, n + 1):\n",
    "        if es_primo(i):\n",
    "            suma += i\n",
    "    return suma\n",
    "\n",
    "# Ejemplo de uso\n",
    "numero = int(input(\"Ingrese un número entero: \"))\n",
    "resultado = suma_numeros_primos(numero)\n",
    "print(\"La suma de los números primos hasta\", numero, \"es:\", resultado)"
   ]
  },
  {
   "cell_type": "code",
   "execution_count": null,
   "metadata": {},
   "outputs": [],
   "source": [
    "def es_primo(numero):\n",
    "    if numero < 2:\n",
    "        return False\n",
    "    for i in range(2, int(numero ** 0.5) + 1):\n",
    "        if numero % i == 0:\n",
    "            return False\n",
    "    return True\n",
    "\n",
    "def suma_numeros_primos(n):\n",
    "    suma = 0\n",
    "    for i in range(2, n + 1):\n",
    "        if es_primo(i):\n",
    "            suma += i\n",
    "    return suma\n",
    "\n",
    "# Ejemplo de uso\n",
    "numero = int(input(\"Ingrese un número entero: \"))\n",
    "resultado = suma_numeros_primos(numero)\n",
    "print(\"La suma de los números primos hasta\", numero, \"es:\", resultado)\n"
   ]
  }
 ],
 "metadata": {
  "kernelspec": {
   "display_name": "Python 3",
   "language": "python",
   "name": "python3"
  },
  "language_info": {
   "codemirror_mode": {
    "name": "ipython",
    "version": 3
   },
   "file_extension": ".py",
   "mimetype": "text/x-python",
   "name": "python",
   "nbconvert_exporter": "python",
   "pygments_lexer": "ipython3",
   "version": "3.11.3"
  },
  "orig_nbformat": 4
 },
 "nbformat": 4,
 "nbformat_minor": 2
}
