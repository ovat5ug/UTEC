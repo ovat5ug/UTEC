{
  "nbformat": 4,
  "nbformat_minor": 0,
  "metadata": {
    "colab": {
      "provenance": []
    },
    "kernelspec": {
      "name": "python3",
      "display_name": "Python 3"
    }
  },
  "cells": [
    {
      "cell_type": "code",
      "metadata": {
        "colab": {
          "base_uri": "https://localhost:8080/"
        },
        "id": "tUzByXobpR0_",
        "outputId": "649d1f64-5bb8-473e-ff0b-806b6bed6857"
      },
      "source": [
        "def saludo():#define una funcion\n",
        "  print('Hola!!!')\n",
        "saludo()"
      ],
      "execution_count": 2,
      "outputs": [
        {
          "output_type": "stream",
          "name": "stdout",
          "text": [
            "Hola!!!\n"
          ]
        }
      ]
    },
    {
      "cell_type": "code",
      "metadata": {
        "colab": {
          "base_uri": "https://localhost:8080/"
        },
        "id": "4QVFZglB2Buy",
        "outputId": "3d453cae-56c1-4b5a-ec1f-f20cb013b19d"
      },
      "source": [
        "def suma(a,b):\n",
        "  return a+b\n",
        "\n",
        "resultado = suma(4,7)\n",
        "print('resultado =',resultado)\n",
        "print('la variable resultado es de tipo: ', type(resultado))\n"
      ],
      "execution_count": 4,
      "outputs": [
        {
          "output_type": "stream",
          "name": "stdout",
          "text": [
            "resultado = 11\n",
            "la variable resultado es de tipo:  <class 'int'>\n"
          ]
        }
      ]
    },
    {
      "cell_type": "code",
      "metadata": {
        "colab": {
          "base_uri": "https://localhost:8080/"
        },
        "id": "VHRWJPKq2Y4Y",
        "outputId": "c0221b13-691e-4c90-bc86-c58e391c6102"
      },
      "source": [
        "def ConvertirAString(numero):\n",
        "  return str(numero)#convrsion implicita\n",
        "\n",
        "def multiplicacion(num1, num2):\n",
        "  res = num1*num2\n",
        "  return ConvertirAString(res)\n",
        "\n",
        "resultado = multiplicacion(2,3)\n",
        "print('resultado =',resultado)\n",
        "print('la variable resultado es de tipo: ', type(resultado))"
      ],
      "execution_count": 7,
      "outputs": [
        {
          "output_type": "stream",
          "name": "stdout",
          "text": [
            "resultado = 6\n",
            "la variable resultado es de tipo:  <class 'str'>\n"
          ]
        }
      ]
    },
    {
      "cell_type": "code",
      "metadata": {
        "colab": {
          "base_uri": "https://localhost:8080/"
        },
        "id": "P6WDeDu_5SM5",
        "outputId": "b4b129ee-d452-4fef-d4f5-447149f211c1"
      },
      "source": [
        "def principal():\n",
        "  print('soy la principal')\n",
        "  def secundaria():\n",
        "    print('soy la secundaria')\n",
        "  secundaria()#solo existe si es invocada pr la funcion principal\n",
        "\n",
        "principal()"
      ],
      "execution_count": 8,
      "outputs": [
        {
          "output_type": "stream",
          "name": "stdout",
          "text": [
            "soy la principal\n",
            "soy la secundaria\n"
          ]
        }
      ]
    },
    {
      "cell_type": "code",
      "metadata": {
        "colab": {
          "base_uri": "https://localhost:8080/"
        },
        "id": "0UaGMRvs6HxF",
        "outputId": "3cd4fd4d-8283-44e2-865a-28eaa52f7a47"
      },
      "source": [
        "def resta(num1, num2):\n",
        "  return num1-num2\n",
        "\n",
        "resta(num2=4,num1=5)"
      ],
      "execution_count": 11,
      "outputs": [
        {
          "output_type": "execute_result",
          "data": {
            "text/plain": [
              "1"
            ]
          },
          "metadata": {},
          "execution_count": 11
        }
      ]
    },
    {
      "cell_type": "code",
      "metadata": {
        "colab": {
          "base_uri": "https://localhost:8080/"
        },
        "id": "Swom0Cp08R_a",
        "outputId": "4b905b1a-27a1-4754-a36a-fcc92334daca"
      },
      "source": [
        "def doble(num1, num2=2):#\"num2\" define una valor de seteo\n",
        "  return num1*num2\n",
        "\n",
        "doble(5)"
      ],
      "execution_count": 15,
      "outputs": [
        {
          "output_type": "execute_result",
          "data": {
            "text/plain": [
              "10"
            ]
          },
          "metadata": {},
          "execution_count": 15
        }
      ]
    },
    {
      "cell_type": "code",
      "metadata": {
        "colab": {
          "base_uri": "https://localhost:8080/"
        },
        "id": "dsKpH5Vu87eg",
        "outputId": "1b4fbc92-46b1-422d-eec8-a6098b54624f"
      },
      "source": [
        "def parametro_indeterminado(parametro1, *args):\n",
        "  print(parametro1)\n",
        "  for arg in args:\n",
        "    print(arg)\n",
        "\n",
        "parametro_indeterminado('hola mundo', 1, True, 0.1, 56, [0,1,2,3,4,5])"
      ],
      "execution_count": null,
      "outputs": [
        {
          "output_type": "stream",
          "text": [
            "hola mundo\n",
            "1\n",
            "True\n",
            "0.1\n",
            "56\n",
            "[0, 1, 2, 3, 4, 5]\n"
          ],
          "name": "stdout"
        }
      ]
    },
    {
      "cell_type": "code",
      "metadata": {
        "colab": {
          "base_uri": "https://localhost:8080/"
        },
        "id": "LKdUEfp5_LoW",
        "outputId": "6cd397dd-c112-47fe-dfb4-6c6bcc35554a"
      },
      "source": [
        "def parametro_nombre(parametro1, *args, **kwargs):\n",
        "  print(parametro1)\n",
        "  for arg in args:\n",
        "    print(arg)\n",
        "  print(kwargs)\n",
        "\n",
        "\n",
        "parametro_nombre(1, 'hola','mundo',c='parametro nombre',a=1)"
      ],
      "execution_count": null,
      "outputs": [
        {
          "output_type": "stream",
          "text": [
            "1\n",
            "hola\n",
            "mundo\n",
            "{'c': 'parametro nombre', 'a': 1}\n"
          ],
          "name": "stdout"
        }
      ]
    },
    {
      "cell_type": "code",
      "metadata": {
        "colab": {
          "base_uri": "https://localhost:8080/"
        },
        "id": "GQctKOTWA93K",
        "outputId": "04ef21f5-b55d-42b0-85c0-54d76aefeba8"
      },
      "source": [
        "def miFuncion():\n",
        "  pass\n",
        "\n",
        "print(type(miFuncion()))"
      ],
      "execution_count": null,
      "outputs": [
        {
          "output_type": "stream",
          "text": [
            "<class 'NoneType'>\n"
          ],
          "name": "stdout"
        }
      ]
    },
    {
      "cell_type": "code",
      "metadata": {
        "colab": {
          "base_uri": "https://localhost:8080/"
        },
        "id": "hq7O6orxCDlo",
        "outputId": "6eb8127c-b751-4ce0-9510-5bdde0e657ed"
      },
      "source": [
        "def operaciones(a,b):\n",
        "  suma = a + b\n",
        "  resta = a - b\n",
        "  multiplicacion = a*b\n",
        "  return suma, resta, multiplicacion\n",
        "\n",
        "print(operaciones(5,3),type(operaciones(5,3)))\n",
        "s, r, m = operaciones(6,2)\n",
        "print(s)\n",
        "print(r)\n",
        "print(m)"
      ],
      "execution_count": null,
      "outputs": [
        {
          "output_type": "stream",
          "text": [
            "(8, 2, 15) <class 'tuple'>\n",
            "8\n",
            "4\n",
            "12\n"
          ],
          "name": "stdout"
        }
      ]
    },
    {
      "cell_type": "code",
      "metadata": {
        "colab": {
          "base_uri": "https://localhost:8080/"
        },
        "id": "jbyJASpvDZMO",
        "outputId": "82da6391-1827-4499-883f-f89f61c47b2b"
      },
      "source": [
        "def palabra():\n",
        "  palabra = 'Manzana'\n",
        "\n",
        "  def localVar():\n",
        "    palabra = 'Uva'\n",
        "  \n",
        "  def noLocalVar():\n",
        "    nonlocal palabra\n",
        "    palabra = 'Melón'\n",
        "  \n",
        "  def globalVar(): \n",
        "    global palabra\n",
        "    palabra = 'Sandía'\n",
        "  \n",
        "  localVar()\n",
        "  print('Valor de variable luego de localVar: ' + palabra)\n",
        "  noLocalVar()\n",
        "  print('Valor de variable luego de noLocalVar: ' + palabra)\n",
        "  globalVar()\n",
        "  print('Valor de variable luego de globalVar: ' + palabra)\n",
        "palabra()\n",
        "print('Valor de variable fuera de la funcion: ' + palabra)"
      ],
      "execution_count": null,
      "outputs": [
        {
          "output_type": "stream",
          "text": [
            "Valor de variable luego de localVar: Manzana\n",
            "Valor de variable luego de noLocalVar: Melón\n",
            "Valor de variable luego de globalVar: Melón\n",
            "Valor de variable fuera de la funcion: Sandía\n"
          ],
          "name": "stdout"
        }
      ]
    },
    {
      "cell_type": "code",
      "metadata": {
        "colab": {
          "base_uri": "https://localhost:8080/"
        },
        "id": "b1jxkXoBEmNK",
        "outputId": "edb7f430-594d-47c1-8a91-884ae1df715c"
      },
      "source": [
        "class Carro:\n",
        "  marca = 'Toyota'\n",
        "\n",
        "a = 4\n",
        "print(type(a))\n",
        "miAuto = Carro\n",
        "miAuto.color = 'azul'\n",
        "print(miAuto.marca)\n",
        "print(miAuto.color)"
      ],
      "execution_count": null,
      "outputs": [
        {
          "output_type": "stream",
          "text": [
            "<class 'int'>\n",
            "Toyota\n",
            "azul\n"
          ],
          "name": "stdout"
        }
      ]
    },
    {
      "cell_type": "code",
      "metadata": {
        "colab": {
          "base_uri": "https://localhost:8080/"
        },
        "id": "NSymA-ObPA1r",
        "outputId": "0bde118a-245f-494b-f824-9105d13f25b3"
      },
      "source": [
        "class Auto:\n",
        "  marca = 'Tesla'\n",
        "\n",
        "  def mostrarMotor():\n",
        "    print('El motor del auto es electrico')\n",
        "\n",
        "miAuto2 = Auto\n",
        "miAuto2.mostrarMotor()"
      ],
      "execution_count": null,
      "outputs": [
        {
          "output_type": "stream",
          "text": [
            "El motor del auto es electrico\n"
          ],
          "name": "stdout"
        }
      ]
    },
    {
      "cell_type": "code",
      "metadata": {
        "colab": {
          "base_uri": "https://localhost:8080/"
        },
        "id": "-LnowFp-PzeJ",
        "outputId": "71236f66-3095-48f8-c620-8bd638d14b37"
      },
      "source": [
        "class DosNumeros:\n",
        "  def __init__(self, num1, num2):\n",
        "    self.v1 = num1\n",
        "    self.v2 = num2\n",
        "\n",
        "\n",
        "numeros = DosNumeros(5,3)\n",
        "print(numeros.v1)\n",
        "print(numeros.v2)"
      ],
      "execution_count": null,
      "outputs": [
        {
          "output_type": "stream",
          "text": [
            "5\n",
            "3\n"
          ],
          "name": "stdout"
        }
      ]
    },
    {
      "cell_type": "code",
      "metadata": {
        "id": "WMsNApBuQGWQ",
        "colab": {
          "base_uri": "https://localhost:8080/"
        },
        "outputId": "47309bf6-fc2e-43bf-a37f-566d0a80e1c2"
      },
      "source": [
        "class Contenedor:\n",
        "  pass\n",
        "\n",
        "x = Contenedor()\n",
        "\n",
        "x.contador = 0\n",
        "\n",
        "while x.contador < 10:\n",
        "  x.contador += 1\n",
        "  print(x.contador)\n",
        "\n",
        "del x.contador\n",
        "\n",
        "\n"
      ],
      "execution_count": null,
      "outputs": [
        {
          "output_type": "stream",
          "text": [
            "1\n",
            "2\n",
            "3\n",
            "4\n",
            "5\n",
            "6\n",
            "7\n",
            "8\n",
            "9\n",
            "10\n"
          ],
          "name": "stdout"
        }
      ]
    },
    {
      "cell_type": "code",
      "metadata": {
        "colab": {
          "base_uri": "https://localhost:8080/"
        },
        "id": "Vcgbu8yXNQC2",
        "outputId": "af8f808a-9b71-45de-c2c5-8bcfbb50eb1a"
      },
      "source": [
        "class Funcion:\n",
        "  def f(self):\n",
        "    print('hola mundo')\n",
        "\n",
        "x = Funcion()\n",
        "x.f()\n",
        "for i in range(10):\n",
        "  x.f()"
      ],
      "execution_count": null,
      "outputs": [
        {
          "output_type": "stream",
          "text": [
            "hola mundo\n",
            "hola mundo\n",
            "hola mundo\n",
            "hola mundo\n",
            "hola mundo\n",
            "hola mundo\n",
            "hola mundo\n",
            "hola mundo\n",
            "hola mundo\n",
            "hola mundo\n",
            "hola mundo\n"
          ],
          "name": "stdout"
        }
      ]
    },
    {
      "cell_type": "code",
      "metadata": {
        "colab": {
          "base_uri": "https://localhost:8080/"
        },
        "id": "Ns0a4z7bRIUp",
        "outputId": "1330838a-ba2d-4599-8b26-673376d5d77a"
      },
      "source": [
        "class humano:\n",
        "  especie = 'Homo Sapiens'\n",
        "\n",
        "  def __init__(self, nombre):\n",
        "    self.nombre = nombre\n",
        "  \n",
        "humano1 = humano('David')\n",
        "print(\"nombre: \"+ humano1.nombre + \" de la especie \" + humano1.especie)\n",
        "humano2 = humano('Emilio')\n",
        "print(\"nombre: \"+ humano2.nombre + \" de la especie \" + humano2.especie)"
      ],
      "execution_count": null,
      "outputs": [
        {
          "output_type": "stream",
          "text": [
            "nombre: David de la especie Homo Sapiens\n",
            "nombre: Emilio de la especie Homo Sapiens\n"
          ],
          "name": "stdout"
        }
      ]
    },
    {
      "cell_type": "code",
      "metadata": {
        "colab": {
          "base_uri": "https://localhost:8080/"
        },
        "id": "kfJLmXZhUGyo",
        "outputId": "fb5bce63-725f-4abe-c274-7f74931471c3"
      },
      "source": [
        "class Perro:\n",
        "  especie = 'canino'\n",
        "  \n",
        "  def __init__(self, nombre):\n",
        "    self.nombre = nombre\n",
        "    self.trucos = []\n",
        "\n",
        "  def aprenderTrucos(self, truco):\n",
        "    self.trucos.append(truco)\n",
        "\n",
        "perro1 = Perro('Bolt')\n",
        "perro2 = Perro('Shawn')\n",
        "\n",
        "perro1.aprenderTrucos('Caminar en dos patas')\n",
        "perro2.aprenderTrucos('rodar')\n",
        "\n",
        "print(f'Los trucos aprendidos por {perro1.nombre} son:')\n",
        "print(perro1.trucos)\n",
        "print(f'Los trucos aprendidos por {perro2.nombre} son:')\n",
        "print(perro2.trucos)"
      ],
      "execution_count": null,
      "outputs": [
        {
          "output_type": "stream",
          "text": [
            "Los trucos aprendidos por Bolt son:\n",
            "['Caminar en dos patas']\n",
            "Los trucos aprendidos por Shawn son:\n",
            "['rodar']\n"
          ],
          "name": "stdout"
        }
      ]
    },
    {
      "cell_type": "code",
      "metadata": {
        "colab": {
          "base_uri": "https://localhost:8080/"
        },
        "id": "4o6hyaRzWJBg",
        "outputId": "bc22b9cd-5d09-40a0-8def-b493abb02012"
      },
      "source": [
        "class Calculadora:\n",
        "  def __init__(self):\n",
        "    self.resultado = 0\n",
        "  \n",
        "  def sumarDosVeces(self, numero1, numero2):\n",
        "    self.sumar(numero1, numero2)\n",
        "    self.sumar(numero1, numero2)\n",
        "\n",
        "  def sumar(self, numero1, numero2):\n",
        "    self.resultado = self.resultado + numero1 + numero2\n",
        "\n",
        "x = Calculadora()\n",
        "x.sumar(5,4)\n",
        "print(\"El resultado de la suma es: \" + str(x.resultado))\n",
        "\n",
        "x2 = Calculadora()\n",
        "x2.sumarDosVeces(5, 4)\n",
        "print(\"El resultado de la suma es: \" + str(x2.resultado))"
      ],
      "execution_count": null,
      "outputs": [
        {
          "output_type": "stream",
          "text": [
            "El resultado de la suma es: 9\n",
            "El resultado de la suma es: 18\n"
          ],
          "name": "stdout"
        }
      ]
    },
    {
      "cell_type": "code",
      "metadata": {
        "colab": {
          "base_uri": "https://localhost:8080/"
        },
        "id": "cZYl7TKiZhCe",
        "outputId": "91317b24-e056-4449-d1a5-8d28bf38c00a"
      },
      "source": [
        "class Suma:\n",
        "  def __init__(self):\n",
        "    self.resultado = 0\n",
        "\n",
        "  def suma(self, num1,num2):\n",
        "    print(num1+num2)\n",
        "\n",
        "a = Suma()\n",
        "a.suma(1,2)\n",
        "\n",
        "def suma2(num1, num2):\n",
        "  print(num1+num2)\n",
        "\n",
        "suma2(4,5)\n"
      ],
      "execution_count": null,
      "outputs": [
        {
          "output_type": "stream",
          "text": [
            "3\n",
            "9\n"
          ],
          "name": "stdout"
        }
      ]
    },
    {
      "cell_type": "code",
      "metadata": {
        "id": "5QMVGkJwgJdq"
      },
      "source": [],
      "execution_count": null,
      "outputs": []
    },
    {
      "cell_type": "code",
      "metadata": {
        "id": "30DbZmX2bvBr"
      },
      "source": [
        "diccionario= {\n",
        "    'objeto': 'Automovil';\n",
        "    'color': 'rojo';\n",
        "    'puertas': 4\n",
        "}\n",
        "\n"
      ],
      "execution_count": null,
      "outputs": []
    }
  ]
}