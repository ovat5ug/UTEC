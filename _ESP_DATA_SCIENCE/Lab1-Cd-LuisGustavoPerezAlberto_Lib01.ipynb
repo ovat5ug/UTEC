{
 "cells": [
  {
   "cell_type": "markdown",
   "metadata": {},
   "source": [
    "### Universidad Tecnologica de El Salvador\n",
    "\n",
    "| NOMBRE | LUIS GUSTAVO Pérez ALBERTO |\n",
    "| ----------- | ----------- |\n",
    "| CARNÉ | 2548792006 |\n",
    "| ACTIVIDAD | Lab1-Cd |\n",
    "|DOCENTE|ING EDGAR ANTONIO PENATE MELGAR|"
   ]
  },
  {
   "cell_type": "code",
   "execution_count": 1,
   "metadata": {},
   "outputs": [],
   "source": [
    "import pandas as pd\n",
    "# para el analisis dividi el documento original en 3 libros diferentes y focalice la eleccion\n",
    "# de las hojas necesarias"
   ]
  },
  {
   "cell_type": "code",
   "execution_count": 2,
   "metadata": {},
   "outputs": [],
   "source": [
    "# Cargar archivos individualizados en Excel\n",
    "Templeado = pd.read_excel('data/Lab1-Cd-LuisGustavoPerezAlberto_Lib01.xlsx',sheet_name='Tabla_Empleados')\n",
    "Tevaluacion = pd.read_excel('data/Lab1-Cd-LuisGustavoPerezAlberto_Lib02.xlsx',sheet_name='Tabla_Evaluacion')\n",
    "Tsueldo = pd.read_excel('data/Lab1-Cd-LuisGustavoPerezAlberto_Lib03.xlsx',sheet_name='Tabla_Sueldo')"
   ]
  },
  {
   "cell_type": "markdown",
   "metadata": {},
   "source": [
    "`PREGUNTA 01`"
   ]
  },
  {
   "cell_type": "code",
   "execution_count": 3,
   "metadata": {},
   "outputs": [
    {
     "name": "stdout",
     "output_type": "stream",
     "text": [
      "Monto Total 15393012.8\n"
     ]
    }
   ],
   "source": [
    "# Calcular el monto total necesario para el compromiso patronal\n",
    "MT_necesario = Tsueldo['Nuevo Sueldo'].sum()\n",
    "print(\"Monto Total\",MT_necesario) "
   ]
  },
  {
   "cell_type": "markdown",
   "metadata": {},
   "source": [
    "`PREGUNTA 02`"
   ]
  },
  {
   "cell_type": "code",
   "execution_count": 4,
   "metadata": {},
   "outputs": [
    {
     "name": "stdout",
     "output_type": "stream",
     "text": [
      "% del Incremeto 6.188170690392243\n"
     ]
    }
   ],
   "source": [
    "# Calcular porcentaje de incremento con respecto al año actual\n",
    "sueldo_actual_total = Tsueldo['Sueldo'].sum()\n",
    "porcentaje_incremento = ((MT_necesario - sueldo_actual_total) / sueldo_actual_total) * 100\n",
    "print(\"% del Incremeto\",porcentaje_incremento)"
   ]
  },
  {
   "cell_type": "markdown",
   "metadata": {},
   "source": [
    "`PREGUNTA 03`"
   ]
  },
  {
   "cell_type": "code",
   "execution_count": 5,
   "metadata": {},
   "outputs": [
    {
     "name": "stdout",
     "output_type": "stream",
     "text": [
      "Mujeres 71\n",
      "Hombres 51\n"
     ]
    }
   ],
   "source": [
    "# Contar mujeres y hombres con incremento\n",
    "M_incremento = len(Tsueldo[(Templeado['Género'] == 'Female') & (Tsueldo['Incremento'] > 0)])\n",
    "H_incremento = len(Tsueldo[(Templeado['Género'] == 'Male') & (Tsueldo['Incremento'] > 0)])\n",
    "print(\"Mujeres\",M_incremento)\n",
    "print(\"Hombres\",H_incremento)"
   ]
  },
  {
   "cell_type": "markdown",
   "metadata": {},
   "source": [
    "`PREGUNTA 04`"
   ]
  },
  {
   "cell_type": "code",
   "execution_count": 6,
   "metadata": {},
   "outputs": [
    {
     "name": "stdout",
     "output_type": "stream",
     "text": [
      "colaboradores X depto 9\n"
     ]
    }
   ],
   "source": [
    "# Contar colaboradores con incremento por departamento\n",
    "# \"sales\" se elige en este caso como la busqueda de filtro para realizar analisis de focus\n",
    "cant01 = len(Tsueldo[(Templeado['Departamento'] == 'Sales') & (Tsueldo['Incremento'] > 0)])\n",
    "print(\"colaboradores X depto\",cant01)"
   ]
  },
  {
   "cell_type": "markdown",
   "metadata": {},
   "source": [
    "`PREGUNTA 05`"
   ]
  },
  {
   "cell_type": "code",
   "execution_count": 7,
   "metadata": {},
   "outputs": [
    {
     "name": "stdout",
     "output_type": "stream",
     "text": [
      "colaboradores X Trab 14\n"
     ]
    }
   ],
   "source": [
    "# Contar colaboradores con incremento por puesto de trabajo\n",
    "cant01 = len(Tsueldo[(Templeado['Posición'] == 'Manager') & (Tsueldo['Incremento'] > 0)])\n",
    "print(\"colaboradores X Trab\",cant01)"
   ]
  }
 ],
 "metadata": {
  "kernelspec": {
   "display_name": "Python 3",
   "language": "python",
   "name": "python3"
  },
  "language_info": {
   "codemirror_mode": {
    "name": "ipython",
    "version": 3
   },
   "file_extension": ".py",
   "mimetype": "text/x-python",
   "name": "python",
   "nbconvert_exporter": "python",
   "pygments_lexer": "ipython3",
   "version": "3.11.3"
  },
  "orig_nbformat": 4
 },
 "nbformat": 4,
 "nbformat_minor": 2
}
