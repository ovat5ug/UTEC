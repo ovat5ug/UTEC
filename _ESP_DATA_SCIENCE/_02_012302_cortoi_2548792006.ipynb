{
  "cells": [
    {
      "cell_type": "markdown",
      "metadata": {
        "colab_type": "text",
        "id": "view-in-github"
      },
      "source": [
        "<a href=\"https://colab.research.google.com/github/ovat5ug/UTEC/blob/main/012302_cortoi_2548792006.ipynb\" target=\"_parent\"><img src=\"https://colab.research.google.com/assets/colab-badge.svg\" alt=\"Open In Colab\"/></a>"
      ]
    },
    {
      "cell_type": "markdown",
      "metadata": {
        "id": "TTe9ZXW6cuAJ"
      },
      "source": [
        "Corto Uno\n",
        "Introducción a python. "
      ]
    },
    {
      "cell_type": "markdown",
      "metadata": {
        "id": "18UuuHyHOR9B"
      },
      "source": [
        "#Manipulación de estructuras de datos\n",
        "**Variables** (Imprimir 3 tipos de variables y sus valores)"
      ]
    },
    {
      "cell_type": "markdown",
      "metadata": {
        "id": "qBooQ7BGVnPU"
      },
      "source": [
        "**Constantes** (asignar valores y utilizarlo en un operación)"
      ]
    },
    {
      "cell_type": "markdown",
      "metadata": {
        "id": "tLZnMBteVpZp"
      },
      "source": [
        "**Listas** (crear una estructura de lista de 5 elementos heterogeneos entre si y realizar las operaciones de: agregar un elemento al final, agregar un elemento en una posicion especifica, obtener un elemento y sustituir un elemento-cada accion mostrarla en pantalla)"
      ]
    },
    {
      "cell_type": "code",
      "execution_count": null,
      "metadata": {
        "id": "aoTo6vLyj6Ut"
      },
      "outputs": [],
      "source": [
        "a=1\n",
        "b=[4,'e','r',4,'10']\n",
        "c=\"2\"\n",
        "\n",
        "r=(a+b[0]+int(c))\n",
        "\n",
        "print(a,\" es de tipo \",type(a))\n",
        "print(b,\" es de tipo \",type(b))\n",
        "print(c,\" es de tipo \",type(c))\n",
        "print(r)\n",
        "\n",
        "b.append(300)\n",
        "print(b)"
      ]
    },
    {
      "cell_type": "markdown",
      "metadata": {
        "id": "xqOrN307Oc5g"
      },
      "source": [
        "#Uso de metodos\n",
        "**Metodos de cadena** (Crear una lista de cadenas y utilizar 3 metodos de cadena sobre ella y sus elementos)"
      ]
    },
    {
      "cell_type": "code",
      "execution_count": null,
      "metadata": {
        "id": "xo4sWBIJopCO"
      },
      "outputs": [],
      "source": [
        "d=['pablo', 'e', 'mundo', 'UTEC', '10', 'HOLA']\n",
        "\n",
        "#cadena = \"Hola Mundo\" \n",
        "#cadena.upper()\n",
        "e=d[0]\n",
        "e.upper()\n",
        "f=d[1]\n",
        "f.isalpha()\n",
        "g=d[4]\n",
        "g.isdigit()\n",
        "\n",
        "e.upper(), f.isalpha(), g.isdigit()"
      ]
    },
    {
      "cell_type": "markdown",
      "metadata": {
        "id": "fAKqrwx9Ohef"
      },
      "source": [
        "**Metodos numericos** (Crear una lista de 5 elementos heterogeneos entre si utilizar 3 metodos que retorne un valor numerico sobre la operacion de la lista y sus elementos)\n",
        "\n",
        "\n"
      ]
    },
    {
      "cell_type": "code",
      "execution_count": null,
      "metadata": {
        "id": "ZS64v3PlsPt3"
      },
      "outputs": [],
      "source": [
        "from math import sqrt \n",
        "\n",
        "valor = [4, 2, 98, 8, 9, 15] # lista de ejemplo\n",
        "\n",
        "n = len(valor) \n",
        "prom = sum(valor) / float(n) \n",
        "diferencias = [xi - prom for xi in valor] \n",
        "potencias = [x ** 2 for x in diferencias] \n",
        "resultado = sum(potencias) \n",
        "\n",
        "print(resultado)\n"
      ]
    },
    {
      "cell_type": "markdown",
      "metadata": {
        "id": "0mNykgjDQDyA"
      },
      "source": [
        "# Uso de estructuras de control\n",
        "**Crear una rutina que imprima los primeros 7 numeros pares**"
      ]
    },
    {
      "cell_type": "code",
      "execution_count": null,
      "metadata": {
        "id": "alGKxx-Ty8cB"
      },
      "outputs": [],
      "source": [
        "numero=1\n",
        "while numero<16:\n",
        "  if numero%2==0:\n",
        "    print(numero)\n",
        "  numero+=1"
      ]
    },
    {
      "cell_type": "markdown",
      "metadata": {
        "id": "7WeOSZVjV1MQ"
      },
      "source": [
        "# Uso de funciones\n",
        "**Crear una calculadora con las operaciones basicas**"
      ]
    },
    {
      "cell_type": "code",
      "source": [
        "def introNum ():\n",
        "  global num1, num2\n",
        "  num1 = float(input(\"Favor introducir primer digito numerico: \") )\n",
        "  num2 = float(input(\"Favor introducir primer digito numerico: \") )\n",
        "  sumar(num1,num2)\n",
        "  restar(num1,num2)\n",
        "  producto(num1,num2)\n",
        "  dividir(num1,num2)\n",
        "def sumar(x,y):\n",
        "  print (\"la suma de\",x,\"+\",y,\"=\",x+y)\n",
        "def restar(x,y):\n",
        "  print (\"la resta de\",x,\"+\",y,\"=\",x-y)\n",
        "def producto(x,y):\n",
        "  print (\"el producto de\",x,\"+\",y,\"=\",x*y)\n",
        "def dividir(x,y):\n",
        "  if(y==0):\n",
        "    print (\"la division no puede efectuarse si el cociente es cero\")\n",
        "  else:\n",
        "    print (\"la division de\",x,\"+\",y,\"=\",x/y)\n",
        "introNum()"
      ],
      "metadata": {
        "id": "QF8v6zC8vWA1"
      },
      "execution_count": null,
      "outputs": []
    },
    {
      "cell_type": "markdown",
      "metadata": {
        "id": "hWExtw_WV8Ac"
      },
      "source": [
        "# Uso de clases y objetos\n",
        "**Crear un objeto calculadora con las operaciones basicas y pueda ser consumida a partir de un objeto**"
      ]
    },
    {
      "cell_type": "code",
      "execution_count": null,
      "metadata": {
        "id": "2DBE80S9wThQ"
      },
      "outputs": [],
      "source": [
        "n1 = float(input(\"Favor introducir primer digito numerico: \") )\n",
        "n2 = float(input(\"Favor introducir primer digito numerico: \") )\n",
        "\n",
        "opcion = 0\n",
        "while True:\n",
        "    print('¿Que operacion desea realizar')\n",
        "    print('1) Suma')\n",
        "    print('2) Resta')\n",
        "    print('3) Producto')\n",
        "    print('4) otra operacion')\n",
        "    print('5) Fimalizar Calc')\n",
        "    opcion = int(input(\"Elige una opción: \") ) \n",
        "    if opcion == 1:\n",
        "        print(\" \")\n",
        "        print(\"RESULTADO: La suma de\",n1,\"+\",n2,\"es igual a\",n1+n2)\n",
        "    elif opcion == 2:\n",
        "        print(\" \")\n",
        "        print(\"RESULTADO: La resta de\",n1,\"-\",n2,\"es igual a\",n1-n2)\n",
        "    elif opcion == 3:\n",
        "        print(\" \")\n",
        "        print(\"RESULTADO: El producto de\",n1,\"*\",n2,\"es igual a\",n1*n2)\n",
        "    elif opcion == 4:\n",
        "        n1 = float(input(\"Introduce tu primer número: \") )\n",
        "        n2 = float(input(\"Introduce tu segundo número: \") )\n",
        "    elif opcion == 5:\n",
        "        break\n",
        "    else:\n",
        "        print(\"Opción incorrecta\")"
      ]
    }
  ],
  "metadata": {
    "colab": {
      "include_colab_link": true,
      "private_outputs": true,
      "provenance": []
    },
    "kernelspec": {
      "display_name": "Python 3",
      "name": "python3"
    },
    "language_info": {
      "name": "python",
      "version": "3.11.3"
    }
  },
  "nbformat": 4,
  "nbformat_minor": 0
}
