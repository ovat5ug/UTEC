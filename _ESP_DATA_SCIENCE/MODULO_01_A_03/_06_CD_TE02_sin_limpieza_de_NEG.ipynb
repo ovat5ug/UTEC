{
 "cells": [
  {
   "attachments": {},
   "cell_type": "markdown",
   "metadata": {},
   "source": [
    "# Procesamiento de datos utilizando python\n",
    "\n",
    "##### `Procesamiento numérico`  \n"
   ]
  },
  {
   "attachments": {},
   "cell_type": "markdown",
   "metadata": {},
   "source": [
    ">`> Extracción de datos`"
   ]
  },
  {
   "cell_type": "code",
   "execution_count": 1,
   "metadata": {},
   "outputs": [],
   "source": [
    "# Importando Librerias\n",
    "import pandas as pd                 #Pandas\n",
    "import matplotlib.pyplot as plt     #Matplot\n",
    "import numpy as np                  #Numpy\n",
    "import seaborn as sns               #seaborn\n",
    "colors = ['blue', 'green', 'red', 'cyan', 'magenta', 'yellow','black','white']"
   ]
  },
  {
   "cell_type": "code",
   "execution_count": 2,
   "metadata": {},
   "outputs": [],
   "source": [
    "pd.set_option(\"display.max_rows\",6)\n",
    "pd.set_option(\"display.max_columns\",13)"
   ]
  },
  {
   "attachments": {},
   "cell_type": "markdown",
   "metadata": {},
   "source": [
    "`vistaexaminados y vistaasistencias`"
   ]
  },
  {
   "cell_type": "code",
   "execution_count": 3,
   "metadata": {},
   "outputs": [],
   "source": [
    "json=\"https://tecnologica.utec.edu.sv/fica/services/vistaexaminados.php\"\n",
    "dfExam = pd.read_json(json)\n",
    "dfAsis = pd.read_json('https://tecnologica.utec.edu.sv/fica/services/vistaasistencias.php')"
   ]
  },
  {
   "cell_type": "code",
   "execution_count": 20,
   "metadata": {},
   "outputs": [
    {
     "data": {
      "text/html": [
       "<div>\n",
       "<style scoped>\n",
       "    .dataframe tbody tr th:only-of-type {\n",
       "        vertical-align: middle;\n",
       "    }\n",
       "\n",
       "    .dataframe tbody tr th {\n",
       "        vertical-align: top;\n",
       "    }\n",
       "\n",
       "    .dataframe thead th {\n",
       "        text-align: right;\n",
       "    }\n",
       "</style>\n",
       "<table border=\"1\" class=\"dataframe\">\n",
       "  <thead>\n",
       "    <tr style=\"text-align: right;\">\n",
       "      <th></th>\n",
       "      <th>fecha</th>\n",
       "      <th>codigo</th>\n",
       "      <th>facultad</th>\n",
       "      <th>area</th>\n",
       "      <th>materia</th>\n",
       "      <th>seccion</th>\n",
       "      <th>horario</th>\n",
       "      <th>dias</th>\n",
       "      <th>Inscritos</th>\n",
       "      <th>Asistencia</th>\n",
       "      <th>Modalidad</th>\n",
       "    </tr>\n",
       "  </thead>\n",
       "  <tbody>\n",
       "    <tr>\n",
       "      <th>0</th>\n",
       "      <td>2023-01-19</td>\n",
       "      <td>DPCM1-D</td>\n",
       "      <td>Facultad de Derecho</td>\n",
       "      <td>DERECHO</td>\n",
       "      <td>DERECHO PROCESAL CIVIL Y MERCANTIL I</td>\n",
       "      <td>1</td>\n",
       "      <td>06:30-08:00</td>\n",
       "      <td>Ma-Jue</td>\n",
       "      <td>75</td>\n",
       "      <td>70</td>\n",
       "      <td>EN LINEA</td>\n",
       "    </tr>\n",
       "    <tr>\n",
       "      <th>1</th>\n",
       "      <td>2023-01-19</td>\n",
       "      <td>ALG1-E</td>\n",
       "      <td>Facultad de Informática y Ciencias Aplicadas</td>\n",
       "      <td>INFORMATICA</td>\n",
       "      <td>ALGORITMOS I</td>\n",
       "      <td>6</td>\n",
       "      <td>06:30-08:00</td>\n",
       "      <td>Ma-Jue</td>\n",
       "      <td>44</td>\n",
       "      <td>26</td>\n",
       "      <td>PRESENCIAL</td>\n",
       "    </tr>\n",
       "    <tr>\n",
       "      <th>2</th>\n",
       "      <td>2023-01-19</td>\n",
       "      <td>DIBA-I</td>\n",
       "      <td>Facultad de Informática y Ciencias Aplicadas</td>\n",
       "      <td>CIENCIAS APLICADAS AREA INDUSTRIAL Y MATEMATICAS</td>\n",
       "      <td>DIBUJO APLICADO</td>\n",
       "      <td>2</td>\n",
       "      <td>06:30-08:00</td>\n",
       "      <td>Ma-Jue</td>\n",
       "      <td>26</td>\n",
       "      <td>17</td>\n",
       "      <td>EN LINEA</td>\n",
       "    </tr>\n",
       "    <tr>\n",
       "      <th>...</th>\n",
       "      <td>...</td>\n",
       "      <td>...</td>\n",
       "      <td>...</td>\n",
       "      <td>...</td>\n",
       "      <td>...</td>\n",
       "      <td>...</td>\n",
       "      <td>...</td>\n",
       "      <td>...</td>\n",
       "      <td>...</td>\n",
       "      <td>...</td>\n",
       "      <td>...</td>\n",
       "    </tr>\n",
       "    <tr>\n",
       "      <th>9377</th>\n",
       "      <td>2023-03-07</td>\n",
       "      <td>ING1-H</td>\n",
       "      <td>Facultad de Ciencias Sociales</td>\n",
       "      <td>IDIOMAS</td>\n",
       "      <td>INGLÉS I</td>\n",
       "      <td>5</td>\n",
       "      <td>08:00-09:30</td>\n",
       "      <td>Ma-Jue</td>\n",
       "      <td>81</td>\n",
       "      <td>-1</td>\n",
       "      <td>PRESENCIAL</td>\n",
       "    </tr>\n",
       "    <tr>\n",
       "      <th>9378</th>\n",
       "      <td>2023-03-07</td>\n",
       "      <td>REA1-A</td>\n",
       "      <td>Facultad de Ciencias Sociales</td>\n",
       "      <td>ANTROPOLOGIA</td>\n",
       "      <td>REALIDAD NACIONAL</td>\n",
       "      <td>20</td>\n",
       "      <td>08:00-09:30</td>\n",
       "      <td>Ma-Jue</td>\n",
       "      <td>88</td>\n",
       "      <td>-1</td>\n",
       "      <td>PRESENCIAL</td>\n",
       "    </tr>\n",
       "    <tr>\n",
       "      <th>9379</th>\n",
       "      <td>2023-04-11</td>\n",
       "      <td>ALG1-E</td>\n",
       "      <td>Facultad de Informática y Ciencias Aplicadas</td>\n",
       "      <td>INFORMATICA</td>\n",
       "      <td>ALGORITMOS I</td>\n",
       "      <td>1</td>\n",
       "      <td>06:30-08:00</td>\n",
       "      <td>Ma-Jue</td>\n",
       "      <td>88</td>\n",
       "      <td>80</td>\n",
       "      <td>PRESENCIAL</td>\n",
       "    </tr>\n",
       "  </tbody>\n",
       "</table>\n",
       "<p>9380 rows × 11 columns</p>\n",
       "</div>"
      ],
      "text/plain": [
       "           fecha     codigo                                      facultad   \n",
       "0     2023-01-19    DPCM1-D                           Facultad de Derecho  \\\n",
       "1     2023-01-19  ALG1-E     Facultad de Informática y Ciencias Aplicadas   \n",
       "2     2023-01-19  DIBA-I     Facultad de Informática y Ciencias Aplicadas   \n",
       "...          ...        ...                                           ...   \n",
       "9377  2023-03-07  ING1-H                    Facultad de Ciencias Sociales   \n",
       "9378  2023-03-07  REA1-A                    Facultad de Ciencias Sociales   \n",
       "9379  2023-04-11  ALG1-E     Facultad de Informática y Ciencias Aplicadas   \n",
       "\n",
       "                                                  area   \n",
       "0                                              DERECHO  \\\n",
       "1                                          INFORMATICA   \n",
       "2     CIENCIAS APLICADAS AREA INDUSTRIAL Y MATEMATICAS   \n",
       "...                                                ...   \n",
       "9377                                           IDIOMAS   \n",
       "9378                                      ANTROPOLOGIA   \n",
       "9379                                       INFORMATICA   \n",
       "\n",
       "                                   materia  seccion      horario    dias   \n",
       "0     DERECHO PROCESAL CIVIL Y MERCANTIL I        1  06:30-08:00  Ma-Jue  \\\n",
       "1                             ALGORITMOS I        6  06:30-08:00  Ma-Jue   \n",
       "2                          DIBUJO APLICADO        2  06:30-08:00  Ma-Jue   \n",
       "...                                    ...      ...          ...     ...   \n",
       "9377                              INGLÉS I        5  08:00-09:30  Ma-Jue   \n",
       "9378                     REALIDAD NACIONAL       20  08:00-09:30  Ma-Jue   \n",
       "9379                          ALGORITMOS I        1  06:30-08:00  Ma-Jue   \n",
       "\n",
       "      Inscritos  Asistencia   Modalidad  \n",
       "0            75          70    EN LINEA  \n",
       "1            44          26  PRESENCIAL  \n",
       "2            26          17    EN LINEA  \n",
       "...         ...         ...         ...  \n",
       "9377         81          -1  PRESENCIAL  \n",
       "9378         88          -1  PRESENCIAL  \n",
       "9379         88          80  PRESENCIAL  \n",
       "\n",
       "[9380 rows x 11 columns]"
      ]
     },
     "execution_count": 20,
     "metadata": {},
     "output_type": "execute_result"
    }
   ],
   "source": [
    "\n",
    "dfAsis#dfAsis.head()#dataframes de \"vistaasistencias\""
   ]
  },
  {
   "attachments": {},
   "cell_type": "markdown",
   "metadata": {},
   "source": [
    ">`> Limpieza de datos`"
   ]
  },
  {
   "attachments": {},
   "cell_type": "markdown",
   "metadata": {},
   "source": [
    "`vistaasistencias`"
   ]
  },
  {
   "cell_type": "code",
   "execution_count": 21,
   "metadata": {},
   "outputs": [
    {
     "name": "stdout",
     "output_type": "stream",
     "text": [
      "<class 'pandas.core.frame.DataFrame'>\n",
      "RangeIndex: 9380 entries, 0 to 9379\n",
      "Data columns (total 11 columns):\n",
      " #   Column      Non-Null Count  Dtype \n",
      "---  ------      --------------  ----- \n",
      " 0   fecha       9380 non-null   object\n",
      " 1   codigo      9380 non-null   object\n",
      " 2   facultad    9380 non-null   object\n",
      " 3   area        9380 non-null   object\n",
      " 4   materia     9380 non-null   object\n",
      " 5   seccion     9380 non-null   int64 \n",
      " 6   horario     9380 non-null   object\n",
      " 7   dias        9380 non-null   object\n",
      " 8   Inscritos   9380 non-null   int64 \n",
      " 9   Asistencia  9380 non-null   int64 \n",
      " 10  Modalidad   9380 non-null   object\n",
      "dtypes: int64(3), object(8)\n",
      "memory usage: 806.2+ KB\n"
     ]
    }
   ],
   "source": [
    "dfAsis.info()#sin valores nulos cantidad de registros son 9380 @ columna"
   ]
  },
  {
   "attachments": {},
   "cell_type": "markdown",
   "metadata": {},
   "source": [
    ">`> Transformación de datos`"
   ]
  },
  {
   "cell_type": "code",
   "execution_count": 6,
   "metadata": {},
   "outputs": [],
   "source": [
    "# transExam=dfExam.area\n",
    "# list(transExam.drop_duplicates())\n",
    "#evaluacion, tipo,examinados, asistencia"
   ]
  },
  {
   "attachments": {},
   "cell_type": "markdown",
   "metadata": {},
   "source": [
    "`vistaasistencias`"
   ]
  },
  {
   "cell_type": "code",
   "execution_count": 7,
   "metadata": {},
   "outputs": [
    {
     "data": {
      "text/plain": [
       "Index(['fecha', 'codigo', 'facultad', 'area', 'materia', 'seccion', 'horario',\n",
       "       'dias', 'Inscritos', 'Asistencia', 'Modalidad'],\n",
       "      dtype='object')"
      ]
     },
     "execution_count": 7,
     "metadata": {},
     "output_type": "execute_result"
    }
   ],
   "source": [
    "transAsis=dfAsis.columns\n",
    "transAsis#mostrando columnas actuales"
   ]
  },
  {
   "cell_type": "code",
   "execution_count": 8,
   "metadata": {},
   "outputs": [
    {
     "name": "stdout",
     "output_type": "stream",
     "text": [
      "Index(['fecha', 'codigo', 'facultad', 'area', 'materia', 'seccion', 'horario',\n",
      "       'dias', 'inscritos', 'asistencia', 'modalidad'],\n",
      "      dtype='object')\n"
     ]
    }
   ],
   "source": [
    "# utilizando el método rename para cambiar el nombre de las columnas\n",
    "dfAsis.rename(columns={\"Inscritos\": \"inscritos\",\"Asistencia\": \"asistencia\",\"Modalidad\": \"modalidad\"}, inplace=True)\n",
    "# imprime los nombres de las columnas actualizadas\n",
    "print(dfAsis.columns)"
   ]
  },
  {
   "cell_type": "code",
   "execution_count": 9,
   "metadata": {},
   "outputs": [
    {
     "data": {
      "text/plain": [
       "['Facultad de Derecho',\n",
       " 'Facultad de Informática y Ciencias Aplicadas',\n",
       " 'Facultad de Ciencias Empresariales',\n",
       " 'Facultad de Ciencias Sociales']"
      ]
     },
     "execution_count": 9,
     "metadata": {},
     "output_type": "execute_result"
    }
   ],
   "source": [
    "transAsis=dfAsis.facultad\n",
    "list(transAsis.drop_duplicates())#virificando registros unicos"
   ]
  },
  {
   "cell_type": "code",
   "execution_count": 10,
   "metadata": {},
   "outputs": [
    {
     "name": "stdout",
     "output_type": "stream",
     "text": [
      "0        Fac_Der\n",
      "1       Fac_InCa\n",
      "2       Fac_InCa\n",
      "          ...   \n",
      "9377    Fac_CiSo\n",
      "9378    Fac_CiSo\n",
      "9379    Fac_InCa\n",
      "Name: facultad, Length: 9380, dtype: object\n"
     ]
    }
   ],
   "source": [
    "# creando un diccionario para mapear los nombres antiguos y cambiarlos a los nuevos\n",
    "mapeo_Fac = {\"Facultad de Derecho\": \"Fac_Der\", \n",
    "            \"Facultad de Informática y Ciencias Aplicadas\": \"Fac_InCa\",\n",
    "            \"Facultad de Ciencias Empresariales\": \"Fac_CiEmp\",\n",
    "            \"Facultad de Ciencias Sociales\": \"Fac_CiSo\"\n",
    "            }\n",
    "# utilizando el método replace para cambiar los nombres de los registros\n",
    "dfAsis[\"facultad\"] = dfAsis[\"facultad\"].replace(mapeo_Fac)\n",
    "\n",
    "# mostrar la columna actualizada\n",
    "print(dfAsis[\"facultad\"])"
   ]
  },
  {
   "cell_type": "code",
   "execution_count": 11,
   "metadata": {},
   "outputs": [],
   "source": [
    "# dfExam['facultad']# comprobando datos en las columnas\n",
    "# dfAsis['facultad']# comprobando datos en las columnas"
   ]
  },
  {
   "attachments": {},
   "cell_type": "markdown",
   "metadata": {},
   "source": [
    ">`> Estadísticas generadas`"
   ]
  },
  {
   "attachments": {},
   "cell_type": "markdown",
   "metadata": {},
   "source": [
    "`vistaasistencias`"
   ]
  },
  {
   "attachments": {},
   "cell_type": "markdown",
   "metadata": {},
   "source": [
    "#### 1- ¿Comportamiento de la asistencia de los estudiantes en las facultades?\n",
    "#### 2- ¿Cuál es la relación entre la asistencia y el número de estudiantes inscritos en cada materia?"
   ]
  },
  {
   "attachments": {},
   "cell_type": "markdown",
   "metadata": {},
   "source": [
    ">`> Presentación de resultados` "
   ]
  },
  {
   "attachments": {},
   "cell_type": "markdown",
   "metadata": {},
   "source": [
    "`vistaasistencias`"
   ]
  },
  {
   "cell_type": "code",
   "execution_count": 12,
   "metadata": {},
   "outputs": [
    {
     "data": {
      "image/png": "[encoded data removed]",
      "text/plain": [
       "<Figure size 640x480 with 1 Axes>"
      ]
     },
     "metadata": {},
     "output_type": "display_data"
    }
   ],
   "source": [
    "# Gráfico de pastel de la asistencia agrupados por facultad\n",
    "asistencia_promedio_facultad = dfAsis.groupby('facultad')['asistencia'].mean()\n",
    "\n",
    "plt.pie(asistencia_promedio_facultad, labels=asistencia_promedio_facultad.index, autopct='%1.1f%%')\n",
    "plt.title('Porcentaje de Asistencia Promedio por Facultad')\n",
    "plt.axis('equal')\n",
    "plt.show()"
   ]
  },
  {
   "cell_type": "code",
   "execution_count": 13,
   "metadata": {},
   "outputs": [
    {
     "data": {
      "image/png": "[encoded data removed]",
      "text/plain": [
       "<Figure size 640x480 with 2 Axes>"
      ]
     },
     "metadata": {},
     "output_type": "display_data"
    }
   ],
   "source": [
    "# Gráfico de dispersión de asistencia vs. estudiantes inscritos\n",
    "plt.scatter(dfAsis['asistencia'], dfAsis['inscritos'],color=colors[4],marker=\"*\")\n",
    "plt.xlabel('Estudiantes Inscritos')\n",
    "plt.ylabel('Asistencia')\n",
    "plt.title('Relación entre asistencia y número de estudiantes inscritos')\n",
    "plt.colorbar(label='Facultad')\n",
    "plt.show()"
   ]
  },
  {
   "cell_type": "code",
   "execution_count": null,
   "metadata": {},
   "outputs": [],
   "source": []
  },
  {
   "cell_type": "code",
   "execution_count": null,
   "metadata": {},
   "outputs": [],
   "source": []
  },
  {
   "cell_type": "code",
   "execution_count": null,
   "metadata": {},
   "outputs": [],
   "source": []
  },
  {
   "cell_type": "code",
   "execution_count": null,
   "metadata": {},
   "outputs": [],
   "source": []
  },
  {
   "cell_type": "code",
   "execution_count": null,
   "metadata": {},
   "outputs": [],
   "source": []
  },
  {
   "cell_type": "code",
   "execution_count": null,
   "metadata": {},
   "outputs": [],
   "source": []
  },
  {
   "attachments": {},
   "cell_type": "markdown",
   "metadata": {},
   "source": [
    "> ### `EXPORTACIÓN DE DATOS`"
   ]
  },
  {
   "cell_type": "code",
   "execution_count": 5,
   "metadata": {},
   "outputs": [],
   "source": [
    "#dfExam.to_csv('exam_sinIndices.csv',sep=\";\",index=False,encoding=\"utf-8\")#crea un archivo CSV EXPORTANDO el trabajo de limpieza de la BD\n",
    "dfAsis.to_csv('Asis_sinIndices.csv',sep=\";\",index=False,encoding=\"utf-8\")#crea un archivo CSV EXPORTANDO el trabajo de limpieza de la BD\n",
    "dfExam.to_csv('Exam_sinIndices.csv',sep=\";\",index=False,encoding=\"utf-8\")#crea un archivo CSV EXPORTANDO el trabajo de limpieza de la BD"
   ]
  }
 ],
 "metadata": {
  "kernelspec": {
   "display_name": "Python 3",
   "language": "python",
   "name": "python3"
  },
  "language_info": {
   "codemirror_mode": {
    "name": "ipython",
    "version": 3
   },
   "file_extension": ".py",
   "mimetype": "text/x-python",
   "name": "python",
   "nbconvert_exporter": "python",
   "pygments_lexer": "ipython3",
   "version": "3.11.3"
  },
  "orig_nbformat": 4
 },
 "nbformat": 4,
 "nbformat_minor": 2
}
