{
  "nbformat": 4,
  "nbformat_minor": 0,
  "metadata": {
    "colab": {
      "private_outputs": true,
      "provenance": [],
      "include_colab_link": true
    },
    "kernelspec": {
      "name": "python3",
      "display_name": "Python 3"
    },
    "language_info": {
      "name": "python"
    }
  },
  "cells": [
    {
      "cell_type": "markdown",
      "metadata": {
        "id": "view-in-github",
        "colab_type": "text"
      },
      "source": [
        "<a href=\"https://colab.research.google.com/github/ovat5ug/UTEC/blob/main/012302_cortoi_2548792006.ipynb\" target=\"_parent\"><img src=\"https://colab.research.google.com/assets/colab-badge.svg\" alt=\"Open In Colab\"/></a>"
      ]
    },
    {
      "cell_type": "markdown",
      "source": [
        "Corto Uno\n",
        "Introducción a python. "
      ],
      "metadata": {
        "id": "TTe9ZXW6cuAJ"
      }
    },
    {
      "cell_type": "markdown",
      "source": [
        "#Manipulación de estructuras de datos\n",
        "**Variables** (Imprimir 3 tipos de variables y sus valores)"
      ],
      "metadata": {
        "id": "18UuuHyHOR9B"
      }
    },
    {
      "cell_type": "markdown",
      "source": [
        "**Constantes** (asignar valores y utilizarlo en un operación)"
      ],
      "metadata": {
        "id": "qBooQ7BGVnPU"
      }
    },
    {
      "cell_type": "markdown",
      "source": [
        "**Listas** (crear una estructura de lista de 5 elementos heterogeneos entre si y realizar las operaciones de: agregar un elemento al final, agregar un elemento en una posicion especifica, obtener un elemento y sustituir un elemento-cada accion mostrarla en pantalla)"
      ],
      "metadata": {
        "id": "tLZnMBteVpZp"
      }
    },
    {
      "cell_type": "code",
      "source": [
        "a=1\n",
        "b=[4,'e','r',4,'10']\n",
        "c=\"2\"\n",
        "\n",
        "r=(a+b[0]+int(c))\n",
        "\n",
        "print(a,\" es de tipo \",type(a))\n",
        "print(b,\" es de tipo \",type(b))\n",
        "print(c,\" es de tipo \",type(c))\n",
        "print(r)\n",
        "\n",
        "b.append(300)\n",
        "print(b)"
      ],
      "metadata": {
        "id": "aoTo6vLyj6Ut"
      },
      "execution_count": null,
      "outputs": []
    },
    {
      "cell_type": "markdown",
      "source": [
        "#Uso de metodos\n",
        "**Metodos de cadena** (Crear una lista de cadenas y utilizar 3 metodos de cadena sobre ella y sus elementos)"
      ],
      "metadata": {
        "id": "xqOrN307Oc5g"
      }
    },
    {
      "cell_type": "code",
      "source": [
        "d=['pablo', 'e', 'mundo', 'UTEC', '10', 'HOLA']\n",
        "\n",
        "#cadena = \"Hola Mundo\" \n",
        "#cadena.upper()\n",
        "e=d[0]\n",
        "e.upper()\n",
        "f=d[1]\n",
        "f.isalpha()\n",
        "g=d[4]\n",
        "g.isdigit()\n",
        "\n",
        "e.upper(), f.isalpha(), g.isdigit()"
      ],
      "metadata": {
        "id": "xo4sWBIJopCO"
      },
      "execution_count": null,
      "outputs": []
    },
    {
      "cell_type": "markdown",
      "source": [
        "**Metodos numericos** (Crear una lista de 5 elementos heterogeneos entre si utilizar 3 metodos que retorne un valor numerico sobre la operacion de la lista y sus elementos)\n",
        "\n",
        "\n"
      ],
      "metadata": {
        "id": "fAKqrwx9Ohef"
      }
    },
    {
      "cell_type": "code",
      "source": [
        "from math import sqrt \n",
        "\n",
        "valor = [4, 2, 98, 8, 9, 15] # lista de ejemplo\n",
        "\n",
        "n = len(valor) \n",
        "prom = sum(valor) / float(n) \n",
        "diferencias = [xi - prom for xi in valor] \n",
        "potencias = [x ** 2 for x in diferencias] \n",
        "resultado = sum(potencias) \n",
        "\n",
        "print(resultado)\n"
      ],
      "metadata": {
        "id": "ZS64v3PlsPt3"
      },
      "execution_count": null,
      "outputs": []
    },
    {
      "cell_type": "markdown",
      "source": [
        "# Uso de estructuras de control\n",
        "**Crear una rutina que imprima los primeros 7 numeros pares**"
      ],
      "metadata": {
        "id": "0mNykgjDQDyA"
      }
    },
    {
      "cell_type": "code",
      "source": [
        "numero=1\n",
        "while numero<16:\n",
        "  if numero%2==0:\n",
        "    print(numero)\n",
        "  numero+=1"
      ],
      "metadata": {
        "id": "alGKxx-Ty8cB"
      },
      "execution_count": null,
      "outputs": []
    },
    {
      "cell_type": "markdown",
      "source": [
        "# Uso de funciones\n",
        "**Crear una calculadora con las operaciones basicas**"
      ],
      "metadata": {
        "id": "7WeOSZVjV1MQ"
      }
    },
    {
      "cell_type": "markdown",
      "source": [
        "# Uso de clases y objetos\n",
        "**Crear un objeto calculadora con las operaciones basicas y pueda ser consumida a partir de un objeto**"
      ],
      "metadata": {
        "id": "hWExtw_WV8Ac"
      }
    },
    {
      "cell_type": "code",
      "source": [
        "n1 = float(input(\"Favor introducir primer digito numerico: \") )\n",
        "n2 = float(input(\"Favor introducir primer digito numerico: \") )\n",
        "\n",
        "opcion = 0\n",
        "while True:\n",
        "    print('¿Que operacion desea realizar')\n",
        "    print('1) Suma')\n",
        "    print('2) Resta')\n",
        "    print('3) Producto')\n",
        "    print('4) otra operacion')\n",
        "    print('5) Fimalizar Calc')\n",
        "    opcion = int(input(\"Elige una opción: \") ) \n",
        "    if opcion == 1:\n",
        "        print(\" \")\n",
        "        print(\"RESULTADO: La suma de\",n1,\"+\",n2,\"es igual a\",n1+n2)\n",
        "    elif opcion == 2:\n",
        "        print(\" \")\n",
        "        print(\"RESULTADO: La resta de\",n1,\"-\",n2,\"es igual a\",n1-n2)\n",
        "    elif opcion == 3:\n",
        "        print(\" \")\n",
        "        print(\"RESULTADO: El producto de\",n1,\"*\",n2,\"es igual a\",n1*n2)\n",
        "    elif opcion == 4:\n",
        "        n1 = float(input(\"Introduce tu primer número: \") )\n",
        "        n2 = float(input(\"Introduce tu segundo número: \") )\n",
        "    elif opcion == 5:\n",
        "        break\n",
        "    else:\n",
        "        print(\"Opción incorrecta\")"
      ],
      "metadata": {
        "id": "2DBE80S9wThQ"
      },
      "execution_count": null,
      "outputs": []
    }
  ]
}